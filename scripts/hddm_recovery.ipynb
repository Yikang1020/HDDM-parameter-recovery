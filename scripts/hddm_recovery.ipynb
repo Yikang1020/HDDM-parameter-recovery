{
 "cells": [
  {
   "cell_type": "code",
   "execution_count": 10,
   "id": "115dfb41-45ad-46c2-8ca3-397923e9d53e",
   "metadata": {},
   "outputs": [],
   "source": [
    "from collections import OrderedDict\n",
    "from copy import deepcopy\n",
    "\n",
    "import numpy as np\n",
    "import pandas as pd\n",
    "\n",
    "import matplotlib.pyplot as plt\n",
    "import seaborn as sns\n",
    "\n",
    "import kabuki\n",
    "\n",
    "import hddm\n",
    "from hddm import HDDMRegressor\n",
    "\n",
    "from scipy.stats import pearsonr"
   ]
  },
  {
   "cell_type": "code",
   "execution_count": 11,
   "id": "491eee49-f47d-4c02-8b55-0cf108452ffc",
   "metadata": {},
   "outputs": [],
   "source": [
    "run_type='regress'\n",
    "\n",
    "estimators=['HDDMRegressor']\n",
    "\n",
    "n_subjs=12\n",
    "n_trials=50\n",
    "\n",
    "seed_data=1\n",
    "seed_params=1\n",
    "\n",
    "equal_seeds=True\n",
    "\n",
    "factor3_vals=0.5\n",
    "\n",
    "include=['sv']\n",
    "depends_on = {}\n",
    "\n",
    "#kwargs for initialize estimation\n",
    "init = OrderedDict([('include', include), \n",
    "                    ('depends_on', depends_on)])\n",
    "#kwargs for estimation\n",
    "estimate = OrderedDict([('runs', 3)])\n",
    "\n",
    "#include params\n",
    "params = OrderedDict([('include', include)])\n",
    "#subject noise\n",
    "subj_noise = OrderedDict([('v', 0.2),\n",
    "                          ('a', 0.2), \n",
    "                          ('t', 0.1),\n",
    "                          ('sv',0.1),\n",
    "                          ('v_inter',0.1)])\n",
    "#estimator_dict\n",
    "estimator_dict = OrderedDict()\n",
    "\n",
    "#sampling params\n",
    "hddm_sampling_params = OrderedDict([('samples', 1500), \n",
    "                                    ('burn', 500), \n",
    "                                    ('map', False)])\n",
    "#sampling\n",
    "estimator_dict['HDDMRegressor'] = OrderedDict([('estimator', EstimationHDDMRegressor), \n",
    "                                                   ('params', hddm_sampling_params)])"
   ]
  },
  {
   "cell_type": "code",
   "execution_count": 12,
   "id": "530981c0-bac8-4cbd-a8c1-21ce78511d9f",
   "metadata": {},
   "outputs": [],
   "source": [
    "cur_trials=50\n",
    "cur_subjs=10\n",
    "cur_value=factor3_vals\n",
    "effect = cur_value\n",
    "n_conds=2\n",
    "#create kw_dict\n",
    "kw_dict = OrderedDict([('params', params), \n",
    "                       ('init', init), \n",
    "                       ('estimate', estimate), \n",
    "                       ('n_conds', n_conds)])\n",
    "exclude = set(['sv','st','sz','z', 'reg_outcomes'])\n",
    "cur_outliers = 0\n",
    "n_outliers = int(cur_trials * cur_outliers)\n",
    "n_fast_outliers = (n_outliers // 2)\n",
    "n_slow_outliers = n_outliers - n_fast_outliers\n",
    "data = OrderedDict([('subjs', cur_subjs), \n",
    "                    ('subj_noise', subj_noise), \n",
    "                    ('size', cur_trials - n_outliers),\n",
    "                    ('exclude_params', exclude)])\n",
    "kw_dict['data'] = data"
   ]
  },
  {
   "cell_type": "code",
   "execution_count": 13,
   "id": "5b0ad66b-17f3-47ef-8aeb-ceafb1c22929",
   "metadata": {},
   "outputs": [
    {
     "data": {
      "text/plain": [
       "OrderedDict([('params', OrderedDict([('include', ['sv'])])),\n",
       "             ('init', OrderedDict([('include', ['sv']), ('depends_on', {})])),\n",
       "             ('estimate', OrderedDict([('runs', 3)])),\n",
       "             ('n_conds', 2),\n",
       "             ('data',\n",
       "              OrderedDict([('subjs', 10),\n",
       "                           ('subj_noise',\n",
       "                            OrderedDict([('v', 0.2),\n",
       "                                         ('a', 0.2),\n",
       "                                         ('t', 0.1),\n",
       "                                         ('sv', 0.1),\n",
       "                                         ('v_inter', 0.1)])),\n",
       "                           ('size', 50),\n",
       "                           ('exclude_params',\n",
       "                            {'reg_outcomes', 'st', 'sv', 'sz', 'z'})]))])"
      ]
     },
     "execution_count": 13,
     "metadata": {},
     "output_type": "execute_result"
    }
   ],
   "source": [
    "kw_dict"
   ]
  },
  {
   "cell_type": "code",
   "execution_count": 14,
   "id": "c571a891-d6f4-4902-aa6e-a77489434976",
   "metadata": {},
   "outputs": [
    {
     "data": {
      "text/plain": [
       "OrderedDict([('subjs', 10),\n",
       "             ('subj_noise',\n",
       "              OrderedDict([('v', 0.2),\n",
       "                           ('a', 0.2),\n",
       "                           ('t', 0.1),\n",
       "                           ('sv', 0.1),\n",
       "                           ('v_inter', 0.1)])),\n",
       "             ('size', 50),\n",
       "             ('exclude_params', {'reg_outcomes', 'st', 'sv', 'sz', 'z'})])"
      ]
     },
     "execution_count": 14,
     "metadata": {},
     "output_type": "execute_result"
    }
   ],
   "source": [
    "data"
   ]
  },
  {
   "cell_type": "code",
   "execution_count": 15,
   "id": "46cd0d73-c22f-4614-8f09-3cb8f8930979",
   "metadata": {},
   "outputs": [
    {
     "data": {
      "text/plain": [
       "OrderedDict([('HDDMRegressor',\n",
       "              OrderedDict([('estimator', __main__.EstimationHDDMRegressor),\n",
       "                           ('params',\n",
       "                            OrderedDict([('samples', 1500),\n",
       "                                         ('burn', 500),\n",
       "                                         ('map', False)]))]))])"
      ]
     },
     "execution_count": 15,
     "metadata": {},
     "output_type": "execute_result"
    }
   ],
   "source": [
    "estimator_dict"
   ]
  },
  {
   "cell_type": "code",
   "execution_count": 16,
   "id": "ae671652-942e-4fa7-8fe4-cea5a8de2398",
   "metadata": {},
   "outputs": [],
   "source": [
    "model_name = 'HDDMRegressor'\n",
    "descr = estimator_dict['HDDMRegressor']\n",
    "#create kw_dict\n",
    "kw_dict_model = deepcopy(kw_dict)\n",
    "kw_dict_model['estimate'] = descr['params']\n",
    "def reg_func(args, cols):\n",
    "    return args[0]*cols[:,0]+args[1]\n",
    "reg = {'func': reg_func, \n",
    "       'args':['v_slope','v_inter'], \n",
    "       'covariates': 'cov', \n",
    "       'outcome':'v'}\n",
    "reg = OrderedDict(sorted(reg.items(), key=lambda t: t[0]))\n",
    "kw_dict_model['init']['regressor'] = reg\n",
    "kw_dict_model['init']['depends_on'] = {}"
   ]
  },
  {
   "cell_type": "code",
   "execution_count": 17,
   "id": "df29d16c-0af3-4f68-8e13-b431c7261a02",
   "metadata": {},
   "outputs": [
    {
     "data": {
      "text/plain": [
       "OrderedDict([('params', OrderedDict([('include', ['sv'])])),\n",
       "             ('init',\n",
       "              OrderedDict([('include', ['sv']),\n",
       "                           ('depends_on', {}),\n",
       "                           ('regressor',\n",
       "                            OrderedDict([('args', ['v_slope', 'v_inter']),\n",
       "                                         ('covariates', 'cov'),\n",
       "                                         ('func',\n",
       "                                          <function __main__.reg_func(args, cols)>),\n",
       "                                         ('outcome', 'v')]))])),\n",
       "             ('estimate',\n",
       "              OrderedDict([('samples', 1500), ('burn', 500), ('map', False)])),\n",
       "             ('n_conds', 2),\n",
       "             ('data',\n",
       "              OrderedDict([('subjs', 10),\n",
       "                           ('subj_noise',\n",
       "                            OrderedDict([('v', 0.2),\n",
       "                                         ('a', 0.2),\n",
       "                                         ('t', 0.1),\n",
       "                                         ('sv', 0.1),\n",
       "                                         ('v_inter', 0.1)])),\n",
       "                           ('size', 50),\n",
       "                           ('exclude_params',\n",
       "                            {'reg_outcomes', 'st', 'sv', 'sz', 'z'})]))])"
      ]
     },
     "execution_count": 17,
     "metadata": {},
     "output_type": "execute_result"
    }
   ],
   "source": [
    "kw_dict_model"
   ]
  },
  {
   "cell_type": "code",
   "execution_count": 18,
   "id": "4b8d42ec-c5d9-4c0b-9677-7748e5adcbb5",
   "metadata": {},
   "outputs": [],
   "source": [
    "estimation = descr['estimator']"
   ]
  },
  {
   "cell_type": "code",
   "execution_count": 19,
   "id": "921f9faa-63f4-4d0f-a8b6-c27f0b8dd027",
   "metadata": {},
   "outputs": [],
   "source": [
    "params = hddm.generate.gen_rand_params(kw_dict['params']['include'][0])\n",
    "params['v_slope'] = effect\n",
    "params['v_inter'] = 1\n",
    "params['sv'] = 0\n",
    "del params['v']\n",
    "kw_dict_model['estimator_class'] = estimation.__name__\n",
    "params['reg_outcomes'] = 'v'"
   ]
  },
  {
   "cell_type": "code",
   "execution_count": 20,
   "id": "e7f397b5-94d1-4a7f-ac86-7f3c399eb379",
   "metadata": {},
   "outputs": [
    {
     "data": {
      "text/plain": [
       "{'sv': 0,\n",
       " 'sz': 0,\n",
       " 'st': 0,\n",
       " 'z': 0.5,\n",
       " 't': 0.4056455481292945,\n",
       " 'a': 1.2845511344303753,\n",
       " 'v_slope': 0.5,\n",
       " 'v_inter': 1,\n",
       " 'reg_outcomes': 'v'}"
      ]
     },
     "execution_count": 20,
     "metadata": {},
     "output_type": "execute_result"
    }
   ],
   "source": [
    "params"
   ]
  },
  {
   "cell_type": "code",
   "execution_count": 21,
   "id": "53c956ad-6e00-4735-8ca7-be32518d76e9",
   "metadata": {},
   "outputs": [
    {
     "data": {
      "text/plain": [
       "OrderedDict([('params', OrderedDict([('include', ['sv'])])),\n",
       "             ('init',\n",
       "              OrderedDict([('include', ['sv']),\n",
       "                           ('depends_on', {}),\n",
       "                           ('regressor',\n",
       "                            OrderedDict([('args', ['v_slope', 'v_inter']),\n",
       "                                         ('covariates', 'cov'),\n",
       "                                         ('func',\n",
       "                                          <function __main__.reg_func(args, cols)>),\n",
       "                                         ('outcome', 'v')]))])),\n",
       "             ('estimate',\n",
       "              OrderedDict([('samples', 1500), ('burn', 500), ('map', False)])),\n",
       "             ('n_conds', 2),\n",
       "             ('data',\n",
       "              OrderedDict([('subjs', 10),\n",
       "                           ('subj_noise',\n",
       "                            OrderedDict([('v', 0.2),\n",
       "                                         ('a', 0.2),\n",
       "                                         ('t', 0.1),\n",
       "                                         ('sv', 0.1),\n",
       "                                         ('v_inter', 0.1)])),\n",
       "                           ('size', 50),\n",
       "                           ('exclude_params',\n",
       "                            {'reg_outcomes', 'st', 'sv', 'sz', 'z'})])),\n",
       "             ('estimator_class', 'EstimationHDDMRegressor')])"
      ]
     },
     "execution_count": 21,
     "metadata": {},
     "output_type": "execute_result"
    }
   ],
   "source": [
    "kw_dict_model"
   ]
  },
  {
   "cell_type": "code",
   "execution_count": 22,
   "id": "c62ff4ad-b913-4a09-ada7-5804ca6cb218",
   "metadata": {},
   "outputs": [],
   "source": [
    "share_noise = ('a','v','t','st','sz','sv','z', 'v_slope', 'v_inter')\n",
    "\n",
    "# set valid param ranges\n",
    "bounds = {'a': (0, np.inf),\n",
    "          'z': (0, 1),\n",
    "          't': (0, np.inf),\n",
    "          'st': (0, np.inf),\n",
    "          'sv': (0, np.inf),\n",
    "          'sz': (0, 1)\n",
    "}\n",
    "subj_params = kabuki.generate._add_noise({'none': params}, \n",
    "                           noise=OrderedDict([('v', 0.2),\n",
    "                           ('a', 0.2),\n",
    "                           ('t', 0.1),\n",
    "                           ('sv', 0.1),\n",
    "                           ('v_inter', 0.1)]), \n",
    "                           share_noise=share_noise,\n",
    "                                    check_valid_func=hddm.utils.check_params_valid,\n",
    "                                    bounds=bounds,\n",
    "                                    exclude_params={'reg_outcomes', 'st', 'sv', 'sz', 'z'})['none']"
   ]
  },
  {
   "cell_type": "code",
   "execution_count": 23,
   "id": "64d57b7c-91f5-4034-84d5-c103f0a61337",
   "metadata": {},
   "outputs": [
    {
     "data": {
      "text/plain": [
       "{'sv': 0,\n",
       " 'sz': 0,\n",
       " 'st': 0,\n",
       " 'z': 0.5,\n",
       " 't': 0.6314545822009845,\n",
       " 'a': 1.1557478921030353,\n",
       " 'v_slope': 0.5,\n",
       " 'v_inter': 1.041523222493516,\n",
       " 'reg_outcomes': 'v'}"
      ]
     },
     "execution_count": 23,
     "metadata": {},
     "output_type": "execute_result"
    }
   ],
   "source": [
    "subj_params"
   ]
  },
  {
   "cell_type": "code",
   "execution_count": 24,
   "id": "acbac014-dc80-4e2c-8c5a-9d3785e558c8",
   "metadata": {},
   "outputs": [],
   "source": [
    "group_params=[]\n",
    "group_params.append(subj_params)\n",
    "#generate v\n",
    "wfpt_params = deepcopy(subj_params)\n",
    "wfpt_params.pop('v_inter')\n",
    "effect = wfpt_params.pop('v_slope')"
   ]
  },
  {
   "cell_type": "code",
   "execution_count": 25,
   "id": "0ccc2ffd-3ae4-40ee-a4e7-3ca8f7d13617",
   "metadata": {},
   "outputs": [
    {
     "data": {
      "text/plain": [
       "{'sv': 0,\n",
       " 'sz': 0,\n",
       " 'st': 0,\n",
       " 'z': 0.5,\n",
       " 't': 0.6314545822009845,\n",
       " 'a': 1.1557478921030353,\n",
       " 'reg_outcomes': 'v'}"
      ]
     },
     "execution_count": 25,
     "metadata": {},
     "output_type": "execute_result"
    }
   ],
   "source": [
    "wfpt_params"
   ]
  },
  {
   "cell_type": "code",
   "execution_count": 26,
   "id": "8fc54bb7-1230-4baf-a4b6-e3d4c5fc2fcd",
   "metadata": {},
   "outputs": [
    {
     "data": {
      "text/plain": [
       "0.5"
      ]
     },
     "execution_count": 26,
     "metadata": {},
     "output_type": "execute_result"
    }
   ],
   "source": [
    "effect"
   ]
  },
  {
   "cell_type": "code",
   "execution_count": 27,
   "id": "17dbd24a-ef60-4298-a78c-95d5e804ddda",
   "metadata": {},
   "outputs": [
    {
     "data": {
      "text/plain": [
       "1.041523222493516"
      ]
     },
     "execution_count": 27,
     "metadata": {},
     "output_type": "execute_result"
    }
   ],
   "source": [
    "subj_params['v_inter']"
   ]
  },
  {
   "cell_type": "code",
   "execution_count": 28,
   "id": "7e97e9c6-246a-4b87-9189-9d4bfb75a6d0",
   "metadata": {},
   "outputs": [],
   "source": [
    "x1 = np.random.randn(500)\n",
    "x2 = np.random.randn(500)\n",
    "wfpt_params['v'] = (effect*x1 + np.sqrt(1-effect**2)*x2) + subj_params['v_inter'];"
   ]
  },
  {
   "cell_type": "code",
   "execution_count": 29,
   "id": "79b68eb7-ee52-43b2-933d-9f35f19a428b",
   "metadata": {},
   "outputs": [
    {
     "data": {
      "text/plain": [
       "1.0099135291201031"
      ]
     },
     "execution_count": 29,
     "metadata": {},
     "output_type": "execute_result"
    }
   ],
   "source": [
    "wfpt_params['v'].mean()"
   ]
  },
  {
   "cell_type": "code",
   "execution_count": 30,
   "id": "1c3c3b08-5a51-46f9-a01d-2745b0c88484",
   "metadata": {},
   "outputs": [],
   "source": [
    "def gen_regression_rts(size, reg_outcomes, p_outlier=0, **params_dict):\n",
    "\n",
    "    i_params = deepcopy(params_dict)\n",
    "    sampled_rts = pd.DataFrame(np.zeros((size, 2)), columns=['rt', 'response'])\n",
    "    for i_sample in range(len(sampled_rts)):\n",
    "        #get current params\n",
    "        for p in reg_outcomes:\n",
    "            i_params[p] = params_dict[p][i_sample]\n",
    "        #sample\n",
    "        sampled_rts.iloc[i_sample,:] = hddm.generate.gen_rts(size=1, method='drift', dt=1e-3, **i_params).values\n",
    "    return sampled_rts"
   ]
  },
  {
   "cell_type": "code",
   "execution_count": 31,
   "id": "7d0a920e-60d0-4709-9403-839b35bc46b5",
   "metadata": {},
   "outputs": [],
   "source": [
    "data, group_params = kabuki.generate.gen_rand_data(gen_regression_rts, \n",
    "                              wfpt_params,\n",
    "                              size=500,\n",
    "                              check_valid_func=hddm.utils.check_params_valid,\n",
    "                              bounds=bounds, \n",
    "                              share_noise=share_noise)"
   ]
  },
  {
   "cell_type": "code",
   "execution_count": 32,
   "id": "d604dae2-1ed7-4fe7-a49c-b2150f4aea7d",
   "metadata": {},
   "outputs": [],
   "source": [
    "data['cov']=x1"
   ]
  },
  {
   "cell_type": "code",
   "execution_count": 33,
   "id": "f3f1eb38-30cb-4c25-af87-f741fda20518",
   "metadata": {},
   "outputs": [
    {
     "data": {
      "text/plain": [
       "OrderedDict([('include', ['sv']),\n",
       "             ('depends_on', {}),\n",
       "             ('regressor',\n",
       "              OrderedDict([('args', ['v_slope', 'v_inter']),\n",
       "                           ('covariates', 'cov'),\n",
       "                           ('func', <function __main__.reg_func(args, cols)>),\n",
       "                           ('outcome', 'v')]))])"
      ]
     },
     "execution_count": 33,
     "metadata": {},
     "output_type": "execute_result"
    }
   ],
   "source": [
    "kw_dict_model['init']"
   ]
  },
  {
   "cell_type": "code",
   "execution_count": 34,
   "id": "106850c8-60f7-45d3-baca-85a560a8610b",
   "metadata": {},
   "outputs": [
    {
     "data": {
      "text/plain": [
       "OrderedDict([('runs', 3)])"
      ]
     },
     "execution_count": 34,
     "metadata": {},
     "output_type": "execute_result"
    }
   ],
   "source": [
    "estimate"
   ]
  },
  {
   "cell_type": "code",
   "execution_count": 35,
   "id": "316cbe1a-1f24-48d7-9ff8-273087232d6b",
   "metadata": {},
   "outputs": [
    {
     "data": {
      "text/plain": [
       "OrderedDict([('samples', 1500), ('burn', 500), ('map', False)])"
      ]
     },
     "execution_count": 35,
     "metadata": {},
     "output_type": "execute_result"
    }
   ],
   "source": [
    "kw_dict_model['estimate']"
   ]
  },
  {
   "cell_type": "code",
   "execution_count": 36,
   "id": "9045d6b6-23a7-4d33-b4b1-5001dc6877a5",
   "metadata": {},
   "outputs": [
    {
     "data": {
      "text/plain": [
       "1.0099135291201031"
      ]
     },
     "execution_count": 36,
     "metadata": {},
     "output_type": "execute_result"
    }
   ],
   "source": [
    "group_params['v'].mean()"
   ]
  },
  {
   "cell_type": "code",
   "execution_count": 37,
   "id": "0f251edd-c9da-45d4-9060-f68193d39390",
   "metadata": {},
   "outputs": [
    {
     "name": "stdout",
     "output_type": "stream",
     "text": [
      "Adding these covariates:\n",
      "['v_Intercept', 'v_cov']\n",
      " [-----------------100%-----------------] 2000 of 2000 complete in 24.0 sec"
     ]
    },
    {
     "data": {
      "text/plain": [
       "<pymc.MCMC.MCMC at 0x7fa6bc3fa700>"
      ]
     },
     "execution_count": 37,
     "metadata": {},
     "output_type": "execute_result"
    }
   ],
   "source": [
    "m = HDDMRegressor(data,\n",
    "                 'v~cov')\n",
    "m.sample(2000,burn=1000)"
   ]
  },
  {
   "cell_type": "code",
   "execution_count": 38,
   "id": "5e52a58e-e0d4-4c80-aeeb-228e2e58142a",
   "metadata": {},
   "outputs": [
    {
     "data": {
      "text/html": [
       "<div>\n",
       "<style scoped>\n",
       "    .dataframe tbody tr th:only-of-type {\n",
       "        vertical-align: middle;\n",
       "    }\n",
       "\n",
       "    .dataframe tbody tr th {\n",
       "        vertical-align: top;\n",
       "    }\n",
       "\n",
       "    .dataframe thead th {\n",
       "        text-align: right;\n",
       "    }\n",
       "</style>\n",
       "<table border=\"1\" class=\"dataframe\">\n",
       "  <thead>\n",
       "    <tr style=\"text-align: right;\">\n",
       "      <th></th>\n",
       "      <th>rt</th>\n",
       "      <th>response</th>\n",
       "      <th>subj_idx</th>\n",
       "      <th>condition</th>\n",
       "      <th>cov</th>\n",
       "    </tr>\n",
       "  </thead>\n",
       "  <tbody>\n",
       "    <tr>\n",
       "      <th>0</th>\n",
       "      <td>1.240729</td>\n",
       "      <td>1.0</td>\n",
       "      <td>0</td>\n",
       "      <td>none</td>\n",
       "      <td>-0.843039</td>\n",
       "    </tr>\n",
       "    <tr>\n",
       "      <th>1</th>\n",
       "      <td>0.742729</td>\n",
       "      <td>1.0</td>\n",
       "      <td>0</td>\n",
       "      <td>none</td>\n",
       "      <td>1.735573</td>\n",
       "    </tr>\n",
       "    <tr>\n",
       "      <th>2</th>\n",
       "      <td>0.720729</td>\n",
       "      <td>1.0</td>\n",
       "      <td>0</td>\n",
       "      <td>none</td>\n",
       "      <td>1.170850</td>\n",
       "    </tr>\n",
       "    <tr>\n",
       "      <th>3</th>\n",
       "      <td>0.958729</td>\n",
       "      <td>1.0</td>\n",
       "      <td>0</td>\n",
       "      <td>none</td>\n",
       "      <td>0.231936</td>\n",
       "    </tr>\n",
       "    <tr>\n",
       "      <th>4</th>\n",
       "      <td>0.698729</td>\n",
       "      <td>1.0</td>\n",
       "      <td>0</td>\n",
       "      <td>none</td>\n",
       "      <td>-0.481194</td>\n",
       "    </tr>\n",
       "    <tr>\n",
       "      <th>...</th>\n",
       "      <td>...</td>\n",
       "      <td>...</td>\n",
       "      <td>...</td>\n",
       "      <td>...</td>\n",
       "      <td>...</td>\n",
       "    </tr>\n",
       "    <tr>\n",
       "      <th>495</th>\n",
       "      <td>0.894729</td>\n",
       "      <td>1.0</td>\n",
       "      <td>0</td>\n",
       "      <td>none</td>\n",
       "      <td>0.914292</td>\n",
       "    </tr>\n",
       "    <tr>\n",
       "      <th>496</th>\n",
       "      <td>0.978729</td>\n",
       "      <td>0.0</td>\n",
       "      <td>0</td>\n",
       "      <td>none</td>\n",
       "      <td>-0.525856</td>\n",
       "    </tr>\n",
       "    <tr>\n",
       "      <th>497</th>\n",
       "      <td>0.846729</td>\n",
       "      <td>1.0</td>\n",
       "      <td>0</td>\n",
       "      <td>none</td>\n",
       "      <td>0.132006</td>\n",
       "    </tr>\n",
       "    <tr>\n",
       "      <th>498</th>\n",
       "      <td>0.928729</td>\n",
       "      <td>1.0</td>\n",
       "      <td>0</td>\n",
       "      <td>none</td>\n",
       "      <td>-0.469006</td>\n",
       "    </tr>\n",
       "    <tr>\n",
       "      <th>499</th>\n",
       "      <td>1.148729</td>\n",
       "      <td>1.0</td>\n",
       "      <td>0</td>\n",
       "      <td>none</td>\n",
       "      <td>0.359485</td>\n",
       "    </tr>\n",
       "  </tbody>\n",
       "</table>\n",
       "<p>500 rows × 5 columns</p>\n",
       "</div>"
      ],
      "text/plain": [
       "           rt  response  subj_idx condition       cov\n",
       "0    1.240729       1.0         0      none -0.843039\n",
       "1    0.742729       1.0         0      none  1.735573\n",
       "2    0.720729       1.0         0      none  1.170850\n",
       "3    0.958729       1.0         0      none  0.231936\n",
       "4    0.698729       1.0         0      none -0.481194\n",
       "..        ...       ...       ...       ...       ...\n",
       "495  0.894729       1.0         0      none  0.914292\n",
       "496  0.978729       0.0         0      none -0.525856\n",
       "497  0.846729       1.0         0      none  0.132006\n",
       "498  0.928729       1.0         0      none -0.469006\n",
       "499  1.148729       1.0         0      none  0.359485\n",
       "\n",
       "[500 rows x 5 columns]"
      ]
     },
     "execution_count": 38,
     "metadata": {},
     "output_type": "execute_result"
    }
   ],
   "source": [
    "data"
   ]
  },
  {
   "cell_type": "code",
   "execution_count": 39,
   "id": "d7c94b75-0812-45dd-be81-36c9eed3aa42",
   "metadata": {},
   "outputs": [
    {
     "name": "stdout",
     "output_type": "stream",
     "text": [
      "a is 1.1557478921030353\n",
      " z is 0.5\n",
      " t is 0.6314545822009845\n",
      " v is 1.0099135291201031\n",
      " effect is 0.5\n",
      "\n"
     ]
    }
   ],
   "source": [
    "print(f'a is {group_params[\"a\"]}\\n',\n",
    "      f'z is {group_params[\"z\"]}\\n',\n",
    "      f't is {group_params[\"t\"]}\\n',\n",
    "      f'v is {group_params[\"v\"].mean()}\\n',\n",
    "      f'effect is {effect}\\n')"
   ]
  },
  {
   "cell_type": "code",
   "execution_count": 40,
   "id": "d6413224-34eb-430c-8d0a-14b77bcbb770",
   "metadata": {},
   "outputs": [
    {
     "name": "stdout",
     "output_type": "stream",
     "text": [
      "Plotting a\n",
      "Plotting t\n",
      "Plotting v_Intercept\n",
      "Plotting v_cov\n"
     ]
    },
    {
     "data": {
      "image/png": "[encoded data removed]",
      "text/plain": [
       "<Figure size 720x432 with 3 Axes>"
      ]
     },
     "metadata": {
      "needs_background": "light"
     },
     "output_type": "display_data"
    },
    {
     "data": {
      "image/png": "[encoded data removed]",
      "text/plain": [
       "<Figure size 720x432 with 3 Axes>"
      ]
     },
     "metadata": {
      "needs_background": "light"
     },
     "output_type": "display_data"
    },
    {
     "data": {
      "image/png": "[encoded data removed]",
      "text/plain": [
       "<Figure size 720x432 with 3 Axes>"
      ]
     },
     "metadata": {
      "needs_background": "light"
     },
     "output_type": "display_data"
    },
    {
     "data": {
      "image/png": "[encoded data removed]",
      "text/plain": [
       "<Figure size 720x432 with 3 Axes>"
      ]
     },
     "metadata": {
      "needs_background": "light"
     },
     "output_type": "display_data"
    }
   ],
   "source": [
    "m.plot_posteriors()"
   ]
  },
  {
   "cell_type": "code",
   "execution_count": 43,
   "id": "f3b0fdc3-ebd2-4401-b253-120d7a803b37",
   "metadata": {},
   "outputs": [
    {
     "data": {
      "text/plain": [
       "{'sv': 0,\n",
       " 'sz': 0,\n",
       " 'st': 0,\n",
       " 'z': 0.5,\n",
       " 't': 0.6314545822009845,\n",
       " 'a': 1.1557478921030353,\n",
       " 'reg_outcomes': 'v',\n",
       " 'v': array([ 1.27236755e+00,  2.46092982e+00,  2.43719911e+00,  1.95775567e+00,\n",
       "         1.63353153e+00, -5.10834914e-01,  1.79539596e+00,  4.36015002e-01,\n",
       "         4.92571982e-01,  2.62689985e+00,  1.59051549e+00,  1.37624362e+00,\n",
       "         1.25148806e+00,  9.42533154e-01,  7.54492441e-01,  2.16853847e-01,\n",
       "         1.20221372e+00,  6.40636135e-01,  3.38486304e-01,  2.40547068e+00,\n",
       "         1.82315084e+00,  8.14128446e-01,  2.39825764e+00,  2.22354004e+00,\n",
       "         8.63819630e-01,  1.43031299e+00,  2.07933583e+00,  2.26214202e+00,\n",
       "         1.90338495e-01,  4.87518776e-01, -4.67092521e-01,  2.48807878e+00,\n",
       "         2.43161379e-01,  1.14038609e+00, -1.19759414e-01,  1.09224837e+00,\n",
       "         2.13338033e+00,  9.22814489e-01, -3.04288125e-01,  8.44979357e-01,\n",
       "         1.42073726e+00,  2.27909909e+00,  2.28174029e+00,  7.84552312e-02,\n",
       "         1.83674806e+00,  5.26370991e-01,  1.72705775e-01,  2.60029041e+00,\n",
       "         2.46787314e+00,  1.25321824e+00,  3.90004046e-01,  6.78515086e-01,\n",
       "         1.66430708e+00,  2.00161968e+00,  2.61413632e+00,  2.82029365e+00,\n",
       "         1.09055059e+00,  3.37868661e-01,  9.57230918e-01, -3.05308633e-01,\n",
       "         4.07103157e+00,  8.73379561e-01,  2.88006732e+00,  2.34730589e+00,\n",
       "         1.49774629e+00,  6.91315760e-01,  4.49734384e-01,  1.20064227e+00,\n",
       "         2.37057528e+00,  1.71196707e+00,  2.34461771e+00,  1.63270421e+00,\n",
       "         1.40267242e-01, -3.74954234e-02,  1.31616984e+00, -7.13789452e-01,\n",
       "         2.05975959e+00, -1.27332744e-01, -1.62642514e-01,  1.05616557e+00,\n",
       "         2.29972608e+00,  2.00795067e+00, -6.00925842e-01,  9.03315896e-01,\n",
       "         1.05039832e+00,  2.33347614e+00,  1.57942614e+00,  1.67217504e+00,\n",
       "         3.76339805e+00, -2.38453216e-02,  1.89207802e+00, -3.62750995e-02,\n",
       "         8.88738738e-01,  1.73383438e+00,  8.06357187e-01,  1.94670402e+00,\n",
       "         2.30373789e+00,  1.28491498e+00,  3.58544498e+00,  7.08472180e-01,\n",
       "         7.69917641e-01, -1.81787130e-01,  1.19088864e-02, -4.72931852e-01,\n",
       "         2.53089429e-01,  5.59458993e-01, -4.80665505e-01,  8.45454402e-01,\n",
       "         1.14341479e+00,  2.41736605e+00,  1.34764256e+00, -5.64615412e-02,\n",
       "         3.41360040e-01,  5.59903411e-01, -4.69323731e-01,  1.85940103e+00,\n",
       "         3.55837419e-01, -1.50360557e+00,  9.82587955e-01,  1.53836733e+00,\n",
       "        -3.67487588e-03,  1.15706862e+00,  1.34662504e+00,  9.55161072e-02,\n",
       "         1.52274749e+00,  8.44502016e-02,  1.44804613e+00,  1.44275146e+00,\n",
       "         5.80762322e-01,  1.13571954e+00, -1.41951412e-01,  2.21452663e+00,\n",
       "        -1.63540670e-01, -7.29702922e-01,  1.13929058e+00,  1.40753698e+00,\n",
       "         3.83296672e-01, -2.92604380e-01,  8.76434942e-01,  2.86373976e+00,\n",
       "         2.59335322e-01,  8.52493244e-01, -8.91740408e-02,  2.35964841e+00,\n",
       "         4.14808370e-02,  8.29328805e-02,  1.95127468e-01,  1.22029847e-01,\n",
       "         1.43114503e+00,  4.71089385e-01,  2.62431432e-01,  1.20457205e+00,\n",
       "         6.26862067e-01,  1.30294326e+00,  1.68284087e+00,  1.15284142e+00,\n",
       "         3.44338721e+00,  9.90004968e-01,  5.53061328e-01,  2.03020306e+00,\n",
       "         7.45467687e-01,  4.95541139e-01,  1.37509005e+00,  1.28067725e+00,\n",
       "        -2.86133790e-01,  3.06493549e+00,  1.34866770e+00, -9.21268680e-01,\n",
       "         1.69255391e-01,  1.04256950e+00, -8.19130434e-01,  1.59795357e-01,\n",
       "         1.23342518e+00,  1.52265624e+00, -3.95642165e-01, -3.44473064e-01,\n",
       "        -3.66175921e-02,  1.36109574e+00,  1.03945523e+00,  1.76700426e+00,\n",
       "         2.82748304e+00,  2.46464055e+00,  1.02646349e+00,  1.30930496e+00,\n",
       "         7.17439465e-01, -3.14508245e-01,  2.99911953e-01,  1.73994042e+00,\n",
       "         6.89982375e-01,  7.60339937e-01,  1.65733193e+00,  1.64391208e+00,\n",
       "         2.15947529e+00,  1.91975730e+00,  1.17405358e+00,  4.58728456e-01,\n",
       "         1.25181703e+00,  9.30315005e-01,  2.79945375e-03, -1.96731777e-01,\n",
       "        -3.13992385e-02,  1.49420008e+00, -4.01206155e-01,  8.45200447e-01,\n",
       "         1.27910821e+00,  1.91778042e+00,  1.10392423e+00,  4.11313504e-01,\n",
       "        -6.28407986e-01,  7.90548090e-02,  1.73093797e+00,  1.05255834e+00,\n",
       "         2.54666314e+00,  3.96071577e+00, -5.52305782e-01, -1.76660065e-01,\n",
       "         1.04237019e+00,  1.30040338e+00,  1.75831241e+00,  1.79928221e+00,\n",
       "         4.77567637e-01,  4.92210093e-01,  2.13785935e+00,  1.39674726e+00,\n",
       "        -2.01282655e-01,  5.93289018e-01,  1.78006076e+00, -2.29445754e-01,\n",
       "         9.12703871e-01, -7.46845787e-01, -3.11443159e-01,  1.71897064e+00,\n",
       "         1.17880602e+00,  7.04089300e-01,  1.76071122e+00,  1.23420761e+00,\n",
       "         2.57349848e+00,  3.90644095e-01,  1.16192390e+00,  8.92569919e-01,\n",
       "         1.65064731e-01,  2.44231277e+00,  1.25177875e+00,  1.33019471e+00,\n",
       "        -2.86458277e-01,  1.75518452e+00,  2.78466172e+00,  8.41135623e-02,\n",
       "         3.19033788e-01,  2.67041693e+00,  1.35175160e-02, -8.18031952e-02,\n",
       "         1.22376999e+00,  1.28073723e+00,  2.64317421e+00,  6.21263365e-01,\n",
       "         2.53746806e+00,  3.39357690e-01, -5.13373266e-01,  1.73304357e+00,\n",
       "        -5.72666834e-01,  1.40875935e+00,  8.74346392e-01,  1.82785559e+00,\n",
       "         3.01683223e+00,  3.45585954e+00, -6.42997419e-01,  6.82279545e-01,\n",
       "        -1.02246042e-02, -4.93142570e-02,  2.21364640e+00,  1.24425600e-01,\n",
       "         2.27047004e+00, -3.47065531e-01, -1.39969881e+00,  2.03802015e+00,\n",
       "         1.29540770e+00,  1.55617568e+00,  2.63840694e-01,  2.78173703e+00,\n",
       "         2.22705630e+00,  2.71564312e-01,  2.40716230e+00,  1.61018610e+00,\n",
       "         2.18996176e+00,  2.11761756e+00,  1.79757581e+00,  9.81614442e-01,\n",
       "         1.60251398e+00,  1.37155052e+00,  9.93039479e-01,  2.51127356e+00,\n",
       "        -5.80607993e-01,  4.98521838e-01,  1.15109850e+00,  2.88047456e+00,\n",
       "        -8.10732355e-01,  5.00809764e-01, -2.63728415e-01,  8.10635158e-01,\n",
       "         1.10800763e+00, -3.79056418e-01,  1.02939268e+00,  3.40260928e-01,\n",
       "        -3.63968837e-01, -1.08828936e-01, -3.68430048e-01,  2.26876561e+00,\n",
       "        -2.75252212e-01,  1.27556255e+00,  1.37743098e+00,  7.65662208e-01,\n",
       "         1.41947991e+00,  1.45625692e+00, -1.42729406e+00,  1.59152768e+00,\n",
       "         1.12714125e+00,  1.74706799e+00,  5.99763947e-01,  2.11028562e+00,\n",
       "         1.63479209e+00,  5.47292315e-01,  1.28453835e+00,  8.50191400e-01,\n",
       "         1.89939266e-01,  8.53360370e-01,  5.25302640e-01,  8.06951353e-01,\n",
       "        -7.22173198e-02, -2.14477678e-01,  1.36901100e+00,  5.46166133e-01,\n",
       "         1.03104023e+00,  1.02956812e+00,  8.82539378e-01, -6.43372740e-01,\n",
       "         1.45738589e+00,  5.02111738e-01,  4.36422850e-01, -8.75287624e-01,\n",
       "         1.16339138e+00,  5.18193074e-01, -5.19065828e-02, -3.47919893e-01,\n",
       "         7.13071787e-01,  6.31912558e-01, -8.52311368e-01,  1.43330612e+00,\n",
       "         8.57007391e-01,  1.51447290e+00,  8.81388407e-01,  1.60557753e+00,\n",
       "         8.21596846e-01,  3.17051292e+00,  1.79582268e+00,  2.54535035e+00,\n",
       "         8.68566195e-01, -1.31319369e-01, -4.12806649e-01,  2.72002911e-01,\n",
       "         2.66010234e+00,  1.39373256e+00, -9.75794007e-01,  9.49768755e-01,\n",
       "         2.24607413e+00,  1.10606236e+00,  1.91289621e+00,  2.25927727e-01,\n",
       "         1.99546970e+00,  9.12590352e-01, -4.54213762e-01,  9.41469856e-01,\n",
       "         1.65322375e+00,  3.86334693e+00,  1.59744260e+00, -2.87664611e-01,\n",
       "         1.43702348e+00,  5.27007898e-01,  2.94692019e-01, -2.86375006e-01,\n",
       "         2.53740604e+00,  1.76165614e+00,  1.70583778e+00,  2.94969649e+00,\n",
       "         1.91544773e+00,  9.31737533e-01,  2.08194497e+00,  3.93728426e-01,\n",
       "         1.16985697e+00,  2.60582545e+00,  1.37431210e+00, -5.79120780e-01,\n",
       "         4.90649258e-01,  1.08318322e+00,  1.62392577e+00,  7.40172487e-01,\n",
       "         9.25477900e-01,  1.51500963e+00, -3.05859483e-01, -6.84867301e-01,\n",
       "         2.55323448e-01,  2.34642702e-01,  1.79357662e+00,  1.52686247e+00,\n",
       "         4.44928077e-01, -8.47318119e-01,  5.80104346e-01,  1.12294434e+00,\n",
       "         3.13452728e+00,  7.20125363e-01,  1.94941714e+00, -1.47593493e-01,\n",
       "         3.19434077e+00,  2.43921311e+00,  4.31175058e-01, -5.77024307e-02,\n",
       "         1.07729925e+00,  1.51977060e+00,  1.94575951e+00,  4.84556197e-01,\n",
       "        -1.10564400e+00,  9.91116452e-01, -5.94014630e-01, -8.07378272e-01,\n",
       "         2.49022721e+00, -4.55467975e-01,  6.86470582e-01,  1.38265107e+00,\n",
       "         1.54523343e+00,  7.02427190e-01,  2.05952899e+00,  3.31130436e+00,\n",
       "         5.03669304e-01,  2.13663176e+00,  1.83152062e+00,  1.44634352e+00,\n",
       "         7.52817656e-02, -2.15615718e+00,  4.03812546e-01,  8.66475060e-01,\n",
       "         2.64921801e+00,  1.73213409e+00, -3.47053260e-01,  2.50022797e+00,\n",
       "         1.77018556e+00,  6.41873393e-01,  2.01188889e+00,  7.61273986e-01,\n",
       "        -2.63070495e-02, -6.64412086e-01,  2.32825636e+00,  1.41862030e+00,\n",
       "        -1.01649944e-01,  1.48969501e+00,  1.60687380e+00,  1.99792220e+00,\n",
       "         4.77115280e-01,  7.08644632e-01,  4.73374542e-01,  1.18879756e+00,\n",
       "         6.67849253e-01, -4.55082414e-01,  1.81201448e+00,  1.90321799e+00,\n",
       "         1.18585723e+00,  1.53455267e+00,  1.50954976e+00,  1.06909924e+00,\n",
       "        -8.42756274e-01, -8.42385150e-01,  2.02287254e+00, -1.34451653e+00,\n",
       "         1.45354452e+00,  1.45473028e+00,  1.19489252e+00,  2.75774728e-01,\n",
       "         1.45133184e+00, -3.15558847e-02,  1.02693397e+00,  2.11795424e+00,\n",
       "         1.91919611e+00,  1.16897353e+00,  8.16798760e-01,  1.56018102e+00,\n",
       "         1.31403978e+00,  7.13861565e-01,  7.71020754e-01,  1.44905971e+00,\n",
       "        -2.39297134e-01,  1.44397449e+00,  1.39005321e+00, -1.87370324e-01,\n",
       "         8.77348882e-01,  1.85357953e+00, -2.08916545e-01,  3.13603510e+00,\n",
       "         9.45811414e-02, -3.24100918e-01,  1.14974708e+00,  9.41266979e-01])}"
      ]
     },
     "execution_count": 43,
     "metadata": {},
     "output_type": "execute_result"
    }
   ],
   "source": [
    "wfpt_params"
   ]
  },
  {
   "cell_type": "code",
   "execution_count": 42,
   "id": "486a094d-24c9-4606-9e51-ae82789a1368",
   "metadata": {},
   "outputs": [
    {
     "data": {
      "text/plain": [
       "{'sv': 0,\n",
       " 'sz': 0,\n",
       " 'st': 0,\n",
       " 'z': 0.5,\n",
       " 't': 0.6314545822009845,\n",
       " 'a': 1.1557478921030353,\n",
       " 'v_slope': 0.5,\n",
       " 'v_inter': 1.041523222493516,\n",
       " 'reg_outcomes': 'v'}"
      ]
     },
     "execution_count": 42,
     "metadata": {},
     "output_type": "execute_result"
    }
   ],
   "source": [
    "subj_params"
   ]
  },
  {
   "cell_type": "code",
   "execution_count": null,
   "id": "e3242a0f-0bf8-4261-b45f-4c524746b367",
   "metadata": {},
   "outputs": [],
   "source": []
  },
  {
   "cell_type": "code",
   "execution_count": null,
   "id": "55432435-1c3f-4832-9b9c-8a1481c2a161",
   "metadata": {},
   "outputs": [],
   "source": []
  },
  {
   "cell_type": "code",
   "execution_count": null,
   "id": "0405c5af-468a-42e3-b36d-640a4457c2d7",
   "metadata": {},
   "outputs": [],
   "source": []
  },
  {
   "cell_type": "code",
   "execution_count": null,
   "id": "f48c29c5-5586-4b62-a36f-a23dc80c5782",
   "metadata": {},
   "outputs": [],
   "source": []
  },
  {
   "cell_type": "code",
   "execution_count": null,
   "id": "5a18714c-8cfe-461a-8c38-7add4895e1df",
   "metadata": {},
   "outputs": [],
   "source": []
  },
  {
   "cell_type": "code",
   "execution_count": null,
   "id": "64620e7d-0bb6-4bec-8f75-c42c5fd8a963",
   "metadata": {},
   "outputs": [],
   "source": []
  },
  {
   "cell_type": "code",
   "execution_count": null,
   "id": "60962be9-3589-47f2-9a36-9af85a9cc557",
   "metadata": {},
   "outputs": [],
   "source": []
  },
  {
   "cell_type": "code",
   "execution_count": null,
   "id": "97b0b816-24c7-4485-b65b-971b0020eeb9",
   "metadata": {},
   "outputs": [],
   "source": []
  },
  {
   "cell_type": "code",
   "execution_count": null,
   "id": "e870512f-2d3b-4766-b041-43227bc03665",
   "metadata": {},
   "outputs": [],
   "source": []
  },
  {
   "cell_type": "code",
   "execution_count": null,
   "id": "c899be06-59d9-431e-9cdc-55789c5ab556",
   "metadata": {},
   "outputs": [],
   "source": []
  },
  {
   "cell_type": "code",
   "execution_count": null,
   "id": "e5f0c638-1bf1-44c0-b553-6c00095ef9c5",
   "metadata": {},
   "outputs": [],
   "source": []
  },
  {
   "cell_type": "code",
   "execution_count": null,
   "id": "58eafc36-60d9-443f-9993-1e2792c9615a",
   "metadata": {},
   "outputs": [],
   "source": []
  },
  {
   "cell_type": "code",
   "execution_count": null,
   "id": "3fc8ad0b-cc7c-4fab-a0f0-91c129d004c2",
   "metadata": {},
   "outputs": [],
   "source": []
  },
  {
   "cell_type": "code",
   "execution_count": null,
   "id": "b971bb65-c598-4b3f-884d-6cec48d0ea64",
   "metadata": {},
   "outputs": [],
   "source": []
  },
  {
   "cell_type": "code",
   "execution_count": null,
   "id": "9299db41-6517-424c-975b-27be01fe34eb",
   "metadata": {},
   "outputs": [],
   "source": []
  }
 ],
 "metadata": {
  "kernelspec": {
   "display_name": "Python 3",
   "language": "python",
   "name": "python3"
  },
  "language_info": {
   "codemirror_mode": {
    "name": "ipython",
    "version": 3
   },
   "file_extension": ".py",
   "mimetype": "text/x-python",
   "name": "python",
   "nbconvert_exporter": "python",
   "pygments_lexer": "ipython3",
   "version": "3.8.8"
  }
 },
 "nbformat": 4,
 "nbformat_minor": 5
}
