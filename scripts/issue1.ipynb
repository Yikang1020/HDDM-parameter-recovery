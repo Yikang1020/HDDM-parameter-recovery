{
 "cells": [
  {
   "cell_type": "code",
   "execution_count": 70,
   "id": "4e549525-3b7d-4eb8-be19-a0c26fb88373",
   "metadata": {},
   "outputs": [],
   "source": [
    "# hddm\n",
    "import hddm\n",
    "import kabuki\n",
    "import pymc\n",
    "\n",
    "# design matrix\n",
    "from patsy import dmatrix\n",
    "\n",
    "# data analysis\n",
    "import pandas as pd\n",
    "import numpy as np\n",
    "\n",
    "# beyasian modeling\n",
    "import bambi as bmb\n",
    "\n",
    "# plot\n",
    "import seaborn as sns\n",
    "import matplotlib.pyplot as plt\n",
    "import arviz as az\n",
    "import ptitprince as pt\n",
    "\n",
    "# parallel processing related\n",
    "from p_tqdm import p_map\n",
    "from functools import partial\n",
    "from joblib import Parallel,delayed\n",
    "\n",
    "# rmANOVA\n",
    "from statsmodels.stats.anova import AnovaRM\n",
    "\n",
    "# search file\n",
    "import glob\n",
    "\n",
    "# system\n",
    "import os,sys,time"
   ]
  },
  {
   "cell_type": "code",
   "execution_count": 71,
   "id": "c10b40e6-1c67-4917-ab24-d212caac7fc3",
   "metadata": {},
   "outputs": [],
   "source": [
    "# add `script` to the python path so that we can import the scripts\n",
    "# scripts_dir = '/home/jovyan/work/scripts'\n",
    "scripts_dir = '/home/jovyan/scripts'\n",
    "sys.path.append(scripts_dir)\n",
    "\n",
    "from HDDMarviz import HDDMarviz\n",
    "from InferenceDataFromHDDM import InferenceDataFromHDDM\n",
    "from plot_ppc_by_cond import plot_ppc_by_cond"
   ]
  },
  {
   "cell_type": "code",
   "execution_count": 72,
   "id": "39810d64-334f-4ade-a180-52e228e50f30",
   "metadata": {},
   "outputs": [],
   "source": [
    "df = hddm.load_csv(hddm.__path__[0]+'/examples/cavanagh_theta_nn.csv')"
   ]
  },
  {
   "cell_type": "code",
   "execution_count": 73,
   "id": "d3261044-f676-4a31-afa5-51e0432366f9",
   "metadata": {},
   "outputs": [
    {
     "data": {
      "text/html": [
       "<div>\n",
       "<style scoped>\n",
       "    .dataframe tbody tr th:only-of-type {\n",
       "        vertical-align: middle;\n",
       "    }\n",
       "\n",
       "    .dataframe tbody tr th {\n",
       "        vertical-align: top;\n",
       "    }\n",
       "\n",
       "    .dataframe thead th {\n",
       "        text-align: right;\n",
       "    }\n",
       "</style>\n",
       "<table border=\"1\" class=\"dataframe\">\n",
       "  <thead>\n",
       "    <tr style=\"text-align: right;\">\n",
       "      <th></th>\n",
       "      <th>subj_idx</th>\n",
       "      <th>stim</th>\n",
       "      <th>rt</th>\n",
       "      <th>response</th>\n",
       "      <th>theta</th>\n",
       "      <th>dbs</th>\n",
       "      <th>conf</th>\n",
       "    </tr>\n",
       "  </thead>\n",
       "  <tbody>\n",
       "    <tr>\n",
       "      <th>0</th>\n",
       "      <td>0</td>\n",
       "      <td>LL</td>\n",
       "      <td>1.210</td>\n",
       "      <td>1.0</td>\n",
       "      <td>0.656275</td>\n",
       "      <td>1</td>\n",
       "      <td>HC</td>\n",
       "    </tr>\n",
       "    <tr>\n",
       "      <th>1</th>\n",
       "      <td>0</td>\n",
       "      <td>WL</td>\n",
       "      <td>1.630</td>\n",
       "      <td>1.0</td>\n",
       "      <td>-0.327889</td>\n",
       "      <td>1</td>\n",
       "      <td>LC</td>\n",
       "    </tr>\n",
       "    <tr>\n",
       "      <th>2</th>\n",
       "      <td>0</td>\n",
       "      <td>WW</td>\n",
       "      <td>1.030</td>\n",
       "      <td>1.0</td>\n",
       "      <td>-0.480285</td>\n",
       "      <td>1</td>\n",
       "      <td>HC</td>\n",
       "    </tr>\n",
       "    <tr>\n",
       "      <th>3</th>\n",
       "      <td>0</td>\n",
       "      <td>WL</td>\n",
       "      <td>2.770</td>\n",
       "      <td>1.0</td>\n",
       "      <td>1.927427</td>\n",
       "      <td>1</td>\n",
       "      <td>LC</td>\n",
       "    </tr>\n",
       "    <tr>\n",
       "      <th>4</th>\n",
       "      <td>0</td>\n",
       "      <td>WW</td>\n",
       "      <td>1.140</td>\n",
       "      <td>0.0</td>\n",
       "      <td>-0.213236</td>\n",
       "      <td>1</td>\n",
       "      <td>HC</td>\n",
       "    </tr>\n",
       "    <tr>\n",
       "      <th>...</th>\n",
       "      <td>...</td>\n",
       "      <td>...</td>\n",
       "      <td>...</td>\n",
       "      <td>...</td>\n",
       "      <td>...</td>\n",
       "      <td>...</td>\n",
       "      <td>...</td>\n",
       "    </tr>\n",
       "    <tr>\n",
       "      <th>3983</th>\n",
       "      <td>13</td>\n",
       "      <td>LL</td>\n",
       "      <td>1.450</td>\n",
       "      <td>0.0</td>\n",
       "      <td>-1.237166</td>\n",
       "      <td>0</td>\n",
       "      <td>HC</td>\n",
       "    </tr>\n",
       "    <tr>\n",
       "      <th>3984</th>\n",
       "      <td>13</td>\n",
       "      <td>WL</td>\n",
       "      <td>0.711</td>\n",
       "      <td>1.0</td>\n",
       "      <td>-0.377450</td>\n",
       "      <td>0</td>\n",
       "      <td>LC</td>\n",
       "    </tr>\n",
       "    <tr>\n",
       "      <th>3985</th>\n",
       "      <td>13</td>\n",
       "      <td>WL</td>\n",
       "      <td>0.784</td>\n",
       "      <td>1.0</td>\n",
       "      <td>-0.694194</td>\n",
       "      <td>0</td>\n",
       "      <td>LC</td>\n",
       "    </tr>\n",
       "    <tr>\n",
       "      <th>3986</th>\n",
       "      <td>13</td>\n",
       "      <td>LL</td>\n",
       "      <td>2.350</td>\n",
       "      <td>0.0</td>\n",
       "      <td>-0.546536</td>\n",
       "      <td>0</td>\n",
       "      <td>HC</td>\n",
       "    </tr>\n",
       "    <tr>\n",
       "      <th>3987</th>\n",
       "      <td>13</td>\n",
       "      <td>WW</td>\n",
       "      <td>1.250</td>\n",
       "      <td>1.0</td>\n",
       "      <td>0.752388</td>\n",
       "      <td>0</td>\n",
       "      <td>HC</td>\n",
       "    </tr>\n",
       "  </tbody>\n",
       "</table>\n",
       "<p>3988 rows × 7 columns</p>\n",
       "</div>"
      ],
      "text/plain": [
       "      subj_idx stim     rt  response     theta  dbs conf\n",
       "0            0   LL  1.210       1.0  0.656275    1   HC\n",
       "1            0   WL  1.630       1.0 -0.327889    1   LC\n",
       "2            0   WW  1.030       1.0 -0.480285    1   HC\n",
       "3            0   WL  2.770       1.0  1.927427    1   LC\n",
       "4            0   WW  1.140       0.0 -0.213236    1   HC\n",
       "...        ...  ...    ...       ...       ...  ...  ...\n",
       "3983        13   LL  1.450       0.0 -1.237166    0   HC\n",
       "3984        13   WL  0.711       1.0 -0.377450    0   LC\n",
       "3985        13   WL  0.784       1.0 -0.694194    0   LC\n",
       "3986        13   LL  2.350       0.0 -0.546536    0   HC\n",
       "3987        13   WW  1.250       1.0  0.752388    0   HC\n",
       "\n",
       "[3988 rows x 7 columns]"
      ]
     },
     "execution_count": 73,
     "metadata": {},
     "output_type": "execute_result"
    }
   ],
   "source": [
    "df"
   ]
  },
  {
   "cell_type": "code",
   "execution_count": 74,
   "id": "58c0b4e4-9b34-4834-9088-59a2d576b3e5",
   "metadata": {},
   "outputs": [],
   "source": [
    "def ms1_issue(id, df=None, samples=None, burn=None, thin=1,save_name='ms1'):\n",
    "    '''\n",
    "    id: the id of cpu thread\n",
    "    df: the input data\n",
    "    samples: number of samples for MCMC\n",
    "    burn: number of burn-in of MCMC\n",
    "    thin: number of thin\n",
    "    save_name: prefix of file name when saving the model object\n",
    "    '''\n",
    "    print('running chain {:d} for model {}'.format(id, save_name))\n",
    "    # the database file\n",
    "    dbname = save_name + '_chain_%i.db'%id\n",
    "    # the model object store here\n",
    "    mname = save_name + '_chain_%i'%id\n",
    "\n",
    "    v_reg = {'model':'v~1','link_func':lambda x:x}\n",
    "    z_reg = {'model':'z~1','link_func':lambda x:x}\n",
    "    t_reg = {'model':'t~1','link_func':lambda x:x}\n",
    "    a_reg = {'model':'a~1','link_func':lambda x:x}\n",
    "    reg_descr = [v_reg, \n",
    "                 z_reg,\n",
    "                 t_reg,\n",
    "                 a_reg,]\n",
    "    m = hddm.HDDMRegressor(df, \n",
    "                           reg_descr, \n",
    "                           include=['z'],\n",
    "                           group_only_regressors=False,\n",
    "                           keep_regressor_trace=True\n",
    "                          )\n",
    "    # find the starting point\n",
    "    m.find_starting_values()\n",
    "    # MCMC sample\n",
    "    m.sample(samples, \n",
    "             burn=burn, \n",
    "             thin=thin, \n",
    "             dbname=dbname,\n",
    "             db='pickle')\n",
    "    # save\n",
    "    m.save(mname)\n",
    "\n",
    "    return m"
   ]
  },
  {
   "cell_type": "code",
   "execution_count": 75,
   "id": "a8f4b6a2-518d-45f9-8e8e-a97bc684f84c",
   "metadata": {},
   "outputs": [
    {
     "data": {
      "application/vnd.jupyter.widget-view+json": {
       "model_id": "42e3be0d7a2048d7b5b51550bf3d0974",
       "version_major": 2,
       "version_minor": 0
      },
      "text/plain": [
       "  0%|          | 0/4 [00:00<?, ?it/s]"
      ]
     },
     "metadata": {},
     "output_type": "display_data"
    },
    {
     "name": "stdout",
     "output_type": "stream",
     "text": [
      "WARNING: Custom link functions will not be loaded.\n",
      "WARNING: Custom link functions will not be loaded.\n",
      "WARNING: Custom link functions will not be loaded.\n",
      "WARNING: Custom link functions will not be loaded.\n"
     ]
    }
   ],
   "source": [
    "msires1 = p_map(partial(ms1_issue,df=df,samples=100,burn=10,save_name='ms1_issue'),range(4))"
   ]
  },
  {
   "cell_type": "code",
   "execution_count": 6,
   "id": "cfd88f25-94ca-40b0-97e3-7b25a2aa90b6",
   "metadata": {},
   "outputs": [
    {
     "name": "stdout",
     "output_type": "stream",
     "text": [
      "start converting msi\n",
      "WARNING: Will not save custom link functions.\n",
      "WARNING: Will not save custom link functions.\n",
      "WARNING: Will not save custom link functions.\n",
      "WARNING: Will not save custom link functions.\n"
     ]
    },
    {
     "data": {
      "application/vnd.jupyter.widget-view+json": {
       "model_id": "fe96ea34d1884387a3253bd0feb556a2",
       "version_major": 2,
       "version_minor": 0
      },
      "text/plain": [
       "  0%|          | 0/4 [00:00<?, ?it/s]"
      ]
     },
     "metadata": {},
     "output_type": "display_data"
    },
    {
     "name": "stdout",
     "output_type": "stream",
     "text": [
      "WARNING: Custom link functions will not be loaded.\n",
      "WARNING: Custom link functions will not be loaded.\n",
      "WARNING: Will not save custom link functions.\n",
      "WARNING: Will not save custom link functions.\n",
      "WARNING: Will not save custom link functions.\n",
      "WARNING: Will not save custom link functions.\n",
      "WARNING: Will not save custom link functions.\n",
      "WARNING: Will not save custom link functions.\n",
      "WARNING: Will not save custom link functions.\n",
      "WARNING: Will not save custom link functions.\n",
      "WARNING: Will not save custom link functions.\n",
      "WARNING: Will not save custom link functions.\n",
      "WARNING: Will not save custom link functions.\n",
      "WARNING: Will not save custom link functions.\n",
      "WARNING: Custom link functions will not be loaded.\n",
      "WARNING: Custom link functions will not be loaded.\n",
      "started to generate posterior predicitves\n",
      "started to generate posterior predicitves\n",
      "started to generate posterior predicitves\n",
      "started to generate posterior predicitves\n",
      " [----------       28%                  ] 4 of 14 complete in 7.2 sec[----------       28%                  ] 4 of 14 complete in 7.3 sec[----------       28%                  ] 4 of 14 complete in 7.4 sec[----------       28%                  ] 4 of 14 complete in 7.5 sec[-------------    35%                  ] 5 of 14 complete in 14.2 sec[-------------    35%                  ] 5 of 14 complete in 14.6 sec[-------------    35%                  ] 5 of 14 complete in 14.9 sec[-------------    35%                  ] 5 of 14 complete in 14.7 sec[---------------- 42%                  ] 6 of 14 complete in 20.8 sec[---------------- 42%                  ] 6 of 14 complete in 21.4 sec[---------------- 42%                  ] 6 of 14 complete in 21.8 sec[---------------- 42%                  ] 6 of 14 complete in 21.6 sec[-----------------50%                  ] 7 of 14 complete in 27.3 sec[-----------------50%                  ] 7 of 14 complete in 28.0 sec[-----------------50%                  ] 7 of 14 complete in 28.2 sec[-----------------50%                  ] 7 of 14 complete in 28.4 sec[-----------------57%-                 ] 8 of 14 complete in 33.7 sec[-----------------57%-                 ] 8 of 14 complete in 34.5 sec[-----------------57%-                 ] 8 of 14 complete in 34.8 sec[-----------------57%-                 ] 8 of 14 complete in 34.6 sec[-----------------64%----              ] 9 of 14 complete in 40.6 sec[-----------------64%----              ] 9 of 14 complete in 41.4 sec[-----------------64%----              ] 9 of 14 complete in 41.5 sec[-----------------64%----              ] 9 of 14 complete in 41.9 sec[-----------------71%-------           ] 10 of 14 complete in 47.2 sec[-----------------71%-------           ] 10 of 14 complete in 48.4 sec[-----------------71%-------           ] 10 of 14 complete in 48.3 sec[-----------------71%-------           ] 10 of 14 complete in 48.8 sec[-----------------78%---------         ] 11 of 14 complete in 54.0 sec[-----------------78%---------         ] 11 of 14 complete in 55.2 sec[-----------------78%---------         ] 11 of 14 complete in 55.2 sec[-----------------78%---------         ] 11 of 14 complete in 55.6 sec[-----------------85%------------      ] 12 of 14 complete in 60.9 sec[-----------------85%------------      ] 12 of 14 complete in 62.3 sec[-----------------85%------------      ] 12 of 14 complete in 62.3 sec[-----------------85%------------      ] 12 of 14 complete in 62.8 sec[-----------------92%---------------   ] 13 of 14 complete in 66.1 sec[-----------------92%---------------   ] 13 of 14 complete in 67.5 sec[-----------------92%---------------   ] 13 of 14 complete in 67.7 sec[-----------------92%---------------   ] 13 of 14 complete in 68.4 sec[-----------------100%-----------------] 14 of 14 complete in 73.6 sec[-----------------100%-----------------] 14 of 14 complete in 75.0 sec[-----------------100%-----------------] 14 of 14 complete in 75.4 sec[-----------------100%-----------------] 14 of 14 complete in 76.0 sec[------------------107%------------------] 15 of 14 complete in 80.9 sec[------------------107%------------------] 15 of 14 complete in 82.1 sec[------------------107%------------------] 15 of 14 complete in 82.8 sec[------------------107%------------------] 15 of 14 complete in 83.6 sec[-------------------114%--------------------] 16 of 14 complete in 86.9 sec[-------------------114%--------------------] 16 of 14 complete in 88.2 sec[-------------------114%--------------------] 16 of 14 complete in 89.0 sec[-------------------114%--------------------] 16 of 14 complete in 89.8 sec[---------------------121%---------------------] 17 of 14 complete in 93.4 sec[---------------------121%---------------------] 17 of 14 complete in 94.7 sec[---------------------121%---------------------] 17 of 14 complete in 95.6 sec[---------------------121%---------------------] 17 of 14 complete in 96.3 sec"
     ]
    },
    {
     "data": {
      "application/vnd.jupyter.widget-view+json": {
       "model_id": "6d745029655b4a2b9947b77c27312830",
       "version_major": 2,
       "version_minor": 0
      },
      "text/plain": [
       "  0%|          | 0/4 [00:00<?, ?it/s]"
      ]
     },
     "metadata": {},
     "output_type": "display_data"
    },
    {
     "name": "stdout",
     "output_type": "stream",
     "text": [
      "WARNING: Custom link functions will not be loaded.\n",
      "WARNING: Custom link functions will not be loaded.\n",
      "WARNING: Custom link functions will not be loaded.\n",
      "WARNING: Custom link functions will not be loaded.\n",
      "started to generate posterior predicitves\n",
      "started to generate posterior predicitves\n",
      "started to generate posterior predicitves\n",
      "started to generate posterior predicitves\n",
      " [----------       28%                  ] 4 of 14 complete in 4.5 sec[----------       28%                  ] 4 of 14 complete in 4.4 sec[----------       28%                  ] 4 of 14 complete in 4.5 sec[----------       28%                  ] 4 of 14 complete in 4.6 sec[-------------    35%                  ] 5 of 14 complete in 9.0 sec[-------------    35%                  ] 5 of 14 complete in 8.9 sec[-------------    35%                  ] 5 of 14 complete in 8.9 sec[-------------    35%                  ] 5 of 14 complete in 9.2 sec[---------------- 42%                  ] 6 of 14 complete in 13.3 sec[---------------- 42%                  ] 6 of 14 complete in 13.4 sec[---------------- 42%                  ] 6 of 14 complete in 13.5 sec[---------------- 42%                  ] 6 of 14 complete in 13.7 sec[-----------------50%                  ] 7 of 14 complete in 17.2 sec[-----------------50%                  ] 7 of 14 complete in 17.2 sec[-----------------50%                  ] 7 of 14 complete in 17.4 sec[-----------------50%                  ] 7 of 14 complete in 17.6 sec[-----------------57%-                 ] 8 of 14 complete in 21.4 sec[-----------------57%-                 ] 8 of 14 complete in 21.5 sec[-----------------57%-                 ] 8 of 14 complete in 21.6 sec[-----------------57%-                 ] 8 of 14 complete in 22.0 sec[-----------------64%----              ] 9 of 14 complete in 25.9 sec[-----------------64%----              ] 9 of 14 complete in 26.0 sec[-----------------64%----              ] 9 of 14 complete in 26.1 sec[-----------------64%----              ] 9 of 14 complete in 26.6 sec[-----------------71%-------           ] 10 of 14 complete in 30.4 sec[-----------------71%-------           ] 10 of 14 complete in 30.5 sec[-----------------71%-------           ] 10 of 14 complete in 30.6 sec[-----------------71%-------           ] 10 of 14 complete in 31.2 sec[-----------------78%---------         ] 11 of 14 complete in 34.8 sec[-----------------78%---------         ] 11 of 14 complete in 35.0 sec[-----------------78%---------         ] 11 of 14 complete in 34.9 sec[-----------------78%---------         ] 11 of 14 complete in 35.6 sec[-----------------85%------------      ] 12 of 14 complete in 39.3 sec[-----------------85%------------      ] 12 of 14 complete in 39.5 sec[-----------------85%------------      ] 12 of 14 complete in 39.4 sec[-----------------85%------------      ] 12 of 14 complete in 40.2 sec[-----------------92%---------------   ] 13 of 14 complete in 42.5 sec[-----------------92%---------------   ] 13 of 14 complete in 42.8 sec[-----------------92%---------------   ] 13 of 14 complete in 42.7 sec[-----------------92%---------------   ] 13 of 14 complete in 43.6 sec[-----------------100%-----------------] 14 of 14 complete in 47.1 sec[-----------------100%-----------------] 14 of 14 complete in 47.3 sec[-----------------100%-----------------] 14 of 14 complete in 47.3 sec[-----------------100%-----------------] 14 of 14 complete in 48.3 sec[------------------107%------------------] 15 of 14 complete in 51.7 sec[------------------107%------------------] 15 of 14 complete in 51.9 sec[------------------107%------------------] 15 of 14 complete in 51.9 sec[------------------107%------------------] 15 of 14 complete in 52.9 sec[-------------------114%--------------------] 16 of 14 complete in 55.7 sec[-------------------114%--------------------] 16 of 14 complete in 55.9 sec[-------------------114%--------------------] 16 of 14 complete in 55.9 sec[-------------------114%--------------------] 16 of 14 complete in 57.0 sec[---------------------121%---------------------] 17 of 14 complete in 59.8 sec[---------------------121%---------------------] 17 of 14 complete in 60.0 sec[---------------------121%---------------------] 17 of 14 complete in 60.0 sec[---------------------121%---------------------] 17 of 14 complete in 61.2 secCPU times: user 1.29 s, sys: 397 ms, total: 1.68 s\n",
      "Wall time: 2min 42s\n"
     ]
    }
   ],
   "source": [
    "%%time\n",
    "InfData_msi = InferenceDataFromHDDM(msires, nppc = 10, save_name=\"msi\")"
   ]
  },
  {
   "cell_type": "code",
   "execution_count": 9,
   "id": "e9b99dc8-5d13-4166-ba45-fd6b6a711577",
   "metadata": {},
   "outputs": [
    {
     "name": "stdout",
     "output_type": "stream",
     "text": [
      "WARNING: Custom link functions will not be loaded.\n",
      "WARNING: Custom link functions will not be loaded.\n",
      "WARNING: Custom link functions will not be loaded.\n",
      "WARNING: Custom link functions will not be loaded.\n"
     ]
    }
   ],
   "source": [
    "msires = Parallel(n_jobs = 4)(delayed(ms1_issue)(id = i, df = df, samples=100,burn = 10,thin=2, save_name = 'msi' ) for i in range(4))"
   ]
  },
  {
   "cell_type": "code",
   "execution_count": 10,
   "id": "4ba3dabd-cac4-439a-b642-29e8a34734a4",
   "metadata": {},
   "outputs": [
    {
     "name": "stdout",
     "output_type": "stream",
     "text": [
      "start converting msi2\n"
     ]
    },
    {
     "data": {
      "application/vnd.jupyter.widget-view+json": {
       "model_id": "d379e1805f4c48279ab3e509b47f01fb",
       "version_major": 2,
       "version_minor": 0
      },
      "text/plain": [
       "  0%|          | 0/4 [00:00<?, ?it/s]"
      ]
     },
     "metadata": {},
     "output_type": "display_data"
    },
    {
     "name": "stdout",
     "output_type": "stream",
     "text": [
      "WARNING: Custom link functions will not be loaded.\n",
      "WARNING: Custom link functions will not be loaded.\n",
      "WARNING: Custom link functions will not be loaded.\n",
      "WARNING: Custom link functions will not be loaded.\n",
      "WARNING: Will not save custom link functions.\n",
      "WARNING: Will not save custom link functions.\n",
      "WARNING: Will not save custom link functions.\n",
      "WARNING: Will not save custom link functions.\n",
      "WARNING: Will not save custom link functions.\n",
      "WARNING: Will not save custom link functions.\n",
      "WARNING: Will not save custom link functions.\n",
      "WARNING: Will not save custom link functions.\n",
      "WARNING: Will not save custom link functions.\n",
      "WARNING: Will not save custom link functions.\n",
      "WARNING: Will not save custom link functions.\n",
      "WARNING: Will not save custom link functions.\n",
      "WARNING: Will not save custom link functions.\n",
      "WARNING: Will not save custom link functions.\n",
      "WARNING: Will not save custom link functions.\n",
      "WARNING: Will not save custom link functions.\n",
      "started to generate posterior predicitves\n",
      "started to generate posterior predicitves\n",
      "started to generate posterior predicitves\n",
      "started to generate posterior predicitves\n",
      " [----------       28%                  ] 4 of 14 complete in 7.2 sec[----------       28%                  ] 4 of 14 complete in 7.2 sec[----------       28%                  ] 4 of 14 complete in 7.4 sec[----------       28%                  ] 4 of 14 complete in 7.2 sec[-------------    35%                  ] 5 of 14 complete in 14.5 sec[-------------    35%                  ] 5 of 14 complete in 14.6 sec[-------------    35%                  ] 5 of 14 complete in 14.5 sec[-------------    35%                  ] 5 of 14 complete in 15.0 sec[---------------- 42%                  ] 6 of 14 complete in 21.2 sec[---------------- 42%                  ] 6 of 14 complete in 21.2 sec[---------------- 42%                  ] 6 of 14 complete in 21.5 sec[---------------- 42%                  ] 6 of 14 complete in 22.0 sec[-----------------50%                  ] 7 of 14 complete in 27.7 sec[-----------------50%                  ] 7 of 14 complete in 27.6 sec[-----------------50%                  ] 7 of 14 complete in 27.9 sec[-----------------50%                  ] 7 of 14 complete in 28.5 sec[-----------------57%-                 ] 8 of 14 complete in 33.9 sec[-----------------57%-                 ] 8 of 14 complete in 34.3 sec[-----------------57%-                 ] 8 of 14 complete in 34.5 sec[-----------------57%-                 ] 8 of 14 complete in 34.9 sec[-----------------64%----              ] 9 of 14 complete in 41.2 sec[-----------------64%----              ] 9 of 14 complete in 41.5 sec[-----------------64%----              ] 9 of 14 complete in 42.0 sec[-----------------64%----              ] 9 of 14 complete in 42.2 sec[-----------------71%-------           ] 10 of 14 complete in 48.0 sec[-----------------71%-------           ] 10 of 14 complete in 48.3 sec[-----------------71%-------           ] 10 of 14 complete in 48.8 sec[-----------------71%-------           ] 10 of 14 complete in 49.0 sec[-----------------78%---------         ] 11 of 14 complete in 55.2 sec[-----------------78%---------         ] 11 of 14 complete in 55.8 sec[-----------------78%---------         ] 11 of 14 complete in 56.1 sec[-----------------78%---------         ] 11 of 14 complete in 56.4 sec[-----------------85%------------      ] 12 of 14 complete in 62.6 sec[-----------------85%------------      ] 12 of 14 complete in 63.1 sec[-----------------85%------------      ] 12 of 14 complete in 63.4 sec[-----------------85%------------      ] 12 of 14 complete in 63.6 sec[-----------------92%---------------   ] 13 of 14 complete in 68.1 sec[-----------------92%---------------   ] 13 of 14 complete in 68.8 sec[-----------------92%---------------   ] 13 of 14 complete in 69.0 sec[-----------------92%---------------   ] 13 of 14 complete in 69.2 sec[-----------------100%-----------------] 14 of 14 complete in 75.5 sec[-----------------100%-----------------] 14 of 14 complete in 76.4 sec[-----------------100%-----------------] 14 of 14 complete in 76.6 sec[-----------------100%-----------------] 14 of 14 complete in 77.0 sec[------------------107%------------------] 15 of 14 complete in 83.2 sec[------------------107%------------------] 15 of 14 complete in 84.1 sec[------------------107%------------------] 15 of 14 complete in 84.5 sec[------------------107%------------------] 15 of 14 complete in 85.0 sec[-------------------114%--------------------] 16 of 14 complete in 89.6 sec[-------------------114%--------------------] 16 of 14 complete in 90.4 sec[-------------------114%--------------------] 16 of 14 complete in 90.8 sec[-------------------114%--------------------] 16 of 14 complete in 91.5 sec[---------------------121%---------------------] 17 of 14 complete in 96.6 sec[---------------------121%---------------------] 17 of 14 complete in 97.7 sec[---------------------121%---------------------] 17 of 14 complete in 98.0 sec[---------------------121%---------------------] 17 of 14 complete in 98.7 sec"
     ]
    },
    {
     "data": {
      "application/vnd.jupyter.widget-view+json": {
       "model_id": "fd665cfd63d741adbe65e259a81122cc",
       "version_major": 2,
       "version_minor": 0
      },
      "text/plain": [
       "  0%|          | 0/4 [00:00<?, ?it/s]"
      ]
     },
     "metadata": {},
     "output_type": "display_data"
    },
    {
     "name": "stdout",
     "output_type": "stream",
     "text": [
      "WARNING: Custom link functions will not be loaded.\n",
      "WARNING: Custom link functions will not be loaded.\n",
      "WARNING: Custom link functions will not be loaded.\n",
      "WARNING: Custom link functions will not be loaded.\n",
      "started to generate posterior predicitves\n",
      "started to generate posterior predicitves\n",
      "started to generate posterior predicitves\n",
      "started to generate posterior predicitves\n",
      " [----------       28%                  ] 4 of 14 complete in 2.3 sec[----------       28%                  ] 4 of 14 complete in 2.3 sec[----------       28%                  ] 4 of 14 complete in 2.4 sec[----------       28%                  ] 4 of 14 complete in 2.3 sec[-------------    35%                  ] 5 of 14 complete in 4.5 sec[-------------    35%                  ] 5 of 14 complete in 4.6 sec[-------------    35%                  ] 5 of 14 complete in 4.6 sec[-------------    35%                  ] 5 of 14 complete in 4.7 sec[---------------- 42%                  ] 6 of 14 complete in 6.8 sec[---------------- 42%                  ] 6 of 14 complete in 6.9 sec[---------------- 42%                  ] 6 of 14 complete in 6.8 sec[---------------- 42%                  ] 6 of 14 complete in 7.1 sec[-----------------50%                  ] 7 of 14 complete in 8.8 sec[-----------------50%                  ] 7 of 14 complete in 8.9 sec[-----------------50%                  ] 7 of 14 complete in 8.8 sec[-----------------50%                  ] 7 of 14 complete in 9.1 sec[-----------------57%-                 ] 8 of 14 complete in 10.9 sec[-----------------57%-                 ] 8 of 14 complete in 11.0 sec[-----------------57%-                 ] 8 of 14 complete in 10.9 sec[-----------------57%-                 ] 8 of 14 complete in 11.3 sec[-----------------64%----              ] 9 of 14 complete in 13.2 sec[-----------------64%----              ] 9 of 14 complete in 13.3 sec[-----------------64%----              ] 9 of 14 complete in 13.2 sec[-----------------64%----              ] 9 of 14 complete in 13.6 sec[-----------------71%-------           ] 10 of 14 complete in 15.6 sec[-----------------71%-------           ] 10 of 14 complete in 15.5 sec[-----------------71%-------           ] 10 of 14 complete in 15.7 sec[-----------------71%-------           ] 10 of 14 complete in 16.0 sec[-----------------78%---------         ] 11 of 14 complete in 17.8 sec[-----------------78%---------         ] 11 of 14 complete in 17.7 sec[-----------------78%---------         ] 11 of 14 complete in 17.9 sec[-----------------78%---------         ] 11 of 14 complete in 18.4 sec[-----------------85%------------      ] 12 of 14 complete in 20.0 sec[-----------------85%------------      ] 12 of 14 complete in 20.2 sec[-----------------85%------------      ] 12 of 14 complete in 20.0 sec[-----------------85%------------      ] 12 of 14 complete in 20.6 sec[-----------------92%---------------   ] 13 of 14 complete in 21.7 sec[-----------------92%---------------   ] 13 of 14 complete in 21.9 sec[-----------------92%---------------   ] 13 of 14 complete in 21.7 sec[-----------------92%---------------   ] 13 of 14 complete in 22.3 sec[-----------------100%-----------------] 14 of 14 complete in 24.3 sec[-----------------100%-----------------] 14 of 14 complete in 24.3 sec[-----------------100%-----------------] 14 of 14 complete in 24.5 sec[-----------------100%-----------------] 14 of 14 complete in 24.9 sec[------------------107%------------------] 15 of 14 complete in 26.8 sec[------------------107%------------------] 15 of 14 complete in 26.7 sec[------------------107%------------------] 15 of 14 complete in 26.9 sec[------------------107%------------------] 15 of 14 complete in 27.4 sec[-------------------114%--------------------] 16 of 14 complete in 28.7 sec[-------------------114%--------------------] 16 of 14 complete in 28.8 sec[-------------------114%--------------------] 16 of 14 complete in 29.0 sec[-------------------114%--------------------] 16 of 14 complete in 29.5 sec[---------------------121%---------------------] 17 of 14 complete in 30.8 sec[---------------------121%---------------------] 17 of 14 complete in 30.9 sec[---------------------121%---------------------] 17 of 14 complete in 31.0 sec[---------------------121%---------------------] 17 of 14 complete in 31.6 secCPU times: user 1.06 s, sys: 495 ms, total: 1.56 s\n",
      "Wall time: 2min 14s\n"
     ]
    }
   ],
   "source": [
    "%%time\n",
    "InfData_msi = InferenceDataFromHDDM(msires, nppc = 10, save_name=\"msi2\")"
   ]
  },
  {
   "cell_type": "code",
   "execution_count": 43,
   "id": "e2a40112-08bb-45da-bcf9-699a35e09a11",
   "metadata": {},
   "outputs": [],
   "source": [
    "# set number of subjects and number of trials per level for the simulated experiment.\n",
    "n_subjects = 10\n",
    "trials_per_level = 50\n",
    "\n",
    "# set the group parameter\n",
    "# intercept and slope of v\n",
    "v_int = 1\n",
    "v_sig = 0.05\n",
    "# intercept and slope of z\n",
    "z_int = 0.5\n",
    "z_sig = 0.02\n",
    "# intercept of a\n",
    "a_int = 1.4\n",
    "a_sig = 0.1\n",
    "# intercept of t\n",
    "t_int = 0.2\n",
    "t_sig = 0.05"
   ]
  },
  {
   "cell_type": "code",
   "execution_count": 44,
   "id": "7a67d111-c3b2-4bac-8db1-5cde484b393a",
   "metadata": {},
   "outputs": [],
   "source": [
    "# set the subject parameter\n",
    "# v\n",
    "v_err_subj = np.random.normal(0,v_sig,n_subjects)\n",
    "# z\n",
    "z_err_subj = np.random.normal(0,z_sig,n_subjects)\n",
    "# a\n",
    "a_err_subj = np.random.normal(0,a_sig,n_subjects)\n",
    "# t\n",
    "t_err_subj = np.random.normal(0,t_sig,n_subjects)\n",
    "\n",
    "# dataframe\n",
    "df = pd.DataFrame()\n",
    "param = pd.DataFrame()\n",
    "for i in range(n_subjects):\n",
    "    \n",
    "    # v of subject \n",
    "    v  = v_int + v_err_subj[i]\n",
    "    # z of subject\n",
    "    z  = z_int + z_err_subj[i]\n",
    "    # the default parameter a\n",
    "    a  = a_int + a_err_subj[i]\n",
    "    # the default parameter t\n",
    "    t  = t_int + t_err_subj[i]\n",
    "    \n",
    "    # set up parameters of DDM for four levels \n",
    "    level = {'v':v, 'a':a, 't':t, 'z':z, 'sv':0, 'sz':0, 'st':0}\n",
    "    \n",
    "    # generate simulated data\n",
    "    np.random.seed(123)\n",
    "    data, params = hddm.generate.gen_rand_data({'level':level},\n",
    "                                                 size = trials_per_level\n",
    "                                                  )\n",
    "    # data\n",
    "    data['subj_idx'] = i\n",
    "    df = df.append(data)\n",
    "    \n",
    "    # params\n",
    "    # create dataframe\n",
    "    params = pd.DataFrame([params])\n",
    "    # add subject\n",
    "    params['subj_idx'] = i\n",
    "    # combine params\n",
    "    param = param.append(params)\n",
    "# reset the index\n",
    "param = param.reset_index(drop=True)"
   ]
  },
  {
   "cell_type": "code",
   "execution_count": 46,
   "id": "1d53fec1-c0db-4007-b2f2-c796d02a2f2b",
   "metadata": {},
   "outputs": [
    {
     "data": {
      "text/html": [
       "<div>\n",
       "<style scoped>\n",
       "    .dataframe tbody tr th:only-of-type {\n",
       "        vertical-align: middle;\n",
       "    }\n",
       "\n",
       "    .dataframe tbody tr th {\n",
       "        vertical-align: top;\n",
       "    }\n",
       "\n",
       "    .dataframe thead th {\n",
       "        text-align: right;\n",
       "    }\n",
       "</style>\n",
       "<table border=\"1\" class=\"dataframe\">\n",
       "  <thead>\n",
       "    <tr style=\"text-align: right;\">\n",
       "      <th></th>\n",
       "      <th>rt</th>\n",
       "      <th>response</th>\n",
       "      <th>subj_idx</th>\n",
       "      <th>condition</th>\n",
       "    </tr>\n",
       "  </thead>\n",
       "  <tbody>\n",
       "    <tr>\n",
       "      <th>0</th>\n",
       "      <td>0.496124</td>\n",
       "      <td>1.0</td>\n",
       "      <td>0</td>\n",
       "      <td>level</td>\n",
       "    </tr>\n",
       "    <tr>\n",
       "      <th>1</th>\n",
       "      <td>0.257124</td>\n",
       "      <td>1.0</td>\n",
       "      <td>0</td>\n",
       "      <td>level</td>\n",
       "    </tr>\n",
       "    <tr>\n",
       "      <th>2</th>\n",
       "      <td>0.228124</td>\n",
       "      <td>1.0</td>\n",
       "      <td>0</td>\n",
       "      <td>level</td>\n",
       "    </tr>\n",
       "    <tr>\n",
       "      <th>3</th>\n",
       "      <td>0.388124</td>\n",
       "      <td>1.0</td>\n",
       "      <td>0</td>\n",
       "      <td>level</td>\n",
       "    </tr>\n",
       "    <tr>\n",
       "      <th>4</th>\n",
       "      <td>0.518124</td>\n",
       "      <td>1.0</td>\n",
       "      <td>0</td>\n",
       "      <td>level</td>\n",
       "    </tr>\n",
       "    <tr>\n",
       "      <th>...</th>\n",
       "      <td>...</td>\n",
       "      <td>...</td>\n",
       "      <td>...</td>\n",
       "      <td>...</td>\n",
       "    </tr>\n",
       "    <tr>\n",
       "      <th>45</th>\n",
       "      <td>0.246374</td>\n",
       "      <td>1.0</td>\n",
       "      <td>9</td>\n",
       "      <td>level</td>\n",
       "    </tr>\n",
       "    <tr>\n",
       "      <th>46</th>\n",
       "      <td>0.379374</td>\n",
       "      <td>1.0</td>\n",
       "      <td>9</td>\n",
       "      <td>level</td>\n",
       "    </tr>\n",
       "    <tr>\n",
       "      <th>47</th>\n",
       "      <td>1.514374</td>\n",
       "      <td>1.0</td>\n",
       "      <td>9</td>\n",
       "      <td>level</td>\n",
       "    </tr>\n",
       "    <tr>\n",
       "      <th>48</th>\n",
       "      <td>0.402374</td>\n",
       "      <td>1.0</td>\n",
       "      <td>9</td>\n",
       "      <td>level</td>\n",
       "    </tr>\n",
       "    <tr>\n",
       "      <th>49</th>\n",
       "      <td>0.472374</td>\n",
       "      <td>1.0</td>\n",
       "      <td>9</td>\n",
       "      <td>level</td>\n",
       "    </tr>\n",
       "  </tbody>\n",
       "</table>\n",
       "<p>500 rows × 4 columns</p>\n",
       "</div>"
      ],
      "text/plain": [
       "          rt  response  subj_idx condition\n",
       "0   0.496124       1.0         0     level\n",
       "1   0.257124       1.0         0     level\n",
       "2   0.228124       1.0         0     level\n",
       "3   0.388124       1.0         0     level\n",
       "4   0.518124       1.0         0     level\n",
       "..       ...       ...       ...       ...\n",
       "45  0.246374       1.0         9     level\n",
       "46  0.379374       1.0         9     level\n",
       "47  1.514374       1.0         9     level\n",
       "48  0.402374       1.0         9     level\n",
       "49  0.472374       1.0         9     level\n",
       "\n",
       "[500 rows x 4 columns]"
      ]
     },
     "execution_count": 46,
     "metadata": {},
     "output_type": "execute_result"
    }
   ],
   "source": [
    "df"
   ]
  },
  {
   "cell_type": "code",
   "execution_count": 47,
   "id": "b56a3c94-a5c1-4acf-b282-fa00d1d1d068",
   "metadata": {},
   "outputs": [
    {
     "data": {
      "application/vnd.jupyter.widget-view+json": {
       "model_id": "5099e090437c4b59a4ce3c6f1accd09a",
       "version_major": 2,
       "version_minor": 0
      },
      "text/plain": [
       "  0%|          | 0/4 [00:00<?, ?it/s]"
      ]
     },
     "metadata": {},
     "output_type": "display_data"
    },
    {
     "name": "stdout",
     "output_type": "stream",
     "text": [
      "WARNING: Custom link functions will not be loaded.\n",
      "WARNING: Custom link functions will not be loaded.\n",
      "WARNING: Custom link functions will not be loaded.\n",
      "WARNING: Custom link functions will not be loaded.\n"
     ]
    }
   ],
   "source": [
    "msires = p_map(partial(ms1_issue,df=df,samples=100,burn=10,save_name='ms1_issue'),range(4))"
   ]
  },
  {
   "cell_type": "code",
   "execution_count": 48,
   "id": "7eba9167-0926-4697-a09c-15fc41825bd4",
   "metadata": {},
   "outputs": [
    {
     "name": "stdout",
     "output_type": "stream",
     "text": [
      "start converting msi4\n",
      "WARNING: Will not save custom link functions.\n",
      "WARNING: Will not save custom link functions.\n",
      "WARNING: Will not save custom link functions.\n",
      "WARNING: Will not save custom link functions.\n"
     ]
    },
    {
     "data": {
      "application/vnd.jupyter.widget-view+json": {
       "model_id": "ae5bda6c5f2c4d3fbdb3d15fb4f5a09c",
       "version_major": 2,
       "version_minor": 0
      },
      "text/plain": [
       "  0%|          | 0/4 [00:00<?, ?it/s]"
      ]
     },
     "metadata": {},
     "output_type": "display_data"
    },
    {
     "name": "stdout",
     "output_type": "stream",
     "text": [
      "WARNING: Custom link functions will not be loaded.\n",
      "WARNING: Custom link functions will not be loaded.\n",
      "WARNING: Custom link functions will not be loaded.\n",
      "WARNING: Custom link functions will not be loaded.\n",
      "WARNING: Will not save custom link functions.\n",
      "WARNING: Will not save custom link functions.\n",
      "WARNING: Will not save custom link functions.\n",
      "WARNING: Will not save custom link functions.\n",
      "WARNING: Will not save custom link functions.\n",
      "WARNING: Will not save custom link functions.\n",
      "WARNING: Will not save custom link functions.\n",
      "WARNING: Will not save custom link functions.\n",
      "WARNING: Will not save custom link functions.\n",
      "WARNING: Will not save custom link functions.\n",
      "WARNING: Will not save custom link functions.\n",
      "WARNING: Will not save custom link functions.\n",
      "started to generate posterior predicitves\n"
     ]
    },
    {
     "ename": "NotImplementedError",
     "evalue": "Supply a grouping so that at most 1 observed node codes for each group.",
     "output_type": "error",
     "traceback": [
      "\u001b[0;31m---------------------------------------------------------------------------\u001b[0m",
      "\u001b[0;31mRemoteTraceback\u001b[0m                           Traceback (most recent call last)",
      "\u001b[0;31mRemoteTraceback\u001b[0m: \n\"\"\"\nTraceback (most recent call last):\n  File \"/opt/conda/lib/python3.8/site-packages/multiprocess/pool.py\", line 125, in worker\n    result = (True, func(*args, **kwds))\n  File \"/opt/conda/lib/python3.8/site-packages/pathos/helpers/mp_helper.py\", line 15, in <lambda>\n    func = lambda args: f(*args)\n  File \"/home/jovyan/scripts/post_pred_gen_redefined.py\", line 142, in post_pred_gen\n    node = model.get_data_nodes(data.index)\n  File \"/opt/conda/lib/python3.8/site-packages/kabuki/hierarchical.py\", line 949, in get_data_nodes\n    raise NotImplementedError(\"Supply a grouping so that at most 1 observed node codes for each group.\")\nNotImplementedError: Supply a grouping so that at most 1 observed node codes for each group.\n\"\"\"",
      "\nThe above exception was the direct cause of the following exception:\n",
      "\u001b[0;31mNotImplementedError\u001b[0m                       Traceback (most recent call last)",
      "\u001b[0;32m<timed exec>\u001b[0m in \u001b[0;36m<module>\u001b[0;34m\u001b[0m\n",
      "\u001b[0;32m~/scripts/InferenceDataFromHDDM.py\u001b[0m in \u001b[0;36mInferenceDataFromHDDM\u001b[0;34m(modelres, nppc, save_name)\u001b[0m\n\u001b[1;32m     65\u001b[0m         \u001b[0;31m### Posterior predictives\u001b[0m\u001b[0;34m\u001b[0m\u001b[0;34m\u001b[0m\u001b[0;34m\u001b[0m\u001b[0m\n\u001b[1;32m     66\u001b[0m         \u001b[0mxdata_post_pred\u001b[0m \u001b[0;34m=\u001b[0m \u001b[0;34m[\u001b[0m\u001b[0;34m]\u001b[0m \u001b[0;31m# define an empty dict\u001b[0m\u001b[0;34m\u001b[0m\u001b[0;34m\u001b[0m\u001b[0m\n\u001b[0;32m---> 67\u001b[0;31m         \u001b[0mxdata_post_pred\u001b[0m \u001b[0;34m=\u001b[0m \u001b[0mp_map\u001b[0m\u001b[0;34m(\u001b[0m\u001b[0mpartial\u001b[0m\u001b[0;34m(\u001b[0m\u001b[0mpost_pred_gen\u001b[0m\u001b[0;34m,\u001b[0m \u001b[0msamples\u001b[0m \u001b[0;34m=\u001b[0m \u001b[0mnppc\u001b[0m\u001b[0;34m)\u001b[0m\u001b[0;34m,\u001b[0m \u001b[0mms_tmp\u001b[0m\u001b[0;34m)\u001b[0m\u001b[0;34m\u001b[0m\u001b[0;34m\u001b[0m\u001b[0m\n\u001b[0m\u001b[1;32m     68\u001b[0m \u001b[0;34m\u001b[0m\u001b[0m\n\u001b[1;32m     69\u001b[0m         \u001b[0;32mfor\u001b[0m \u001b[0mchain\u001b[0m \u001b[0;32min\u001b[0m \u001b[0mrange\u001b[0m\u001b[0;34m(\u001b[0m\u001b[0mlen\u001b[0m\u001b[0;34m(\u001b[0m\u001b[0mxdata_post_pred\u001b[0m\u001b[0;34m)\u001b[0m\u001b[0;34m)\u001b[0m\u001b[0;34m:\u001b[0m\u001b[0;34m\u001b[0m\u001b[0;34m\u001b[0m\u001b[0m\n",
      "\u001b[0;32m/opt/conda/lib/python3.8/site-packages/p_tqdm/p_tqdm.py\u001b[0m in \u001b[0;36mp_map\u001b[0;34m(function, *iterables, **kwargs)\u001b[0m\n\u001b[1;32m     63\u001b[0m     \u001b[0mordered\u001b[0m \u001b[0;34m=\u001b[0m \u001b[0;32mTrue\u001b[0m\u001b[0;34m\u001b[0m\u001b[0;34m\u001b[0m\u001b[0m\n\u001b[1;32m     64\u001b[0m     \u001b[0mgenerator\u001b[0m \u001b[0;34m=\u001b[0m \u001b[0m_parallel\u001b[0m\u001b[0;34m(\u001b[0m\u001b[0mordered\u001b[0m\u001b[0;34m,\u001b[0m \u001b[0mfunction\u001b[0m\u001b[0;34m,\u001b[0m \u001b[0;34m*\u001b[0m\u001b[0miterables\u001b[0m\u001b[0;34m,\u001b[0m \u001b[0;34m**\u001b[0m\u001b[0mkwargs\u001b[0m\u001b[0;34m)\u001b[0m\u001b[0;34m\u001b[0m\u001b[0;34m\u001b[0m\u001b[0m\n\u001b[0;32m---> 65\u001b[0;31m     \u001b[0mresult\u001b[0m \u001b[0;34m=\u001b[0m \u001b[0mlist\u001b[0m\u001b[0;34m(\u001b[0m\u001b[0mgenerator\u001b[0m\u001b[0;34m)\u001b[0m\u001b[0;34m\u001b[0m\u001b[0;34m\u001b[0m\u001b[0m\n\u001b[0m\u001b[1;32m     66\u001b[0m \u001b[0;34m\u001b[0m\u001b[0m\n\u001b[1;32m     67\u001b[0m     \u001b[0;32mreturn\u001b[0m \u001b[0mresult\u001b[0m\u001b[0;34m\u001b[0m\u001b[0;34m\u001b[0m\u001b[0m\n",
      "\u001b[0;32m/opt/conda/lib/python3.8/site-packages/p_tqdm/p_tqdm.py\u001b[0m in \u001b[0;36m_parallel\u001b[0;34m(ordered, function, *iterables, **kwargs)\u001b[0m\n\u001b[1;32m     52\u001b[0m     \u001b[0mtqdm_func\u001b[0m \u001b[0;34m=\u001b[0m \u001b[0mkwargs\u001b[0m\u001b[0;34m.\u001b[0m\u001b[0mpop\u001b[0m\u001b[0;34m(\u001b[0m\u001b[0;34m'tqdm'\u001b[0m\u001b[0;34m,\u001b[0m \u001b[0mtqdm\u001b[0m\u001b[0;34m)\u001b[0m\u001b[0;34m\u001b[0m\u001b[0;34m\u001b[0m\u001b[0m\n\u001b[1;32m     53\u001b[0m \u001b[0;34m\u001b[0m\u001b[0m\n\u001b[0;32m---> 54\u001b[0;31m     \u001b[0;32mfor\u001b[0m \u001b[0mitem\u001b[0m \u001b[0;32min\u001b[0m \u001b[0mtqdm_func\u001b[0m\u001b[0;34m(\u001b[0m\u001b[0mmap_func\u001b[0m\u001b[0;34m(\u001b[0m\u001b[0mfunction\u001b[0m\u001b[0;34m,\u001b[0m \u001b[0;34m*\u001b[0m\u001b[0miterables\u001b[0m\u001b[0;34m)\u001b[0m\u001b[0;34m,\u001b[0m \u001b[0mtotal\u001b[0m\u001b[0;34m=\u001b[0m\u001b[0mlength\u001b[0m\u001b[0;34m,\u001b[0m \u001b[0;34m**\u001b[0m\u001b[0mkwargs\u001b[0m\u001b[0;34m)\u001b[0m\u001b[0;34m:\u001b[0m\u001b[0;34m\u001b[0m\u001b[0;34m\u001b[0m\u001b[0m\n\u001b[0m\u001b[1;32m     55\u001b[0m         \u001b[0;32myield\u001b[0m \u001b[0mitem\u001b[0m\u001b[0;34m\u001b[0m\u001b[0;34m\u001b[0m\u001b[0m\n\u001b[1;32m     56\u001b[0m \u001b[0;34m\u001b[0m\u001b[0m\n",
      "\u001b[0;32m/opt/conda/lib/python3.8/site-packages/tqdm/notebook.py\u001b[0m in \u001b[0;36m__iter__\u001b[0;34m(self)\u001b[0m\n\u001b[1;32m    252\u001b[0m     \u001b[0;32mdef\u001b[0m \u001b[0m__iter__\u001b[0m\u001b[0;34m(\u001b[0m\u001b[0mself\u001b[0m\u001b[0;34m)\u001b[0m\u001b[0;34m:\u001b[0m\u001b[0;34m\u001b[0m\u001b[0;34m\u001b[0m\u001b[0m\n\u001b[1;32m    253\u001b[0m         \u001b[0;32mtry\u001b[0m\u001b[0;34m:\u001b[0m\u001b[0;34m\u001b[0m\u001b[0;34m\u001b[0m\u001b[0m\n\u001b[0;32m--> 254\u001b[0;31m             \u001b[0;32mfor\u001b[0m \u001b[0mobj\u001b[0m \u001b[0;32min\u001b[0m \u001b[0msuper\u001b[0m\u001b[0;34m(\u001b[0m\u001b[0mtqdm_notebook\u001b[0m\u001b[0;34m,\u001b[0m \u001b[0mself\u001b[0m\u001b[0;34m)\u001b[0m\u001b[0;34m.\u001b[0m\u001b[0m__iter__\u001b[0m\u001b[0;34m(\u001b[0m\u001b[0;34m)\u001b[0m\u001b[0;34m:\u001b[0m\u001b[0;34m\u001b[0m\u001b[0;34m\u001b[0m\u001b[0m\n\u001b[0m\u001b[1;32m    255\u001b[0m                 \u001b[0;31m# return super(tqdm...) will not catch exception\u001b[0m\u001b[0;34m\u001b[0m\u001b[0;34m\u001b[0m\u001b[0;34m\u001b[0m\u001b[0m\n\u001b[1;32m    256\u001b[0m                 \u001b[0;32myield\u001b[0m \u001b[0mobj\u001b[0m\u001b[0;34m\u001b[0m\u001b[0;34m\u001b[0m\u001b[0m\n",
      "\u001b[0;32m/opt/conda/lib/python3.8/site-packages/tqdm/std.py\u001b[0m in \u001b[0;36m__iter__\u001b[0;34m(self)\u001b[0m\n\u001b[1;32m   1176\u001b[0m \u001b[0;34m\u001b[0m\u001b[0m\n\u001b[1;32m   1177\u001b[0m         \u001b[0;32mtry\u001b[0m\u001b[0;34m:\u001b[0m\u001b[0;34m\u001b[0m\u001b[0;34m\u001b[0m\u001b[0m\n\u001b[0;32m-> 1178\u001b[0;31m             \u001b[0;32mfor\u001b[0m \u001b[0mobj\u001b[0m \u001b[0;32min\u001b[0m \u001b[0miterable\u001b[0m\u001b[0;34m:\u001b[0m\u001b[0;34m\u001b[0m\u001b[0;34m\u001b[0m\u001b[0m\n\u001b[0m\u001b[1;32m   1179\u001b[0m                 \u001b[0;32myield\u001b[0m \u001b[0mobj\u001b[0m\u001b[0;34m\u001b[0m\u001b[0;34m\u001b[0m\u001b[0m\n\u001b[1;32m   1180\u001b[0m                 \u001b[0;31m# Update and possibly print the progressbar.\u001b[0m\u001b[0;34m\u001b[0m\u001b[0;34m\u001b[0m\u001b[0;34m\u001b[0m\u001b[0m\n",
      "\u001b[0;32m/opt/conda/lib/python3.8/site-packages/multiprocess/pool.py\u001b[0m in \u001b[0;36mnext\u001b[0;34m(self, timeout)\u001b[0m\n\u001b[1;32m    866\u001b[0m         \u001b[0;32mif\u001b[0m \u001b[0msuccess\u001b[0m\u001b[0;34m:\u001b[0m\u001b[0;34m\u001b[0m\u001b[0;34m\u001b[0m\u001b[0m\n\u001b[1;32m    867\u001b[0m             \u001b[0;32mreturn\u001b[0m \u001b[0mvalue\u001b[0m\u001b[0;34m\u001b[0m\u001b[0;34m\u001b[0m\u001b[0m\n\u001b[0;32m--> 868\u001b[0;31m         \u001b[0;32mraise\u001b[0m \u001b[0mvalue\u001b[0m\u001b[0;34m\u001b[0m\u001b[0;34m\u001b[0m\u001b[0m\n\u001b[0m\u001b[1;32m    869\u001b[0m \u001b[0;34m\u001b[0m\u001b[0m\n\u001b[1;32m    870\u001b[0m     \u001b[0m__next__\u001b[0m \u001b[0;34m=\u001b[0m \u001b[0mnext\u001b[0m                    \u001b[0;31m# XXX\u001b[0m\u001b[0;34m\u001b[0m\u001b[0;34m\u001b[0m\u001b[0m\n",
      "\u001b[0;32m/opt/conda/lib/python3.8/site-packages/multiprocess/pool.py\u001b[0m in \u001b[0;36mworker\u001b[0;34m()\u001b[0m\n\u001b[1;32m    123\u001b[0m         \u001b[0mjob\u001b[0m\u001b[0;34m,\u001b[0m \u001b[0mi\u001b[0m\u001b[0;34m,\u001b[0m \u001b[0mfunc\u001b[0m\u001b[0;34m,\u001b[0m \u001b[0margs\u001b[0m\u001b[0;34m,\u001b[0m \u001b[0mkwds\u001b[0m \u001b[0;34m=\u001b[0m \u001b[0mtask\u001b[0m\u001b[0;34m\u001b[0m\u001b[0;34m\u001b[0m\u001b[0m\n\u001b[1;32m    124\u001b[0m         \u001b[0;32mtry\u001b[0m\u001b[0;34m:\u001b[0m\u001b[0;34m\u001b[0m\u001b[0;34m\u001b[0m\u001b[0m\n\u001b[0;32m--> 125\u001b[0;31m             \u001b[0mresult\u001b[0m \u001b[0;34m=\u001b[0m \u001b[0;34m(\u001b[0m\u001b[0;32mTrue\u001b[0m\u001b[0;34m,\u001b[0m \u001b[0mfunc\u001b[0m\u001b[0;34m(\u001b[0m\u001b[0;34m*\u001b[0m\u001b[0margs\u001b[0m\u001b[0;34m,\u001b[0m \u001b[0;34m**\u001b[0m\u001b[0mkwds\u001b[0m\u001b[0;34m)\u001b[0m\u001b[0;34m)\u001b[0m\u001b[0;34m\u001b[0m\u001b[0;34m\u001b[0m\u001b[0m\n\u001b[0m\u001b[1;32m    126\u001b[0m         \u001b[0;32mexcept\u001b[0m \u001b[0mException\u001b[0m \u001b[0;32mas\u001b[0m \u001b[0me\u001b[0m\u001b[0;34m:\u001b[0m\u001b[0;34m\u001b[0m\u001b[0;34m\u001b[0m\u001b[0m\n\u001b[1;32m    127\u001b[0m             \u001b[0;32mif\u001b[0m \u001b[0mwrap_exception\u001b[0m \u001b[0;32mand\u001b[0m \u001b[0mfunc\u001b[0m \u001b[0;32mis\u001b[0m \u001b[0;32mnot\u001b[0m \u001b[0m_helper_reraises_exception\u001b[0m\u001b[0;34m:\u001b[0m\u001b[0;34m\u001b[0m\u001b[0;34m\u001b[0m\u001b[0m\n",
      "\u001b[0;32m/opt/conda/lib/python3.8/site-packages/pathos/helpers/mp_helper.py\u001b[0m in \u001b[0;36m<lambda>\u001b[0;34m()\u001b[0m\n\u001b[1;32m     13\u001b[0m \u001b[0;32mdef\u001b[0m \u001b[0mstarargs\u001b[0m\u001b[0;34m(\u001b[0m\u001b[0mf\u001b[0m\u001b[0;34m)\u001b[0m\u001b[0;34m:\u001b[0m\u001b[0;34m\u001b[0m\u001b[0;34m\u001b[0m\u001b[0m\n\u001b[1;32m     14\u001b[0m     \u001b[0;34m\"\"\"decorator to convert a many-arg function to a single-arg function\"\"\"\u001b[0m\u001b[0;34m\u001b[0m\u001b[0;34m\u001b[0m\u001b[0m\n\u001b[0;32m---> 15\u001b[0;31m     \u001b[0mfunc\u001b[0m \u001b[0;34m=\u001b[0m \u001b[0;32mlambda\u001b[0m \u001b[0margs\u001b[0m\u001b[0;34m:\u001b[0m \u001b[0mf\u001b[0m\u001b[0;34m(\u001b[0m\u001b[0;34m*\u001b[0m\u001b[0margs\u001b[0m\u001b[0;34m)\u001b[0m\u001b[0;34m\u001b[0m\u001b[0;34m\u001b[0m\u001b[0m\n\u001b[0m\u001b[1;32m     16\u001b[0m    \u001b[0;31m#func.__module__ = f.__module__\u001b[0m\u001b[0;34m\u001b[0m\u001b[0;34m\u001b[0m\u001b[0;34m\u001b[0m\u001b[0m\n\u001b[1;32m     17\u001b[0m    \u001b[0;31m#func.__name__ = f.__name__\u001b[0m\u001b[0;34m\u001b[0m\u001b[0;34m\u001b[0m\u001b[0;34m\u001b[0m\u001b[0m\n",
      "\u001b[0;32m~/scripts/post_pred_gen_redefined.py\u001b[0m in \u001b[0;36mpost_pred_gen\u001b[0;34m()\u001b[0m\n\u001b[1;32m    140\u001b[0m \u001b[0;34m\u001b[0m\u001b[0m\n\u001b[1;32m    141\u001b[0m     \u001b[0;32mfor\u001b[0m \u001b[0mname\u001b[0m\u001b[0;34m,\u001b[0m \u001b[0mdata\u001b[0m \u001b[0;32min\u001b[0m \u001b[0miter_data\u001b[0m\u001b[0;34m:\u001b[0m\u001b[0;34m\u001b[0m\u001b[0;34m\u001b[0m\u001b[0m\n\u001b[0;32m--> 142\u001b[0;31m         \u001b[0mnode\u001b[0m \u001b[0;34m=\u001b[0m \u001b[0mmodel\u001b[0m\u001b[0;34m.\u001b[0m\u001b[0mget_data_nodes\u001b[0m\u001b[0;34m(\u001b[0m\u001b[0mdata\u001b[0m\u001b[0;34m.\u001b[0m\u001b[0mindex\u001b[0m\u001b[0;34m)\u001b[0m\u001b[0;34m\u001b[0m\u001b[0;34m\u001b[0m\u001b[0m\n\u001b[0m\u001b[1;32m    143\u001b[0m \u001b[0;34m\u001b[0m\u001b[0m\n\u001b[1;32m    144\u001b[0m         \u001b[0;32mif\u001b[0m \u001b[0mprogress_bar\u001b[0m\u001b[0;34m:\u001b[0m\u001b[0;34m\u001b[0m\u001b[0;34m\u001b[0m\u001b[0m\n",
      "\u001b[0;32m/opt/conda/lib/python3.8/site-packages/kabuki/hierarchical.py\u001b[0m in \u001b[0;36mget_data_nodes\u001b[0;34m()\u001b[0m\n\u001b[1;32m    947\u001b[0m \u001b[0;34m\u001b[0m\u001b[0m\n\u001b[1;32m    948\u001b[0m         \u001b[0;32mif\u001b[0m \u001b[0mlen\u001b[0m\u001b[0;34m(\u001b[0m\u001b[0mdata_nodes\u001b[0m\u001b[0;34m)\u001b[0m \u001b[0;34m!=\u001b[0m \u001b[0;36m1\u001b[0m\u001b[0;34m:\u001b[0m\u001b[0;34m\u001b[0m\u001b[0;34m\u001b[0m\u001b[0m\n\u001b[0;32m--> 949\u001b[0;31m             \u001b[0;32mraise\u001b[0m \u001b[0mNotImplementedError\u001b[0m\u001b[0;34m(\u001b[0m\u001b[0;34m\"Supply a grouping so that at most 1 observed node codes for each group.\"\u001b[0m\u001b[0;34m)\u001b[0m\u001b[0;34m\u001b[0m\u001b[0;34m\u001b[0m\u001b[0m\n\u001b[0m\u001b[1;32m    950\u001b[0m \u001b[0;34m\u001b[0m\u001b[0m\n\u001b[1;32m    951\u001b[0m         \u001b[0;32mreturn\u001b[0m \u001b[0mdata_nodes\u001b[0m\u001b[0;34m[\u001b[0m\u001b[0;36m0\u001b[0m\u001b[0;34m]\u001b[0m\u001b[0;34m\u001b[0m\u001b[0;34m\u001b[0m\u001b[0m\n",
      "\u001b[0;31mNotImplementedError\u001b[0m: Supply a grouping so that at most 1 observed node codes for each group."
     ]
    },
    {
     "name": "stdout",
     "output_type": "stream",
     "text": [
      "started to generate posterior predicitves\n",
      "started to generate posterior predicitves\n",
      "started to generate posterior predicitves\n",
      "WARNING: Custom link functions will not be loaded.\n",
      "WARNING: Custom link functions will not be loaded.\n",
      "WARNING: Custom link functions will not be loaded.\n",
      "WARNING: Custom link functions will not be loaded.\n",
      "started to generate posterior predicitves\n",
      "started to generate posterior predicitves\n",
      "started to generate posterior predicitves\n",
      "started to generate posterior predicitves\n",
      "running chain 0 for model ms1_issue\n",
      "Adding these covariates:running chain 1 for model ms1_issue\n",
      "\n",
      "['v_Intercept']\n",
      "Adding these covariates:Adding these covariates:\n",
      "\n",
      "['z_Intercept']\n",
      "['v_Intercept']\n",
      "Adding these covariates:\n",
      "['t_Intercept']Adding these covariates:\n",
      "\n",
      "Adding these covariates:['z_Intercept']\n",
      "running chain 2 for model ms1_issue\n",
      "['a_Intercept']\n",
      "\n",
      "Adding these covariates:\n",
      "['t_Intercept']\n",
      "Adding these covariates:Adding these covariates:\n",
      "\n",
      "['v_Intercept']['a_Intercept']\n",
      "\n",
      "running chain 3 for model ms1_issueAdding these covariates:\n",
      "['z_Intercept']\n",
      "\n",
      "Adding these covariates:Adding these covariates:\n",
      "\n",
      "['v_Intercept']['t_Intercept']\n",
      "\n",
      "Adding these covariates:Adding these covariates:\n",
      "\n",
      "['a_Intercept']['z_Intercept']\n",
      "\n",
      "Adding these covariates:\n",
      "['t_Intercept']\n",
      "Adding these covariates:\n",
      "['a_Intercept']\n"
     ]
    },
    {
     "name": "stderr",
     "output_type": "stream",
     "text": [
      "/opt/conda/lib/python3.8/site-packages/scipy/optimize/optimize.py:2215: RuntimeWarning: invalid value encountered in double_scalars\n",
      "  tmp2 = (x - v) * (fx - fw)\n",
      "/opt/conda/lib/python3.8/site-packages/scipy/optimize/optimize.py:2215: RuntimeWarning: invalid value encountered in double_scalars\n",
      "  tmp2 = (x - v) * (fx - fw)\n",
      "/opt/conda/lib/python3.8/site-packages/scipy/optimize/optimize.py:2215: RuntimeWarning: invalid value encountered in double_scalars\n",
      "  tmp2 = (x - v) * (fx - fw)\n",
      "/opt/conda/lib/python3.8/site-packages/scipy/optimize/optimize.py:2215: RuntimeWarning: invalid value encountered in double_scalars\n",
      "  tmp2 = (x - v) * (fx - fw)\n"
     ]
    },
    {
     "name": "stdout",
     "output_type": "stream",
     "text": [
      " [-                 3%                  ] 3 of 100 complete in 0.5 sec[-                 3%                  ] 3 of 100 complete in 0.5 sec[-                 3%                  ] 3 of 100 complete in 0.5 sec[-                 4%                  ] 4 of 100 complete in 0.7 sec[-                 5%                  ] 5 of 100 complete in 1.0 sec[-                 5%                  ] 5 of 100 complete in 1.0 sec[-                 5%                  ] 5 of 100 complete in 1.0 sec[--                6%                  ] 6 of 100 complete in 1.3 sec[--                7%                  ] 7 of 100 complete in 1.6 sec[--                7%                  ] 7 of 100 complete in 1.6 sec[--                7%                  ] 7 of 100 complete in 1.6 sec[---               8%                  ] 8 of 100 complete in 1.9 sec[---               9%                  ] 9 of 100 complete in 2.2 sec[---               9%                  ] 9 of 100 complete in 2.2 sec[---               9%                  ] 9 of 100 complete in 2.1 sec[---              10%                  ] 10 of 100 complete in 2.5 sec[----             11%                  ] 11 of 100 complete in 2.7 sec[----             11%                  ] 11 of 100 complete in 2.7 sec[----             12%                  ] 12 of 100 complete in 3.0 sec[----             12%                  ] 12 of 100 complete in 3.1 sec[----             13%                  ] 13 of 100 complete in 3.2 sec[----             13%                  ] 13 of 100 complete in 3.3 sec[-----            14%                  ] 14 of 100 complete in 3.5 sec[-----            14%                  ] 14 of 100 complete in 3.7 sec[-----            15%                  ] 15 of 100 complete in 3.7 sec[-----            15%                  ] 15 of 100 complete in 3.8 sec[------           16%                  ] 16 of 100 complete in 4.1 sec[------           16%                  ] 16 of 100 complete in 4.2 sec[------           17%                  ] 17 of 100 complete in 4.4 sec[------           18%                  ] 18 of 100 complete in 4.5 sec[------           18%                  ] 18 of 100 complete in 4.7 sec[------           18%                  ] 18 of 100 complete in 4.8 sec[-------          19%                  ] 19 of 100 complete in 5.0 sec[-------          20%                  ] 20 of 100 complete in 5.0 sec[-------          20%                  ] 20 of 100 complete in 5.3 sec[-------          20%                  ] 20 of 100 complete in 5.5 sec[-------          21%                  ] 21 of 100 complete in 5.6 sec[--------         22%                  ] 22 of 100 complete in 5.5 sec[--------         22%                  ] 22 of 100 complete in 5.9 sec[--------         22%                  ] 22 of 100 complete in 6.0 sec[---------        24%                  ] 24 of 100 complete in 6.0 sec[--------         23%                  ] 23 of 100 complete in 6.1 sec[---------        24%                  ] 24 of 100 complete in 6.5 sec[---------        24%                  ] 24 of 100 complete in 6.6 sec[---------        26%                  ] 26 of 100 complete in 6.5 sec[---------        25%                  ] 25 of 100 complete in 6.7 sec[---------        26%                  ] 26 of 100 complete in 7.1 sec[---------        26%                  ] 26 of 100 complete in 7.2 sec[----------       28%                  ] 28 of 100 complete in 7.1 sec[----------       27%                  ] 27 of 100 complete in 7.3 sec[----------       28%                  ] 28 of 100 complete in 7.7 sec[-----------      30%                  ] 30 of 100 complete in 7.6 sec[----------       28%                  ] 28 of 100 complete in 7.8 sec[-----------      29%                  ] 29 of 100 complete in 7.8 sec[-----------      30%                  ] 30 of 100 complete in 8.2 sec[------------     32%                  ] 32 of 100 complete in 8.2 sec[-----------      30%                  ] 30 of 100 complete in 8.4 sec[------------     32%                  ] 32 of 100 complete in 8.5 sec[------------     32%                  ] 32 of 100 complete in 8.8 sec[------------     34%                  ] 34 of 100 complete in 8.8 sec[------------     34%                  ] 34 of 100 complete in 9.0 sec[------------     32%                  ] 32 of 100 complete in 9.1 sec[------------     34%                  ] 34 of 100 complete in 9.3 sec[-------------    36%                  ] 36 of 100 complete in 9.5 sec[-------------    36%                  ] 36 of 100 complete in 9.6 sec[------------     34%                  ] 34 of 100 complete in 9.8 sec[-------------    36%                  ] 36 of 100 complete in 9.9 sec[--------------   38%                  ] 38 of 100 complete in 10.1 sec[--------------   39%                  ] 39 of 100 complete in 10.3 sec[--------------   38%                  ] 38 of 100 complete in 10.4 sec[-------------    36%                  ] 36 of 100 complete in 10.5 sec[---------------  40%                  ] 40 of 100 complete in 10.8 sec[---------------  41%                  ] 41 of 100 complete in 10.9 sec[---------------  40%                  ] 40 of 100 complete in 11.0 sec[--------------   38%                  ] 38 of 100 complete in 11.3 sec[---------------  42%                  ] 42 of 100 complete in 11.5 sec[---------------  42%                  ] 42 of 100 complete in 11.4 sec[---------------- 44%                  ] 44 of 100 complete in 11.6 sec[---------------  40%                  ] 40 of 100 complete in 11.9 sec[---------------- 44%                  ] 44 of 100 complete in 12.1 sec[-----------------46%                  ] 46 of 100 complete in 12.2 sec[---------------- 44%                  ] 44 of 100 complete in 12.2 sec[---------------  42%                  ] 42 of 100 complete in 12.4 sec[-----------------48%                  ] 48 of 100 complete in 12.7 sec[-----------------46%                  ] 46 of 100 complete in 12.8 sec[---------------- 44%                  ] 44 of 100 complete in 13.0 sec[-----------------46%                  ] 46 of 100 complete in 13.0 sec[-----------------50%                  ] 50 of 100 complete in 13.2 sec[-----------------48%                  ] 48 of 100 complete in 13.4 sec[-----------------46%                  ] 46 of 100 complete in 13.7 sec[-----------------48%                  ] 48 of 100 complete in 13.7 sec[-----------------52%                  ] 52 of 100 complete in 13.8 sec[-----------------50%                  ] 50 of 100 complete in 14.1 sec[-----------------54%                  ] 54 of 100 complete in 14.3 sec[-----------------48%                  ] 48 of 100 complete in 14.3 sec[-----------------50%                  ] 50 of 100 complete in 14.3 sec[-----------------52%                  ] 52 of 100 complete in 14.7 sec[-----------------50%                  ] 50 of 100 complete in 15.0 sec[-----------------57%-                 ] 57 of 100 complete in 15.0 sec[-----------------52%                  ] 52 of 100 complete in 15.0 sec[-----------------54%                  ] 54 of 100 complete in 15.3 sec[-----------------52%                  ] 52 of 100 complete in 15.7 sec[-----------------60%--                ] 60 of 100 complete in 15.7 sec[-----------------54%                  ] 54 of 100 complete in 15.7 sec[-----------------56%-                 ] 56 of 100 complete in 15.9 sec[-----------------54%                  ] 54 of 100 complete in 16.3 sec[-----------------58%--                ] 58 of 100 complete in 16.5 sec[-----------------63%---               ] 63 of 100 complete in 16.4 sec[-----------------56%-                 ] 56 of 100 complete in 16.4 sec[-----------------65%----              ] 65 of 100 complete in 17.0 sec[-----------------56%-                 ] 56 of 100 complete in 17.0 sec[-----------------60%--                ] 60 of 100 complete in 17.1 sec[-----------------58%--                ] 58 of 100 complete in 17.2 sec[-----------------67%-----             ] 67 of 100 complete in 17.5 sec[-----------------62%---               ] 62 of 100 complete in 17.7 sec[-----------------58%--                ] 58 of 100 complete in 17.9 sec[-----------------60%--                ] 60 of 100 complete in 17.8 sec[-----------------69%------            ] 69 of 100 complete in 18.1 sec[-----------------64%----              ] 64 of 100 complete in 18.3 sec[-----------------71%------            ] 71 of 100 complete in 18.6 sec[-----------------60%--                ] 60 of 100 complete in 18.7 sec[-----------------62%---               ] 62 of 100 complete in 18.6 sec[-----------------66%-----             ] 66 of 100 complete in 18.9 sec[-----------------73%-------           ] 73 of 100 complete in 19.2 sec[-----------------62%---               ] 62 of 100 complete in 19.4 sec[-----------------64%----              ] 64 of 100 complete in 19.3 sec[-----------------68%-----             ] 68 of 100 complete in 19.6 sec[-----------------75%--------          ] 75 of 100 complete in 19.8 sec[-----------------64%----              ] 64 of 100 complete in 20.1 sec[-----------------70%------            ] 70 of 100 complete in 20.2 sec[-----------------66%-----             ] 66 of 100 complete in 20.1 sec[-----------------77%---------         ] 77 of 100 complete in 20.4 sec[-----------------72%-------           ] 72 of 100 complete in 20.8 sec[-----------------66%-----             ] 66 of 100 complete in 20.8 sec[-----------------79%----------        ] 79 of 100 complete in 20.9 sec[-----------------68%-----             ] 68 of 100 complete in 20.9 sec[-----------------74%--------          ] 74 of 100 complete in 21.4 sec[-----------------68%-----             ] 68 of 100 complete in 21.5 sec[-----------------81%----------        ] 81 of 100 complete in 21.5 sec[-----------------70%------            ] 70 of 100 complete in 21.7 sec[-----------------76%--------          ] 76 of 100 complete in 22.0 sec[-----------------83%-----------       ] 83 of 100 complete in 22.1 sec[-----------------70%------            ] 70 of 100 complete in 22.2 sec[-----------------72%-------           ] 72 of 100 complete in 22.4 sec[-----------------78%---------         ] 78 of 100 complete in 22.6 sec[-----------------85%------------      ] 85 of 100 complete in 22.7 sec[-----------------72%-------           ] 72 of 100 complete in 23.0 sec[-----------------80%----------        ] 80 of 100 complete in 23.3 sec[-----------------87%-------------     ] 87 of 100 complete in 23.2 sec[-----------------74%--------          ] 74 of 100 complete in 23.2 sec[-----------------74%--------          ] 74 of 100 complete in 23.7 sec[-----------------89%-------------     ] 89 of 100 complete in 23.9 sec[-----------------82%-----------       ] 82 of 100 complete in 24.0 sec[-----------------76%--------          ] 76 of 100 complete in 24.1 sec[-----------------91%--------------    ] 91 of 100 complete in 24.4 sec[-----------------76%--------          ] 76 of 100 complete in 24.5 sec[-----------------84%-----------       ] 84 of 100 complete in 24.7 sec[-----------------93%---------------   ] 93 of 100 complete in 25.0 sec[-----------------78%---------         ] 78 of 100 complete in 24.9 sec[-----------------78%---------         ] 78 of 100 complete in 25.3 sec[-----------------95%----------------  ] 95 of 100 complete in 25.5 sec[-----------------86%------------      ] 86 of 100 complete in 25.6 sec[-----------------80%----------        ] 80 of 100 complete in 25.7 sec[-----------------97%----------------  ] 97 of 100 complete in 26.0 sec[-----------------80%----------        ] 80 of 100 complete in 26.1 sec[-----------------88%-------------     ] 88 of 100 complete in 26.4 sec[-----------------99%----------------- ] 99 of 100 complete in 26.5 sec[-----------------82%-----------       ] 82 of 100 complete in 26.6 sec[-----------------82%-----------       ] 82 of 100 complete in 26.9 sec[-----------------90%--------------    ] 90 of 100 complete in 27.1 sec[-----------------101%-----------------] 101 of 100 complete in 27.1 sec[-----------------84%-----------       ] 84 of 100 complete in 27.5 sec[-----------------84%-----------       ] 84 of 100 complete in 27.6 sec[-----------------92%--------------    ] 92 of 100 complete in 27.8 secWARNING: Will not save custom link functions.\n",
      "WARNING: Will not save custom link functions.\n",
      "WARNING: Will not save custom link functions.\n",
      "WARNING: Will not save custom link functions.\n",
      " -----------------88%-------------     ] 88 of 100 complete in 29.1 secc[-----------------86%------------      ] 86 of 100 complete in 28.4 sec[-----------------94%---------------   ] 94 of 100 complete in 28.5 sec [-----------------96%----------------  ] 96 of 100 complete in 29.1 sec[-----------------88%-------------     ] 88 of 100 complete in 29.2 sec[-----------------98%----------------- ] 98 of 100 complete in 29.8 sec[-----------------90%--------------    ] 90 of 100 complete in 29.8 sec[-----------------90%--------------    ] 90 of 100 complete in 29.9 sec[-----------------100%-----------------] 100 of 100 complete in 30.4 sec[-----------------100%-----------------] 100 of 100 complete in 30.7 sec[-----------------92%--------------    ] 92 of 100 complete in 30.7 sec[-----------------92%--------------    ] 92 of 100 complete in 30.7 sec[-----------------94%---------------   ] 94 of 100 complete in 31.5 secWARNING: Will not save custom link functions.\n",
      "WARNING: Will not save custom link functions.\n",
      "WARNING: Will not save custom link functions.\n",
      "WARNING: Will not save custom link functions.\n",
      " -----------------98%----------------- ] 98 of 100 complete in 32.7 secc [-----------------96%----------------  ] 96 of 100 complete in 32.0 sec [-----------------98%----------------- ] 98 of 100 complete in 33.0 sec[-----------------100%-----------------] 100 of 100 complete in 33.3 sec[-----------------100%-----------------] 100 of 100 complete in 33.7 sec[-----------------100%-----------------] 100 of 100 complete in 33.9 sec[-----------------100%-----------------] 100 of 100 complete in 34.3 secWARNING: Will not save custom link functions.\n",
      "WARNING: Will not save custom link functions.\n",
      "WARNING: Will not save custom link functions.\n",
      "WARNING: Will not save custom link functions.\n",
      "WARNING: Will not save custom link functions.\n",
      "WARNING: Will not save custom link functions.\n",
      "WARNING: Will not save custom link functions.\n",
      "WARNING: Will not save custom link functions.\n"
     ]
    }
   ],
   "source": [
    "%%time\n",
    "InfData_msi = InferenceDataFromHDDM(msires, nppc = 10, save_name=\"msi4\")"
   ]
  },
  {
   "cell_type": "code",
   "execution_count": 49,
   "id": "936cd180-b71f-4be5-bef6-71636aad5bbe",
   "metadata": {},
   "outputs": [
    {
     "name": "stdout",
     "output_type": "stream",
     "text": [
      "WARNING: Custom link functions will not be loaded.\n",
      "WARNING: Custom link functions will not be loaded.\n",
      "WARNING: Custom link functions will not be loaded.\n",
      "WARNING: Custom link functions will not be loaded.\n"
     ]
    }
   ],
   "source": [
    "msires = Parallel(n_jobs = 4)(delayed(ms1_issue)(id = i, df = df, samples=100,burn = 10,thin=2, save_name = 'msi' ) for i in range(4))"
   ]
  },
  {
   "cell_type": "code",
   "execution_count": 50,
   "id": "1ec09d11-64a5-428f-b4f0-3466a8ee0ced",
   "metadata": {},
   "outputs": [
    {
     "name": "stdout",
     "output_type": "stream",
     "text": [
      "start converting msi3\n",
      "WARNING: Will not save custom link functions.\n",
      "WARNING: Will not save custom link functions.\n",
      "WARNING: Will not save custom link functions.\n",
      "WARNING: Will not save custom link functions.\n"
     ]
    },
    {
     "data": {
      "application/vnd.jupyter.widget-view+json": {
       "model_id": "d8f8ae1c8a884ae497a5c16897b85724",
       "version_major": 2,
       "version_minor": 0
      },
      "text/plain": [
       "  0%|          | 0/4 [00:00<?, ?it/s]"
      ]
     },
     "metadata": {},
     "output_type": "display_data"
    },
    {
     "name": "stdout",
     "output_type": "stream",
     "text": [
      "WARNING: Will not save custom link functions.\n",
      "WARNING: Will not save custom link functions.\n",
      "WARNING: Will not save custom link functions.\n",
      "WARNING: Will not save custom link functions.\n",
      "WARNING: Will not save custom link functions.\n",
      "WARNING: Will not save custom link functions.\n",
      "WARNING: Will not save custom link functions.\n",
      "WARNING: Will not save custom link functions.\n",
      "WARNING: Will not save custom link functions.\n",
      "WARNING: Will not save custom link functions.\n",
      "WARNING: Will not save custom link functions.\n",
      "WARNING: Will not save custom link functions.\n"
     ]
    },
    {
     "ename": "NotImplementedError",
     "evalue": "Supply a grouping so that at most 1 observed node codes for each group.",
     "output_type": "error",
     "traceback": [
      "\u001b[0;31m---------------------------------------------------------------------------\u001b[0m",
      "\u001b[0;31mRemoteTraceback\u001b[0m                           Traceback (most recent call last)",
      "\u001b[0;31mRemoteTraceback\u001b[0m: \n\"\"\"\nTraceback (most recent call last):\n  File \"/opt/conda/lib/python3.8/site-packages/multiprocess/pool.py\", line 125, in worker\n    result = (True, func(*args, **kwds))\n  File \"/opt/conda/lib/python3.8/site-packages/pathos/helpers/mp_helper.py\", line 15, in <lambda>\n    func = lambda args: f(*args)\n  File \"/home/jovyan/scripts/post_pred_gen_redefined.py\", line 142, in post_pred_gen\n    node = model.get_data_nodes(data.index)\n  File \"/opt/conda/lib/python3.8/site-packages/kabuki/hierarchical.py\", line 949, in get_data_nodes\n    raise NotImplementedError(\"Supply a grouping so that at most 1 observed node codes for each group.\")\nNotImplementedError: Supply a grouping so that at most 1 observed node codes for each group.\n\"\"\"",
      "\nThe above exception was the direct cause of the following exception:\n",
      "\u001b[0;31mNotImplementedError\u001b[0m                       Traceback (most recent call last)",
      "\u001b[0;32m<timed exec>\u001b[0m in \u001b[0;36m<module>\u001b[0;34m\u001b[0m\n",
      "\u001b[0;32m~/scripts/InferenceDataFromHDDM.py\u001b[0m in \u001b[0;36mInferenceDataFromHDDM\u001b[0;34m(modelres, nppc, save_name)\u001b[0m\n\u001b[1;32m     65\u001b[0m         \u001b[0;31m### Posterior predictives\u001b[0m\u001b[0;34m\u001b[0m\u001b[0;34m\u001b[0m\u001b[0;34m\u001b[0m\u001b[0m\n\u001b[1;32m     66\u001b[0m         \u001b[0mxdata_post_pred\u001b[0m \u001b[0;34m=\u001b[0m \u001b[0;34m[\u001b[0m\u001b[0;34m]\u001b[0m \u001b[0;31m# define an empty dict\u001b[0m\u001b[0;34m\u001b[0m\u001b[0;34m\u001b[0m\u001b[0m\n\u001b[0;32m---> 67\u001b[0;31m         \u001b[0mxdata_post_pred\u001b[0m \u001b[0;34m=\u001b[0m \u001b[0mp_map\u001b[0m\u001b[0;34m(\u001b[0m\u001b[0mpartial\u001b[0m\u001b[0;34m(\u001b[0m\u001b[0mpost_pred_gen\u001b[0m\u001b[0;34m,\u001b[0m \u001b[0msamples\u001b[0m \u001b[0;34m=\u001b[0m \u001b[0mnppc\u001b[0m\u001b[0;34m)\u001b[0m\u001b[0;34m,\u001b[0m \u001b[0mms_tmp\u001b[0m\u001b[0;34m)\u001b[0m\u001b[0;34m\u001b[0m\u001b[0;34m\u001b[0m\u001b[0m\n\u001b[0m\u001b[1;32m     68\u001b[0m \u001b[0;34m\u001b[0m\u001b[0m\n\u001b[1;32m     69\u001b[0m         \u001b[0;32mfor\u001b[0m \u001b[0mchain\u001b[0m \u001b[0;32min\u001b[0m \u001b[0mrange\u001b[0m\u001b[0;34m(\u001b[0m\u001b[0mlen\u001b[0m\u001b[0;34m(\u001b[0m\u001b[0mxdata_post_pred\u001b[0m\u001b[0;34m)\u001b[0m\u001b[0;34m)\u001b[0m\u001b[0;34m:\u001b[0m\u001b[0;34m\u001b[0m\u001b[0;34m\u001b[0m\u001b[0m\n",
      "\u001b[0;32m/opt/conda/lib/python3.8/site-packages/p_tqdm/p_tqdm.py\u001b[0m in \u001b[0;36mp_map\u001b[0;34m(function, *iterables, **kwargs)\u001b[0m\n\u001b[1;32m     63\u001b[0m     \u001b[0mordered\u001b[0m \u001b[0;34m=\u001b[0m \u001b[0;32mTrue\u001b[0m\u001b[0;34m\u001b[0m\u001b[0;34m\u001b[0m\u001b[0m\n\u001b[1;32m     64\u001b[0m     \u001b[0mgenerator\u001b[0m \u001b[0;34m=\u001b[0m \u001b[0m_parallel\u001b[0m\u001b[0;34m(\u001b[0m\u001b[0mordered\u001b[0m\u001b[0;34m,\u001b[0m \u001b[0mfunction\u001b[0m\u001b[0;34m,\u001b[0m \u001b[0;34m*\u001b[0m\u001b[0miterables\u001b[0m\u001b[0;34m,\u001b[0m \u001b[0;34m**\u001b[0m\u001b[0mkwargs\u001b[0m\u001b[0;34m)\u001b[0m\u001b[0;34m\u001b[0m\u001b[0;34m\u001b[0m\u001b[0m\n\u001b[0;32m---> 65\u001b[0;31m     \u001b[0mresult\u001b[0m \u001b[0;34m=\u001b[0m \u001b[0mlist\u001b[0m\u001b[0;34m(\u001b[0m\u001b[0mgenerator\u001b[0m\u001b[0;34m)\u001b[0m\u001b[0;34m\u001b[0m\u001b[0;34m\u001b[0m\u001b[0m\n\u001b[0m\u001b[1;32m     66\u001b[0m \u001b[0;34m\u001b[0m\u001b[0m\n\u001b[1;32m     67\u001b[0m     \u001b[0;32mreturn\u001b[0m \u001b[0mresult\u001b[0m\u001b[0;34m\u001b[0m\u001b[0;34m\u001b[0m\u001b[0m\n",
      "\u001b[0;32m/opt/conda/lib/python3.8/site-packages/p_tqdm/p_tqdm.py\u001b[0m in \u001b[0;36m_parallel\u001b[0;34m(ordered, function, *iterables, **kwargs)\u001b[0m\n\u001b[1;32m     52\u001b[0m     \u001b[0mtqdm_func\u001b[0m \u001b[0;34m=\u001b[0m \u001b[0mkwargs\u001b[0m\u001b[0;34m.\u001b[0m\u001b[0mpop\u001b[0m\u001b[0;34m(\u001b[0m\u001b[0;34m'tqdm'\u001b[0m\u001b[0;34m,\u001b[0m \u001b[0mtqdm\u001b[0m\u001b[0;34m)\u001b[0m\u001b[0;34m\u001b[0m\u001b[0;34m\u001b[0m\u001b[0m\n\u001b[1;32m     53\u001b[0m \u001b[0;34m\u001b[0m\u001b[0m\n\u001b[0;32m---> 54\u001b[0;31m     \u001b[0;32mfor\u001b[0m \u001b[0mitem\u001b[0m \u001b[0;32min\u001b[0m \u001b[0mtqdm_func\u001b[0m\u001b[0;34m(\u001b[0m\u001b[0mmap_func\u001b[0m\u001b[0;34m(\u001b[0m\u001b[0mfunction\u001b[0m\u001b[0;34m,\u001b[0m \u001b[0;34m*\u001b[0m\u001b[0miterables\u001b[0m\u001b[0;34m)\u001b[0m\u001b[0;34m,\u001b[0m \u001b[0mtotal\u001b[0m\u001b[0;34m=\u001b[0m\u001b[0mlength\u001b[0m\u001b[0;34m,\u001b[0m \u001b[0;34m**\u001b[0m\u001b[0mkwargs\u001b[0m\u001b[0;34m)\u001b[0m\u001b[0;34m:\u001b[0m\u001b[0;34m\u001b[0m\u001b[0;34m\u001b[0m\u001b[0m\n\u001b[0m\u001b[1;32m     55\u001b[0m         \u001b[0;32myield\u001b[0m \u001b[0mitem\u001b[0m\u001b[0;34m\u001b[0m\u001b[0;34m\u001b[0m\u001b[0m\n\u001b[1;32m     56\u001b[0m \u001b[0;34m\u001b[0m\u001b[0m\n",
      "\u001b[0;32m/opt/conda/lib/python3.8/site-packages/tqdm/notebook.py\u001b[0m in \u001b[0;36m__iter__\u001b[0;34m(self)\u001b[0m\n\u001b[1;32m    252\u001b[0m     \u001b[0;32mdef\u001b[0m \u001b[0m__iter__\u001b[0m\u001b[0;34m(\u001b[0m\u001b[0mself\u001b[0m\u001b[0;34m)\u001b[0m\u001b[0;34m:\u001b[0m\u001b[0;34m\u001b[0m\u001b[0;34m\u001b[0m\u001b[0m\n\u001b[1;32m    253\u001b[0m         \u001b[0;32mtry\u001b[0m\u001b[0;34m:\u001b[0m\u001b[0;34m\u001b[0m\u001b[0;34m\u001b[0m\u001b[0m\n\u001b[0;32m--> 254\u001b[0;31m             \u001b[0;32mfor\u001b[0m \u001b[0mobj\u001b[0m \u001b[0;32min\u001b[0m \u001b[0msuper\u001b[0m\u001b[0;34m(\u001b[0m\u001b[0mtqdm_notebook\u001b[0m\u001b[0;34m,\u001b[0m \u001b[0mself\u001b[0m\u001b[0;34m)\u001b[0m\u001b[0;34m.\u001b[0m\u001b[0m__iter__\u001b[0m\u001b[0;34m(\u001b[0m\u001b[0;34m)\u001b[0m\u001b[0;34m:\u001b[0m\u001b[0;34m\u001b[0m\u001b[0;34m\u001b[0m\u001b[0m\n\u001b[0m\u001b[1;32m    255\u001b[0m                 \u001b[0;31m# return super(tqdm...) will not catch exception\u001b[0m\u001b[0;34m\u001b[0m\u001b[0;34m\u001b[0m\u001b[0;34m\u001b[0m\u001b[0m\n\u001b[1;32m    256\u001b[0m                 \u001b[0;32myield\u001b[0m \u001b[0mobj\u001b[0m\u001b[0;34m\u001b[0m\u001b[0;34m\u001b[0m\u001b[0m\n",
      "\u001b[0;32m/opt/conda/lib/python3.8/site-packages/tqdm/std.py\u001b[0m in \u001b[0;36m__iter__\u001b[0;34m(self)\u001b[0m\n\u001b[1;32m   1176\u001b[0m \u001b[0;34m\u001b[0m\u001b[0m\n\u001b[1;32m   1177\u001b[0m         \u001b[0;32mtry\u001b[0m\u001b[0;34m:\u001b[0m\u001b[0;34m\u001b[0m\u001b[0;34m\u001b[0m\u001b[0m\n\u001b[0;32m-> 1178\u001b[0;31m             \u001b[0;32mfor\u001b[0m \u001b[0mobj\u001b[0m \u001b[0;32min\u001b[0m \u001b[0miterable\u001b[0m\u001b[0;34m:\u001b[0m\u001b[0;34m\u001b[0m\u001b[0;34m\u001b[0m\u001b[0m\n\u001b[0m\u001b[1;32m   1179\u001b[0m                 \u001b[0;32myield\u001b[0m \u001b[0mobj\u001b[0m\u001b[0;34m\u001b[0m\u001b[0;34m\u001b[0m\u001b[0m\n\u001b[1;32m   1180\u001b[0m                 \u001b[0;31m# Update and possibly print the progressbar.\u001b[0m\u001b[0;34m\u001b[0m\u001b[0;34m\u001b[0m\u001b[0;34m\u001b[0m\u001b[0m\n",
      "\u001b[0;32m/opt/conda/lib/python3.8/site-packages/multiprocess/pool.py\u001b[0m in \u001b[0;36mnext\u001b[0;34m(self, timeout)\u001b[0m\n\u001b[1;32m    866\u001b[0m         \u001b[0;32mif\u001b[0m \u001b[0msuccess\u001b[0m\u001b[0;34m:\u001b[0m\u001b[0;34m\u001b[0m\u001b[0;34m\u001b[0m\u001b[0m\n\u001b[1;32m    867\u001b[0m             \u001b[0;32mreturn\u001b[0m \u001b[0mvalue\u001b[0m\u001b[0;34m\u001b[0m\u001b[0;34m\u001b[0m\u001b[0m\n\u001b[0;32m--> 868\u001b[0;31m         \u001b[0;32mraise\u001b[0m \u001b[0mvalue\u001b[0m\u001b[0;34m\u001b[0m\u001b[0;34m\u001b[0m\u001b[0m\n\u001b[0m\u001b[1;32m    869\u001b[0m \u001b[0;34m\u001b[0m\u001b[0m\n\u001b[1;32m    870\u001b[0m     \u001b[0m__next__\u001b[0m \u001b[0;34m=\u001b[0m \u001b[0mnext\u001b[0m                    \u001b[0;31m# XXX\u001b[0m\u001b[0;34m\u001b[0m\u001b[0;34m\u001b[0m\u001b[0m\n",
      "\u001b[0;32m/opt/conda/lib/python3.8/site-packages/multiprocess/pool.py\u001b[0m in \u001b[0;36mworker\u001b[0;34m()\u001b[0m\n\u001b[1;32m    123\u001b[0m         \u001b[0mjob\u001b[0m\u001b[0;34m,\u001b[0m \u001b[0mi\u001b[0m\u001b[0;34m,\u001b[0m \u001b[0mfunc\u001b[0m\u001b[0;34m,\u001b[0m \u001b[0margs\u001b[0m\u001b[0;34m,\u001b[0m \u001b[0mkwds\u001b[0m \u001b[0;34m=\u001b[0m \u001b[0mtask\u001b[0m\u001b[0;34m\u001b[0m\u001b[0;34m\u001b[0m\u001b[0m\n\u001b[1;32m    124\u001b[0m         \u001b[0;32mtry\u001b[0m\u001b[0;34m:\u001b[0m\u001b[0;34m\u001b[0m\u001b[0;34m\u001b[0m\u001b[0m\n\u001b[0;32m--> 125\u001b[0;31m             \u001b[0mresult\u001b[0m \u001b[0;34m=\u001b[0m \u001b[0;34m(\u001b[0m\u001b[0;32mTrue\u001b[0m\u001b[0;34m,\u001b[0m \u001b[0mfunc\u001b[0m\u001b[0;34m(\u001b[0m\u001b[0;34m*\u001b[0m\u001b[0margs\u001b[0m\u001b[0;34m,\u001b[0m \u001b[0;34m**\u001b[0m\u001b[0mkwds\u001b[0m\u001b[0;34m)\u001b[0m\u001b[0;34m)\u001b[0m\u001b[0;34m\u001b[0m\u001b[0;34m\u001b[0m\u001b[0m\n\u001b[0m\u001b[1;32m    126\u001b[0m         \u001b[0;32mexcept\u001b[0m \u001b[0mException\u001b[0m \u001b[0;32mas\u001b[0m \u001b[0me\u001b[0m\u001b[0;34m:\u001b[0m\u001b[0;34m\u001b[0m\u001b[0;34m\u001b[0m\u001b[0m\n\u001b[1;32m    127\u001b[0m             \u001b[0;32mif\u001b[0m \u001b[0mwrap_exception\u001b[0m \u001b[0;32mand\u001b[0m \u001b[0mfunc\u001b[0m \u001b[0;32mis\u001b[0m \u001b[0;32mnot\u001b[0m \u001b[0m_helper_reraises_exception\u001b[0m\u001b[0;34m:\u001b[0m\u001b[0;34m\u001b[0m\u001b[0;34m\u001b[0m\u001b[0m\n",
      "\u001b[0;32m/opt/conda/lib/python3.8/site-packages/pathos/helpers/mp_helper.py\u001b[0m in \u001b[0;36m<lambda>\u001b[0;34m()\u001b[0m\n\u001b[1;32m     13\u001b[0m \u001b[0;32mdef\u001b[0m \u001b[0mstarargs\u001b[0m\u001b[0;34m(\u001b[0m\u001b[0mf\u001b[0m\u001b[0;34m)\u001b[0m\u001b[0;34m:\u001b[0m\u001b[0;34m\u001b[0m\u001b[0;34m\u001b[0m\u001b[0m\n\u001b[1;32m     14\u001b[0m     \u001b[0;34m\"\"\"decorator to convert a many-arg function to a single-arg function\"\"\"\u001b[0m\u001b[0;34m\u001b[0m\u001b[0;34m\u001b[0m\u001b[0m\n\u001b[0;32m---> 15\u001b[0;31m     \u001b[0mfunc\u001b[0m \u001b[0;34m=\u001b[0m \u001b[0;32mlambda\u001b[0m \u001b[0margs\u001b[0m\u001b[0;34m:\u001b[0m \u001b[0mf\u001b[0m\u001b[0;34m(\u001b[0m\u001b[0;34m*\u001b[0m\u001b[0margs\u001b[0m\u001b[0;34m)\u001b[0m\u001b[0;34m\u001b[0m\u001b[0;34m\u001b[0m\u001b[0m\n\u001b[0m\u001b[1;32m     16\u001b[0m    \u001b[0;31m#func.__module__ = f.__module__\u001b[0m\u001b[0;34m\u001b[0m\u001b[0;34m\u001b[0m\u001b[0;34m\u001b[0m\u001b[0m\n\u001b[1;32m     17\u001b[0m    \u001b[0;31m#func.__name__ = f.__name__\u001b[0m\u001b[0;34m\u001b[0m\u001b[0;34m\u001b[0m\u001b[0;34m\u001b[0m\u001b[0m\n",
      "\u001b[0;32m~/scripts/post_pred_gen_redefined.py\u001b[0m in \u001b[0;36mpost_pred_gen\u001b[0;34m()\u001b[0m\n\u001b[1;32m    140\u001b[0m \u001b[0;34m\u001b[0m\u001b[0m\n\u001b[1;32m    141\u001b[0m     \u001b[0;32mfor\u001b[0m \u001b[0mname\u001b[0m\u001b[0;34m,\u001b[0m \u001b[0mdata\u001b[0m \u001b[0;32min\u001b[0m \u001b[0miter_data\u001b[0m\u001b[0;34m:\u001b[0m\u001b[0;34m\u001b[0m\u001b[0;34m\u001b[0m\u001b[0m\n\u001b[0;32m--> 142\u001b[0;31m         \u001b[0mnode\u001b[0m \u001b[0;34m=\u001b[0m \u001b[0mmodel\u001b[0m\u001b[0;34m.\u001b[0m\u001b[0mget_data_nodes\u001b[0m\u001b[0;34m(\u001b[0m\u001b[0mdata\u001b[0m\u001b[0;34m.\u001b[0m\u001b[0mindex\u001b[0m\u001b[0;34m)\u001b[0m\u001b[0;34m\u001b[0m\u001b[0;34m\u001b[0m\u001b[0m\n\u001b[0m\u001b[1;32m    143\u001b[0m \u001b[0;34m\u001b[0m\u001b[0m\n\u001b[1;32m    144\u001b[0m         \u001b[0;32mif\u001b[0m \u001b[0mprogress_bar\u001b[0m\u001b[0;34m:\u001b[0m\u001b[0;34m\u001b[0m\u001b[0;34m\u001b[0m\u001b[0m\n",
      "\u001b[0;32m/opt/conda/lib/python3.8/site-packages/kabuki/hierarchical.py\u001b[0m in \u001b[0;36mget_data_nodes\u001b[0;34m()\u001b[0m\n\u001b[1;32m    947\u001b[0m \u001b[0;34m\u001b[0m\u001b[0m\n\u001b[1;32m    948\u001b[0m         \u001b[0;32mif\u001b[0m \u001b[0mlen\u001b[0m\u001b[0;34m(\u001b[0m\u001b[0mdata_nodes\u001b[0m\u001b[0;34m)\u001b[0m \u001b[0;34m!=\u001b[0m \u001b[0;36m1\u001b[0m\u001b[0;34m:\u001b[0m\u001b[0;34m\u001b[0m\u001b[0;34m\u001b[0m\u001b[0m\n\u001b[0;32m--> 949\u001b[0;31m             \u001b[0;32mraise\u001b[0m \u001b[0mNotImplementedError\u001b[0m\u001b[0;34m(\u001b[0m\u001b[0;34m\"Supply a grouping so that at most 1 observed node codes for each group.\"\u001b[0m\u001b[0;34m)\u001b[0m\u001b[0;34m\u001b[0m\u001b[0;34m\u001b[0m\u001b[0m\n\u001b[0m\u001b[1;32m    950\u001b[0m \u001b[0;34m\u001b[0m\u001b[0m\n\u001b[1;32m    951\u001b[0m         \u001b[0;32mreturn\u001b[0m \u001b[0mdata_nodes\u001b[0m\u001b[0;34m[\u001b[0m\u001b[0;36m0\u001b[0m\u001b[0;34m]\u001b[0m\u001b[0;34m\u001b[0m\u001b[0;34m\u001b[0m\u001b[0m\n",
      "\u001b[0;31mNotImplementedError\u001b[0m: Supply a grouping so that at most 1 observed node codes for each group."
     ]
    }
   ],
   "source": [
    "%%time\n",
    "InfData_msi = InferenceDataFromHDDM(msires, nppc = 10, save_name=\"msi3\")"
   ]
  },
  {
   "cell_type": "code",
   "execution_count": 53,
   "id": "16c3114b-008c-47c6-8ee0-91c79996e68c",
   "metadata": {},
   "outputs": [],
   "source": [
    "level = ['A']*25+['B']*25"
   ]
  },
  {
   "cell_type": "code",
   "execution_count": 57,
   "id": "b92211fa-61d4-4099-9d8a-2abebdab6ad1",
   "metadata": {},
   "outputs": [],
   "source": [
    "for i in range(10):\n",
    "    df.loc[df['subj_idx']== i ,'condition'] = level "
   ]
  },
  {
   "cell_type": "code",
   "execution_count": 90,
   "id": "511e0485-207c-4610-9d54-ea4a889f746e",
   "metadata": {},
   "outputs": [],
   "source": []
  },
  {
   "cell_type": "code",
   "execution_count": 59,
   "id": "325b0e6a-ad77-4389-8333-a74b3abed901",
   "metadata": {},
   "outputs": [
    {
     "data": {
      "application/vnd.jupyter.widget-view+json": {
       "model_id": "411c69cf1d5a4a879d4a509bff1ab8cb",
       "version_major": 2,
       "version_minor": 0
      },
      "text/plain": [
       "  0%|          | 0/4 [00:00<?, ?it/s]"
      ]
     },
     "metadata": {},
     "output_type": "display_data"
    },
    {
     "name": "stdout",
     "output_type": "stream",
     "text": [
      "WARNING: Custom link functions will not be loaded.\n",
      "WARNING: Custom link functions will not be loaded.\n",
      "WARNING: Custom link functions will not be loaded.\n",
      "WARNING: Custom link functions will not be loaded.\n"
     ]
    }
   ],
   "source": [
    "msires = p_map(partial(ms1_issue,df=df,samples=100,burn=10,save_name='ms1_issue'),range(4))"
   ]
  },
  {
   "cell_type": "code",
   "execution_count": 60,
   "id": "60cc1f68-3ad9-4fab-b96a-54a1d5b47b86",
   "metadata": {},
   "outputs": [
    {
     "name": "stdout",
     "output_type": "stream",
     "text": [
      "start converting msi4\n",
      "WARNING: Will not save custom link functions.\n",
      "WARNING: Will not save custom link functions.\n",
      "WARNING: Will not save custom link functions.\n",
      "WARNING: Will not save custom link functions.\n"
     ]
    },
    {
     "data": {
      "application/vnd.jupyter.widget-view+json": {
       "model_id": "fb16659ba2314964a0e9b8e70fb0dade",
       "version_major": 2,
       "version_minor": 0
      },
      "text/plain": [
       "  0%|          | 0/4 [00:00<?, ?it/s]"
      ]
     },
     "metadata": {},
     "output_type": "display_data"
    },
    {
     "name": "stdout",
     "output_type": "stream",
     "text": [
      "WARNING: Custom link functions will not be loaded.\n",
      "WARNING: Custom link functions will not be loaded.\n",
      "WARNING: Custom link functions will not be loaded.\n",
      "WARNING: Custom link functions will not be loaded.\n",
      "WARNING: Will not save custom link functions.\n",
      "WARNING: Will not save custom link functions.\n",
      "WARNING: Will not save custom link functions.\n",
      "WARNING: Will not save custom link functions.\n",
      "WARNING: Will not save custom link functions.\n",
      "WARNING: Will not save custom link functions.\n",
      "WARNING: Will not save custom link functions.\n",
      "WARNING: Will not save custom link functions.\n",
      "WARNING: Will not save custom link functions.\n",
      "WARNING: Will not save custom link functions.\n",
      "WARNING: Will not save custom link functions.\n",
      "WARNING: Will not save custom link functions.\n",
      "started to generate posterior predicitves\n"
     ]
    },
    {
     "ename": "NotImplementedError",
     "evalue": "Supply a grouping so that at most 1 observed node codes for each group.",
     "output_type": "error",
     "traceback": [
      "\u001b[0;31m---------------------------------------------------------------------------\u001b[0m",
      "\u001b[0;31mRemoteTraceback\u001b[0m                           Traceback (most recent call last)",
      "\u001b[0;31mRemoteTraceback\u001b[0m: \n\"\"\"\nTraceback (most recent call last):\n  File \"/opt/conda/lib/python3.8/site-packages/multiprocess/pool.py\", line 125, in worker\n    result = (True, func(*args, **kwds))\n  File \"/opt/conda/lib/python3.8/site-packages/pathos/helpers/mp_helper.py\", line 15, in <lambda>\n    func = lambda args: f(*args)\n  File \"/home/jovyan/scripts/post_pred_gen_redefined.py\", line 142, in post_pred_gen\n    node = model.get_data_nodes(data.index)\n  File \"/opt/conda/lib/python3.8/site-packages/kabuki/hierarchical.py\", line 949, in get_data_nodes\n    raise NotImplementedError(\"Supply a grouping so that at most 1 observed node codes for each group.\")\nNotImplementedError: Supply a grouping so that at most 1 observed node codes for each group.\n\"\"\"",
      "\nThe above exception was the direct cause of the following exception:\n",
      "\u001b[0;31mNotImplementedError\u001b[0m                       Traceback (most recent call last)",
      "\u001b[0;32m<timed exec>\u001b[0m in \u001b[0;36m<module>\u001b[0;34m\u001b[0m\n",
      "\u001b[0;32m~/scripts/InferenceDataFromHDDM.py\u001b[0m in \u001b[0;36mInferenceDataFromHDDM\u001b[0;34m(modelres, nppc, save_name)\u001b[0m\n\u001b[1;32m     65\u001b[0m         \u001b[0;31m### Posterior predictives\u001b[0m\u001b[0;34m\u001b[0m\u001b[0;34m\u001b[0m\u001b[0;34m\u001b[0m\u001b[0m\n\u001b[1;32m     66\u001b[0m         \u001b[0mxdata_post_pred\u001b[0m \u001b[0;34m=\u001b[0m \u001b[0;34m[\u001b[0m\u001b[0;34m]\u001b[0m \u001b[0;31m# define an empty dict\u001b[0m\u001b[0;34m\u001b[0m\u001b[0;34m\u001b[0m\u001b[0m\n\u001b[0;32m---> 67\u001b[0;31m         \u001b[0mxdata_post_pred\u001b[0m \u001b[0;34m=\u001b[0m \u001b[0mp_map\u001b[0m\u001b[0;34m(\u001b[0m\u001b[0mpartial\u001b[0m\u001b[0;34m(\u001b[0m\u001b[0mpost_pred_gen\u001b[0m\u001b[0;34m,\u001b[0m \u001b[0msamples\u001b[0m \u001b[0;34m=\u001b[0m \u001b[0mnppc\u001b[0m\u001b[0;34m)\u001b[0m\u001b[0;34m,\u001b[0m \u001b[0mms_tmp\u001b[0m\u001b[0;34m)\u001b[0m\u001b[0;34m\u001b[0m\u001b[0;34m\u001b[0m\u001b[0m\n\u001b[0m\u001b[1;32m     68\u001b[0m \u001b[0;34m\u001b[0m\u001b[0m\n\u001b[1;32m     69\u001b[0m         \u001b[0;32mfor\u001b[0m \u001b[0mchain\u001b[0m \u001b[0;32min\u001b[0m \u001b[0mrange\u001b[0m\u001b[0;34m(\u001b[0m\u001b[0mlen\u001b[0m\u001b[0;34m(\u001b[0m\u001b[0mxdata_post_pred\u001b[0m\u001b[0;34m)\u001b[0m\u001b[0;34m)\u001b[0m\u001b[0;34m:\u001b[0m\u001b[0;34m\u001b[0m\u001b[0;34m\u001b[0m\u001b[0m\n",
      "\u001b[0;32m/opt/conda/lib/python3.8/site-packages/p_tqdm/p_tqdm.py\u001b[0m in \u001b[0;36mp_map\u001b[0;34m(function, *iterables, **kwargs)\u001b[0m\n\u001b[1;32m     63\u001b[0m     \u001b[0mordered\u001b[0m \u001b[0;34m=\u001b[0m \u001b[0;32mTrue\u001b[0m\u001b[0;34m\u001b[0m\u001b[0;34m\u001b[0m\u001b[0m\n\u001b[1;32m     64\u001b[0m     \u001b[0mgenerator\u001b[0m \u001b[0;34m=\u001b[0m \u001b[0m_parallel\u001b[0m\u001b[0;34m(\u001b[0m\u001b[0mordered\u001b[0m\u001b[0;34m,\u001b[0m \u001b[0mfunction\u001b[0m\u001b[0;34m,\u001b[0m \u001b[0;34m*\u001b[0m\u001b[0miterables\u001b[0m\u001b[0;34m,\u001b[0m \u001b[0;34m**\u001b[0m\u001b[0mkwargs\u001b[0m\u001b[0;34m)\u001b[0m\u001b[0;34m\u001b[0m\u001b[0;34m\u001b[0m\u001b[0m\n\u001b[0;32m---> 65\u001b[0;31m     \u001b[0mresult\u001b[0m \u001b[0;34m=\u001b[0m \u001b[0mlist\u001b[0m\u001b[0;34m(\u001b[0m\u001b[0mgenerator\u001b[0m\u001b[0;34m)\u001b[0m\u001b[0;34m\u001b[0m\u001b[0;34m\u001b[0m\u001b[0m\n\u001b[0m\u001b[1;32m     66\u001b[0m \u001b[0;34m\u001b[0m\u001b[0m\n\u001b[1;32m     67\u001b[0m     \u001b[0;32mreturn\u001b[0m \u001b[0mresult\u001b[0m\u001b[0;34m\u001b[0m\u001b[0;34m\u001b[0m\u001b[0m\n",
      "\u001b[0;32m/opt/conda/lib/python3.8/site-packages/p_tqdm/p_tqdm.py\u001b[0m in \u001b[0;36m_parallel\u001b[0;34m(ordered, function, *iterables, **kwargs)\u001b[0m\n\u001b[1;32m     52\u001b[0m     \u001b[0mtqdm_func\u001b[0m \u001b[0;34m=\u001b[0m \u001b[0mkwargs\u001b[0m\u001b[0;34m.\u001b[0m\u001b[0mpop\u001b[0m\u001b[0;34m(\u001b[0m\u001b[0;34m'tqdm'\u001b[0m\u001b[0;34m,\u001b[0m \u001b[0mtqdm\u001b[0m\u001b[0;34m)\u001b[0m\u001b[0;34m\u001b[0m\u001b[0;34m\u001b[0m\u001b[0m\n\u001b[1;32m     53\u001b[0m \u001b[0;34m\u001b[0m\u001b[0m\n\u001b[0;32m---> 54\u001b[0;31m     \u001b[0;32mfor\u001b[0m \u001b[0mitem\u001b[0m \u001b[0;32min\u001b[0m \u001b[0mtqdm_func\u001b[0m\u001b[0;34m(\u001b[0m\u001b[0mmap_func\u001b[0m\u001b[0;34m(\u001b[0m\u001b[0mfunction\u001b[0m\u001b[0;34m,\u001b[0m \u001b[0;34m*\u001b[0m\u001b[0miterables\u001b[0m\u001b[0;34m)\u001b[0m\u001b[0;34m,\u001b[0m \u001b[0mtotal\u001b[0m\u001b[0;34m=\u001b[0m\u001b[0mlength\u001b[0m\u001b[0;34m,\u001b[0m \u001b[0;34m**\u001b[0m\u001b[0mkwargs\u001b[0m\u001b[0;34m)\u001b[0m\u001b[0;34m:\u001b[0m\u001b[0;34m\u001b[0m\u001b[0;34m\u001b[0m\u001b[0m\n\u001b[0m\u001b[1;32m     55\u001b[0m         \u001b[0;32myield\u001b[0m \u001b[0mitem\u001b[0m\u001b[0;34m\u001b[0m\u001b[0;34m\u001b[0m\u001b[0m\n\u001b[1;32m     56\u001b[0m \u001b[0;34m\u001b[0m\u001b[0m\n",
      "\u001b[0;32m/opt/conda/lib/python3.8/site-packages/tqdm/notebook.py\u001b[0m in \u001b[0;36m__iter__\u001b[0;34m(self)\u001b[0m\n\u001b[1;32m    252\u001b[0m     \u001b[0;32mdef\u001b[0m \u001b[0m__iter__\u001b[0m\u001b[0;34m(\u001b[0m\u001b[0mself\u001b[0m\u001b[0;34m)\u001b[0m\u001b[0;34m:\u001b[0m\u001b[0;34m\u001b[0m\u001b[0;34m\u001b[0m\u001b[0m\n\u001b[1;32m    253\u001b[0m         \u001b[0;32mtry\u001b[0m\u001b[0;34m:\u001b[0m\u001b[0;34m\u001b[0m\u001b[0;34m\u001b[0m\u001b[0m\n\u001b[0;32m--> 254\u001b[0;31m             \u001b[0;32mfor\u001b[0m \u001b[0mobj\u001b[0m \u001b[0;32min\u001b[0m \u001b[0msuper\u001b[0m\u001b[0;34m(\u001b[0m\u001b[0mtqdm_notebook\u001b[0m\u001b[0;34m,\u001b[0m \u001b[0mself\u001b[0m\u001b[0;34m)\u001b[0m\u001b[0;34m.\u001b[0m\u001b[0m__iter__\u001b[0m\u001b[0;34m(\u001b[0m\u001b[0;34m)\u001b[0m\u001b[0;34m:\u001b[0m\u001b[0;34m\u001b[0m\u001b[0;34m\u001b[0m\u001b[0m\n\u001b[0m\u001b[1;32m    255\u001b[0m                 \u001b[0;31m# return super(tqdm...) will not catch exception\u001b[0m\u001b[0;34m\u001b[0m\u001b[0;34m\u001b[0m\u001b[0;34m\u001b[0m\u001b[0m\n\u001b[1;32m    256\u001b[0m                 \u001b[0;32myield\u001b[0m \u001b[0mobj\u001b[0m\u001b[0;34m\u001b[0m\u001b[0;34m\u001b[0m\u001b[0m\n",
      "\u001b[0;32m/opt/conda/lib/python3.8/site-packages/tqdm/std.py\u001b[0m in \u001b[0;36m__iter__\u001b[0;34m(self)\u001b[0m\n\u001b[1;32m   1176\u001b[0m \u001b[0;34m\u001b[0m\u001b[0m\n\u001b[1;32m   1177\u001b[0m         \u001b[0;32mtry\u001b[0m\u001b[0;34m:\u001b[0m\u001b[0;34m\u001b[0m\u001b[0;34m\u001b[0m\u001b[0m\n\u001b[0;32m-> 1178\u001b[0;31m             \u001b[0;32mfor\u001b[0m \u001b[0mobj\u001b[0m \u001b[0;32min\u001b[0m \u001b[0miterable\u001b[0m\u001b[0;34m:\u001b[0m\u001b[0;34m\u001b[0m\u001b[0;34m\u001b[0m\u001b[0m\n\u001b[0m\u001b[1;32m   1179\u001b[0m                 \u001b[0;32myield\u001b[0m \u001b[0mobj\u001b[0m\u001b[0;34m\u001b[0m\u001b[0;34m\u001b[0m\u001b[0m\n\u001b[1;32m   1180\u001b[0m                 \u001b[0;31m# Update and possibly print the progressbar.\u001b[0m\u001b[0;34m\u001b[0m\u001b[0;34m\u001b[0m\u001b[0;34m\u001b[0m\u001b[0m\n",
      "\u001b[0;32m/opt/conda/lib/python3.8/site-packages/multiprocess/pool.py\u001b[0m in \u001b[0;36mnext\u001b[0;34m(self, timeout)\u001b[0m\n\u001b[1;32m    866\u001b[0m         \u001b[0;32mif\u001b[0m \u001b[0msuccess\u001b[0m\u001b[0;34m:\u001b[0m\u001b[0;34m\u001b[0m\u001b[0;34m\u001b[0m\u001b[0m\n\u001b[1;32m    867\u001b[0m             \u001b[0;32mreturn\u001b[0m \u001b[0mvalue\u001b[0m\u001b[0;34m\u001b[0m\u001b[0;34m\u001b[0m\u001b[0m\n\u001b[0;32m--> 868\u001b[0;31m         \u001b[0;32mraise\u001b[0m \u001b[0mvalue\u001b[0m\u001b[0;34m\u001b[0m\u001b[0;34m\u001b[0m\u001b[0m\n\u001b[0m\u001b[1;32m    869\u001b[0m \u001b[0;34m\u001b[0m\u001b[0m\n\u001b[1;32m    870\u001b[0m     \u001b[0m__next__\u001b[0m \u001b[0;34m=\u001b[0m \u001b[0mnext\u001b[0m                    \u001b[0;31m# XXX\u001b[0m\u001b[0;34m\u001b[0m\u001b[0;34m\u001b[0m\u001b[0m\n",
      "\u001b[0;32m/opt/conda/lib/python3.8/site-packages/multiprocess/pool.py\u001b[0m in \u001b[0;36mworker\u001b[0;34m()\u001b[0m\n\u001b[1;32m    123\u001b[0m         \u001b[0mjob\u001b[0m\u001b[0;34m,\u001b[0m \u001b[0mi\u001b[0m\u001b[0;34m,\u001b[0m \u001b[0mfunc\u001b[0m\u001b[0;34m,\u001b[0m \u001b[0margs\u001b[0m\u001b[0;34m,\u001b[0m \u001b[0mkwds\u001b[0m \u001b[0;34m=\u001b[0m \u001b[0mtask\u001b[0m\u001b[0;34m\u001b[0m\u001b[0;34m\u001b[0m\u001b[0m\n\u001b[1;32m    124\u001b[0m         \u001b[0;32mtry\u001b[0m\u001b[0;34m:\u001b[0m\u001b[0;34m\u001b[0m\u001b[0;34m\u001b[0m\u001b[0m\n\u001b[0;32m--> 125\u001b[0;31m             \u001b[0mresult\u001b[0m \u001b[0;34m=\u001b[0m \u001b[0;34m(\u001b[0m\u001b[0;32mTrue\u001b[0m\u001b[0;34m,\u001b[0m \u001b[0mfunc\u001b[0m\u001b[0;34m(\u001b[0m\u001b[0;34m*\u001b[0m\u001b[0margs\u001b[0m\u001b[0;34m,\u001b[0m \u001b[0;34m**\u001b[0m\u001b[0mkwds\u001b[0m\u001b[0;34m)\u001b[0m\u001b[0;34m)\u001b[0m\u001b[0;34m\u001b[0m\u001b[0;34m\u001b[0m\u001b[0m\n\u001b[0m\u001b[1;32m    126\u001b[0m         \u001b[0;32mexcept\u001b[0m \u001b[0mException\u001b[0m \u001b[0;32mas\u001b[0m \u001b[0me\u001b[0m\u001b[0;34m:\u001b[0m\u001b[0;34m\u001b[0m\u001b[0;34m\u001b[0m\u001b[0m\n\u001b[1;32m    127\u001b[0m             \u001b[0;32mif\u001b[0m \u001b[0mwrap_exception\u001b[0m \u001b[0;32mand\u001b[0m \u001b[0mfunc\u001b[0m \u001b[0;32mis\u001b[0m \u001b[0;32mnot\u001b[0m \u001b[0m_helper_reraises_exception\u001b[0m\u001b[0;34m:\u001b[0m\u001b[0;34m\u001b[0m\u001b[0;34m\u001b[0m\u001b[0m\n",
      "\u001b[0;32m/opt/conda/lib/python3.8/site-packages/pathos/helpers/mp_helper.py\u001b[0m in \u001b[0;36m<lambda>\u001b[0;34m()\u001b[0m\n\u001b[1;32m     13\u001b[0m \u001b[0;32mdef\u001b[0m \u001b[0mstarargs\u001b[0m\u001b[0;34m(\u001b[0m\u001b[0mf\u001b[0m\u001b[0;34m)\u001b[0m\u001b[0;34m:\u001b[0m\u001b[0;34m\u001b[0m\u001b[0;34m\u001b[0m\u001b[0m\n\u001b[1;32m     14\u001b[0m     \u001b[0;34m\"\"\"decorator to convert a many-arg function to a single-arg function\"\"\"\u001b[0m\u001b[0;34m\u001b[0m\u001b[0;34m\u001b[0m\u001b[0m\n\u001b[0;32m---> 15\u001b[0;31m     \u001b[0mfunc\u001b[0m \u001b[0;34m=\u001b[0m \u001b[0;32mlambda\u001b[0m \u001b[0margs\u001b[0m\u001b[0;34m:\u001b[0m \u001b[0mf\u001b[0m\u001b[0;34m(\u001b[0m\u001b[0;34m*\u001b[0m\u001b[0margs\u001b[0m\u001b[0;34m)\u001b[0m\u001b[0;34m\u001b[0m\u001b[0;34m\u001b[0m\u001b[0m\n\u001b[0m\u001b[1;32m     16\u001b[0m    \u001b[0;31m#func.__module__ = f.__module__\u001b[0m\u001b[0;34m\u001b[0m\u001b[0;34m\u001b[0m\u001b[0;34m\u001b[0m\u001b[0m\n\u001b[1;32m     17\u001b[0m    \u001b[0;31m#func.__name__ = f.__name__\u001b[0m\u001b[0;34m\u001b[0m\u001b[0;34m\u001b[0m\u001b[0;34m\u001b[0m\u001b[0m\n",
      "\u001b[0;32m~/scripts/post_pred_gen_redefined.py\u001b[0m in \u001b[0;36mpost_pred_gen\u001b[0;34m()\u001b[0m\n\u001b[1;32m    140\u001b[0m \u001b[0;34m\u001b[0m\u001b[0m\n\u001b[1;32m    141\u001b[0m     \u001b[0;32mfor\u001b[0m \u001b[0mname\u001b[0m\u001b[0;34m,\u001b[0m \u001b[0mdata\u001b[0m \u001b[0;32min\u001b[0m \u001b[0miter_data\u001b[0m\u001b[0;34m:\u001b[0m\u001b[0;34m\u001b[0m\u001b[0;34m\u001b[0m\u001b[0m\n\u001b[0;32m--> 142\u001b[0;31m         \u001b[0mnode\u001b[0m \u001b[0;34m=\u001b[0m \u001b[0mmodel\u001b[0m\u001b[0;34m.\u001b[0m\u001b[0mget_data_nodes\u001b[0m\u001b[0;34m(\u001b[0m\u001b[0mdata\u001b[0m\u001b[0;34m.\u001b[0m\u001b[0mindex\u001b[0m\u001b[0;34m)\u001b[0m\u001b[0;34m\u001b[0m\u001b[0;34m\u001b[0m\u001b[0m\n\u001b[0m\u001b[1;32m    143\u001b[0m \u001b[0;34m\u001b[0m\u001b[0m\n\u001b[1;32m    144\u001b[0m         \u001b[0;32mif\u001b[0m \u001b[0mprogress_bar\u001b[0m\u001b[0;34m:\u001b[0m\u001b[0;34m\u001b[0m\u001b[0;34m\u001b[0m\u001b[0m\n",
      "\u001b[0;32m/opt/conda/lib/python3.8/site-packages/kabuki/hierarchical.py\u001b[0m in \u001b[0;36mget_data_nodes\u001b[0;34m()\u001b[0m\n\u001b[1;32m    947\u001b[0m \u001b[0;34m\u001b[0m\u001b[0m\n\u001b[1;32m    948\u001b[0m         \u001b[0;32mif\u001b[0m \u001b[0mlen\u001b[0m\u001b[0;34m(\u001b[0m\u001b[0mdata_nodes\u001b[0m\u001b[0;34m)\u001b[0m \u001b[0;34m!=\u001b[0m \u001b[0;36m1\u001b[0m\u001b[0;34m:\u001b[0m\u001b[0;34m\u001b[0m\u001b[0;34m\u001b[0m\u001b[0m\n\u001b[0;32m--> 949\u001b[0;31m             \u001b[0;32mraise\u001b[0m \u001b[0mNotImplementedError\u001b[0m\u001b[0;34m(\u001b[0m\u001b[0;34m\"Supply a grouping so that at most 1 observed node codes for each group.\"\u001b[0m\u001b[0;34m)\u001b[0m\u001b[0;34m\u001b[0m\u001b[0;34m\u001b[0m\u001b[0m\n\u001b[0m\u001b[1;32m    950\u001b[0m \u001b[0;34m\u001b[0m\u001b[0m\n\u001b[1;32m    951\u001b[0m         \u001b[0;32mreturn\u001b[0m \u001b[0mdata_nodes\u001b[0m\u001b[0;34m[\u001b[0m\u001b[0;36m0\u001b[0m\u001b[0;34m]\u001b[0m\u001b[0;34m\u001b[0m\u001b[0;34m\u001b[0m\u001b[0m\n",
      "\u001b[0;31mNotImplementedError\u001b[0m: Supply a grouping so that at most 1 observed node codes for each group."
     ]
    },
    {
     "name": "stdout",
     "output_type": "stream",
     "text": [
      "started to generate posterior predicitves\n",
      "started to generate posterior predicitves\n",
      "started to generate posterior predicitves\n",
      "WARNING: Custom link functions will not be loaded.\n",
      "WARNING: Custom link functions will not be loaded.\n",
      "WARNING: Custom link functions will not be loaded.\n",
      "WARNING: Custom link functions will not be loaded.\n",
      "started to generate posterior predicitves\n",
      "started to generate posterior predicitves\n",
      "started to generate posterior predicitves\n",
      "started to generate posterior predicitves\n",
      "running chain 0 for model ms1_issue\n",
      "Adding these covariates:\n",
      "['v_Intercept']\n",
      "Adding these covariates:\n",
      "['z_Intercept']\n",
      "Adding these covariates:\n",
      "['t_Intercept']\n",
      "Adding these covariates:\n",
      "['a_Intercept']\n",
      "running chain 1 for model ms1_issue\n",
      "Adding these covariates:\n",
      "['v_Intercept']\n",
      "Adding these covariates:\n",
      "['z_Intercept']\n",
      "Adding these covariates:\n",
      "['t_Intercept']\n",
      "Adding these covariates:\n",
      "['a_Intercept']\n",
      "running chain 2 for model ms1_issue\n",
      "Adding these covariates:\n",
      "['v_Intercept']\n",
      "Adding these covariates:\n",
      "['z_Intercept']\n",
      "Adding these covariates:\n",
      "['t_Intercept']\n",
      "Adding these covariates:\n",
      "['a_Intercept']\n",
      "running chain 3 for model ms1_issue\n",
      "Adding these covariates:\n",
      "['v_Intercept']\n",
      "Adding these covariates:\n",
      "['z_Intercept']\n",
      "Adding these covariates:\n",
      "['t_Intercept']\n",
      "Adding these covariates:\n",
      "['a_Intercept']\n"
     ]
    },
    {
     "name": "stderr",
     "output_type": "stream",
     "text": [
      "/opt/conda/lib/python3.8/site-packages/scipy/optimize/optimize.py:2215: RuntimeWarning: invalid value encountered in double_scalars\n",
      "  tmp2 = (x - v) * (fx - fw)\n",
      "/opt/conda/lib/python3.8/site-packages/scipy/optimize/optimize.py:2215: RuntimeWarning: invalid value encountered in double_scalars\n",
      "  tmp2 = (x - v) * (fx - fw)\n",
      "/opt/conda/lib/python3.8/site-packages/scipy/optimize/optimize.py:2215: RuntimeWarning: invalid value encountered in double_scalars\n",
      "  tmp2 = (x - v) * (fx - fw)\n",
      "/opt/conda/lib/python3.8/site-packages/scipy/optimize/optimize.py:2215: RuntimeWarning: invalid value encountered in double_scalars\n",
      "  tmp2 = (x - v) * (fx - fw)\n"
     ]
    },
    {
     "name": "stdout",
     "output_type": "stream",
     "text": [
      " [-                 3%                  ] 3 of 100 complete in 0.8 sec[-                 3%                  ] 3 of 100 complete in 0.8 sec[-                 3%                  ] 3 of 100 complete in 0.8 sec[-                 3%                  ] 3 of 100 complete in 0.9 sec[-                 5%                  ] 5 of 100 complete in 1.4 sec[-                 5%                  ] 5 of 100 complete in 1.4 sec[-                 5%                  ] 5 of 100 complete in 1.5 sec[-                 5%                  ] 5 of 100 complete in 1.5 sec[--                7%                  ] 7 of 100 complete in 2.1 sec[--                7%                  ] 7 of 100 complete in 2.1 sec[--                7%                  ] 7 of 100 complete in 2.2 sec[--                7%                  ] 7 of 100 complete in 2.2 sec[---               9%                  ] 9 of 100 complete in 2.7 sec[---               9%                  ] 9 of 100 complete in 2.7 sec[---               9%                  ] 9 of 100 complete in 2.8 sec[---               9%                  ] 9 of 100 complete in 2.8 sec[----             11%                  ] 11 of 100 complete in 3.3 sec[----             11%                  ] 11 of 100 complete in 3.3 sec[----             11%                  ] 11 of 100 complete in 3.4 sec[----             11%                  ] 11 of 100 complete in 3.4 sec[----             13%                  ] 13 of 100 complete in 3.9 sec[----             13%                  ] 13 of 100 complete in 3.9 sec[----             13%                  ] 13 of 100 complete in 4.0 sec[----             13%                  ] 13 of 100 complete in 4.1 sec[-----            15%                  ] 15 of 100 complete in 4.5 sec[-----            15%                  ] 15 of 100 complete in 4.6 sec[-----            15%                  ] 15 of 100 complete in 4.6 sec[-----            15%                  ] 15 of 100 complete in 4.7 sec[------           17%                  ] 17 of 100 complete in 5.1 sec[------           17%                  ] 17 of 100 complete in 5.2 sec[------           17%                  ] 17 of 100 complete in 5.3 sec[------           17%                  ] 17 of 100 complete in 5.3 sec[-------          19%                  ] 19 of 100 complete in 5.7 sec[-------          19%                  ] 19 of 100 complete in 5.8 sec[-------          19%                  ] 19 of 100 complete in 5.9 sec[-------          19%                  ] 19 of 100 complete in 5.9 sec[-------          21%                  ] 21 of 100 complete in 6.3 sec[-------          21%                  ] 21 of 100 complete in 6.4 sec[-------          21%                  ] 21 of 100 complete in 6.4 sec[-------          21%                  ] 21 of 100 complete in 6.5 sec[--------         23%                  ] 23 of 100 complete in 6.9 sec[--------         23%                  ] 23 of 100 complete in 7.0 sec[--------         23%                  ] 23 of 100 complete in 7.0 sec[--------         23%                  ] 23 of 100 complete in 7.1 sec[---------        25%                  ] 25 of 100 complete in 7.5 sec[---------        25%                  ] 25 of 100 complete in 7.6 sec[---------        25%                  ] 25 of 100 complete in 7.6 sec[---------        25%                  ] 25 of 100 complete in 7.7 sec[----------       27%                  ] 27 of 100 complete in 8.0 sec[----------       27%                  ] 27 of 100 complete in 8.2 sec[----------       27%                  ] 27 of 100 complete in 8.2 sec[----------       27%                  ] 27 of 100 complete in 8.3 sec[-----------      29%                  ] 29 of 100 complete in 8.6 sec[-----------      29%                  ] 29 of 100 complete in 8.9 sec[-----------      29%                  ] 29 of 100 complete in 8.8 sec[-----------      29%                  ] 29 of 100 complete in 8.9 sec[-----------      31%                  ] 31 of 100 complete in 9.2 sec[-----------      31%                  ] 31 of 100 complete in 9.4 sec[-----------      31%                  ] 31 of 100 complete in 9.5 sec[-----------      31%                  ] 31 of 100 complete in 9.5 sec[------------     33%                  ] 33 of 100 complete in 9.8 sec  [------------     33%                  ] 33 of 100 complete in 10.0 sec[------------     33%                  ] 33 of 100 complete in 10.1 sec[------------     33%                  ] 33 of 100 complete in 10.0 sec[-------------    35%                  ] 35 of 100 complete in 10.4 sec[-------------    35%                  ] 35 of 100 complete in 10.7 sec[-------------    35%                  ] 35 of 100 complete in 10.6 sec[-------------    35%                  ] 35 of 100 complete in 10.6 sec[--------------   37%                  ] 37 of 100 complete in 11.0 sec[--------------   37%                  ] 37 of 100 complete in 11.2 sec[--------------   37%                  ] 37 of 100 complete in 11.2 sec[--------------   37%                  ] 37 of 100 complete in 11.4 sec[--------------   39%                  ] 39 of 100 complete in 11.5 sec[--------------   39%                  ] 39 of 100 complete in 11.8 sec[--------------   39%                  ] 39 of 100 complete in 11.8 sec[--------------   39%                  ] 39 of 100 complete in 12.0 sec[---------------  41%                  ] 41 of 100 complete in 12.1 sec[---------------  41%                  ] 41 of 100 complete in 12.3 sec[---------------  41%                  ] 41 of 100 complete in 12.4 sec[---------------  41%                  ] 41 of 100 complete in 12.6 sec[---------------- 43%                  ] 43 of 100 complete in 12.7 sec[---------------- 43%                  ] 43 of 100 complete in 12.9 sec[---------------- 43%                  ] 43 of 100 complete in 13.0 sec[---------------- 43%                  ] 43 of 100 complete in 13.3 sec[-----------------45%                  ] 45 of 100 complete in 13.3 sec[-----------------45%                  ] 45 of 100 complete in 13.6 sec[-----------------45%                  ] 45 of 100 complete in 13.6 sec[-----------------47%                  ] 47 of 100 complete in 13.9 sec[-----------------45%                  ] 45 of 100 complete in 14.0 sec[-----------------47%                  ] 47 of 100 complete in 14.1 sec[-----------------47%                  ] 47 of 100 complete in 14.2 sec[-----------------49%                  ] 49 of 100 complete in 14.5 sec[-----------------47%                  ] 47 of 100 complete in 14.7 sec[-----------------49%                  ] 49 of 100 complete in 14.7 sec[-----------------49%                  ] 49 of 100 complete in 14.8 sec[-----------------51%                  ] 51 of 100 complete in 15.1 sec[-----------------49%                  ] 49 of 100 complete in 15.3 sec[-----------------51%                  ] 51 of 100 complete in 15.3 sec[-----------------51%                  ] 51 of 100 complete in 15.4 sec[-----------------53%                  ] 53 of 100 complete in 15.7 sec[-----------------51%                  ] 51 of 100 complete in 16.0 sec[-----------------53%                  ] 53 of 100 complete in 15.9 sec[-----------------53%                  ] 53 of 100 complete in 16.0 sec[-----------------55%                  ] 55 of 100 complete in 16.2 sec[-----------------53%                  ] 53 of 100 complete in 16.6 sec[-----------------55%                  ] 55 of 100 complete in 16.5 sec[-----------------55%                  ] 55 of 100 complete in 16.7 sec[-----------------57%-                 ] 57 of 100 complete in 16.9 sec[-----------------55%                  ] 55 of 100 complete in 17.2 sec[-----------------57%-                 ] 57 of 100 complete in 17.1 sec[-----------------57%-                 ] 57 of 100 complete in 17.3 sec[-----------------59%--                ] 59 of 100 complete in 17.5 sec[-----------------57%-                 ] 57 of 100 complete in 17.8 sec[-----------------59%--                ] 59 of 100 complete in 17.7 sec[-----------------61%---               ] 61 of 100 complete in 18.1 sec[-----------------59%--                ] 59 of 100 complete in 17.9 sec[-----------------59%--                ] 59 of 100 complete in 18.4 sec[-----------------61%---               ] 61 of 100 complete in 18.3 sec[-----------------61%---               ] 61 of 100 complete in 18.5 sec[-----------------63%---               ] 63 of 100 complete in 18.7 sec[-----------------63%---               ] 63 of 100 complete in 18.9 sec[-----------------61%---               ] 61 of 100 complete in 19.0 sec[-----------------63%---               ] 63 of 100 complete in 19.0 sec[-----------------65%----              ] 65 of 100 complete in 19.3 sec[-----------------65%----              ] 65 of 100 complete in 19.5 sec[-----------------63%---               ] 63 of 100 complete in 19.6 sec[-----------------65%----              ] 65 of 100 complete in 19.7 sec[-----------------67%-----             ] 67 of 100 complete in 19.9 sec[-----------------67%-----             ] 67 of 100 complete in 20.1 sec[-----------------65%----              ] 65 of 100 complete in 20.2 sec[-----------------69%------            ] 69 of 100 complete in 20.4 sec[-----------------67%-----             ] 67 of 100 complete in 20.3 sec[-----------------67%-----             ] 67 of 100 complete in 20.8 sec[-----------------69%------            ] 69 of 100 complete in 20.7 sec[-----------------71%------            ] 71 of 100 complete in 21.0 sec[-----------------69%------            ] 69 of 100 complete in 20.8 sec[-----------------69%------            ] 69 of 100 complete in 21.4 sec[-----------------71%------            ] 71 of 100 complete in 21.3 sec[-----------------73%-------           ] 73 of 100 complete in 21.6 sec[-----------------71%------            ] 71 of 100 complete in 21.4 sec[-----------------71%------            ] 71 of 100 complete in 22.0 sec[-----------------73%-------           ] 73 of 100 complete in 21.9 sec[-----------------73%-------           ] 73 of 100 complete in 22.0 sec[-----------------75%--------          ] 75 of 100 complete in 22.2 sec[-----------------73%-------           ] 73 of 100 complete in 22.5 sec[-----------------75%--------          ] 75 of 100 complete in 22.5 sec  [-----------------75%--------          ] 75 of 100 complete in 22.6 sec[-----------------77%---------         ] 77 of 100 complete in 22.8 sec[-----------------75%--------          ] 75 of 100 complete in 23.1 sec[-----------------77%---------         ] 77 of 100 complete in 23.1 sec[-----------------77%---------         ] 77 of 100 complete in 23.1 sec[-----------------79%----------        ] 79 of 100 complete in 23.3 sec[-----------------77%---------         ] 77 of 100 complete in 23.7 sec[-----------------79%----------        ] 79 of 100 complete in 23.7 sec[-----------------79%----------        ] 79 of 100 complete in 23.7 sec[-----------------81%----------        ] 81 of 100 complete in 23.9 sec[-----------------79%----------        ] 79 of 100 complete in 24.3 sec[-----------------81%----------        ] 81 of 100 complete in 24.3 sec[-----------------81%----------        ] 81 of 100 complete in 24.3 sec[-----------------83%-----------       ] 83 of 100 complete in 24.5 sec[-----------------81%----------        ] 81 of 100 complete in 24.8 sec[-----------------83%-----------       ] 83 of 100 complete in 24.9 sec[-----------------83%-----------       ] 83 of 100 complete in 24.9 sec[-----------------85%------------      ] 85 of 100 complete in 25.1 sec[-----------------83%-----------       ] 83 of 100 complete in 25.4 sec[-----------------85%------------      ] 85 of 100 complete in 25.5 sec[-----------------85%------------      ] 85 of 100 complete in 25.5 sec[-----------------87%-------------     ] 87 of 100 complete in 25.7 sec[-----------------85%------------      ] 85 of 100 complete in 26.0 sec[-----------------87%-------------     ] 87 of 100 complete in 26.1 sec[-----------------87%-------------     ] 87 of 100 complete in 26.1 sec[-----------------89%-------------     ] 89 of 100 complete in 26.3 sec[-----------------87%-------------     ] 87 of 100 complete in 26.6 sec[-----------------89%-------------     ] 89 of 100 complete in 26.6 sec[-----------------89%-------------     ] 89 of 100 complete in 26.7 sec[-----------------91%--------------    ] 91 of 100 complete in 26.9 sec[-----------------89%-------------     ] 89 of 100 complete in 27.2 sec[-----------------91%--------------    ] 91 of 100 complete in 27.2 sec[-----------------91%--------------    ] 91 of 100 complete in 27.3 sec[-----------------93%---------------   ] 93 of 100 complete in 27.5 sec[-----------------91%--------------    ] 91 of 100 complete in 27.9 sec[-----------------93%---------------   ] 93 of 100 complete in 27.8 sec[-----------------93%---------------   ] 93 of 100 complete in 27.8 sec[-----------------95%----------------  ] 95 of 100 complete in 28.1 sec[-----------------93%---------------   ] 93 of 100 complete in 28.5 sec[-----------------95%----------------  ] 95 of 100 complete in 28.4 sec[-----------------95%----------------  ] 95 of 100 complete in 28.4 sec[-----------------97%----------------  ] 97 of 100 complete in 28.7 sec[-----------------95%----------------  ] 95 of 100 complete in 29.0 sec[-----------------97%----------------  ] 97 of 100 complete in 29.0 sec[-----------------97%----------------  ] 97 of 100 complete in 29.0 sec[-----------------99%----------------- ] 99 of 100 complete in 29.4 sec[-----------------97%----------------  ] 97 of 100 complete in 29.6 sec[-----------------99%----------------- ] 99 of 100 complete in 29.6 sec[-----------------99%----------------- ] 99 of 100 complete in 29.6 sec[-----------------101%-----------------] 101 of 100 complete in 29.9 sec[-----------------99%----------------- ] 99 of 100 complete in 30.2 sec[-----------------101%-----------------] 101 of 100 complete in 30.2 sec[-----------------101%-----------------] 101 of 100 complete in 30.1 secWARNING: Will not save custom link functions.\n",
      "WARNING: Will not save custom link functions.\n",
      "WARNING: Will not save custom link functions.\n",
      "WARNING: Will not save custom link functions.\n",
      " [-----------------101%-----------------] 101 of 100 complete in 30.8 secWARNING: Will not save custom link functions.\n",
      "WARNING: Will not save custom link functions.\n",
      "WARNING: Will not save custom link functions.\n",
      "WARNING: Will not save custom link functions.\n",
      "WARNING: Will not save custom link functions.\n",
      "WARNING: Will not save custom link functions.\n",
      "WARNING: Will not save custom link functions.\n",
      "WARNING: Will not save custom link functions.\n",
      "WARNING: Will not save custom link functions.\n",
      "WARNING: Will not save custom link functions.\n",
      "WARNING: Will not save custom link functions.\n",
      "WARNING: Will not save custom link functions.\n"
     ]
    }
   ],
   "source": [
    "%%time\n",
    "InfData_msi = InferenceDataFromHDDM(msires, nppc = 10, save_name=\"msi4\")"
   ]
  },
  {
   "cell_type": "code",
   "execution_count": 61,
   "id": "64c11a77-8e9d-45bd-9335-f0aac750598c",
   "metadata": {},
   "outputs": [
    {
     "name": "stdout",
     "output_type": "stream",
     "text": [
      "WARNING: Custom link functions will not be loaded.\n",
      "WARNING: Custom link functions will not be loaded.\n",
      "WARNING: Custom link functions will not be loaded.\n",
      "WARNING: Custom link functions will not be loaded.\n"
     ]
    }
   ],
   "source": [
    "msires = Parallel(n_jobs = 4)(delayed(ms1_issue)(id = i, df = df, samples=100,burn = 10,thin=2, save_name = 'msi' ) for i in range(4))"
   ]
  },
  {
   "cell_type": "code",
   "execution_count": 62,
   "id": "7ef2163b-5aab-49ee-924b-dd61f0e71c59",
   "metadata": {},
   "outputs": [
    {
     "name": "stdout",
     "output_type": "stream",
     "text": [
      "start converting msi3\n",
      "WARNING: Will not save custom link functions.\n",
      "WARNING: Will not save custom link functions.\n",
      "WARNING: Will not save custom link functions.\n",
      "WARNING: Will not save custom link functions.\n"
     ]
    },
    {
     "data": {
      "application/vnd.jupyter.widget-view+json": {
       "model_id": "d59c65f8e14f4283bc76a630ce8444ae",
       "version_major": 2,
       "version_minor": 0
      },
      "text/plain": [
       "  0%|          | 0/4 [00:00<?, ?it/s]"
      ]
     },
     "metadata": {},
     "output_type": "display_data"
    },
    {
     "name": "stdout",
     "output_type": "stream",
     "text": [
      "WARNING: Will not save custom link functions.\n",
      "WARNING: Will not save custom link functions.\n",
      "WARNING: Will not save custom link functions.\n",
      "WARNING: Will not save custom link functions.\n",
      "WARNING: Will not save custom link functions.\n",
      "WARNING: Will not save custom link functions.\n",
      "WARNING: Will not save custom link functions.\n",
      "WARNING: Will not save custom link functions.\n",
      "WARNING: Will not save custom link functions.\n",
      "WARNING: Will not save custom link functions.\n",
      "WARNING: Will not save custom link functions.\n",
      "WARNING: Will not save custom link functions.\n"
     ]
    },
    {
     "ename": "NotImplementedError",
     "evalue": "Supply a grouping so that at most 1 observed node codes for each group.",
     "output_type": "error",
     "traceback": [
      "\u001b[0;31m---------------------------------------------------------------------------\u001b[0m",
      "\u001b[0;31mRemoteTraceback\u001b[0m                           Traceback (most recent call last)",
      "\u001b[0;31mRemoteTraceback\u001b[0m: \n\"\"\"\nTraceback (most recent call last):\n  File \"/opt/conda/lib/python3.8/site-packages/multiprocess/pool.py\", line 125, in worker\n    result = (True, func(*args, **kwds))\n  File \"/opt/conda/lib/python3.8/site-packages/pathos/helpers/mp_helper.py\", line 15, in <lambda>\n    func = lambda args: f(*args)\n  File \"/home/jovyan/scripts/post_pred_gen_redefined.py\", line 142, in post_pred_gen\n    node = model.get_data_nodes(data.index)\n  File \"/opt/conda/lib/python3.8/site-packages/kabuki/hierarchical.py\", line 949, in get_data_nodes\n    raise NotImplementedError(\"Supply a grouping so that at most 1 observed node codes for each group.\")\nNotImplementedError: Supply a grouping so that at most 1 observed node codes for each group.\n\"\"\"",
      "\nThe above exception was the direct cause of the following exception:\n",
      "\u001b[0;31mNotImplementedError\u001b[0m                       Traceback (most recent call last)",
      "\u001b[0;32m<timed exec>\u001b[0m in \u001b[0;36m<module>\u001b[0;34m\u001b[0m\n",
      "\u001b[0;32m~/scripts/InferenceDataFromHDDM.py\u001b[0m in \u001b[0;36mInferenceDataFromHDDM\u001b[0;34m(modelres, nppc, save_name)\u001b[0m\n\u001b[1;32m     65\u001b[0m         \u001b[0;31m### Posterior predictives\u001b[0m\u001b[0;34m\u001b[0m\u001b[0;34m\u001b[0m\u001b[0;34m\u001b[0m\u001b[0m\n\u001b[1;32m     66\u001b[0m         \u001b[0mxdata_post_pred\u001b[0m \u001b[0;34m=\u001b[0m \u001b[0;34m[\u001b[0m\u001b[0;34m]\u001b[0m \u001b[0;31m# define an empty dict\u001b[0m\u001b[0;34m\u001b[0m\u001b[0;34m\u001b[0m\u001b[0m\n\u001b[0;32m---> 67\u001b[0;31m         \u001b[0mxdata_post_pred\u001b[0m \u001b[0;34m=\u001b[0m \u001b[0mp_map\u001b[0m\u001b[0;34m(\u001b[0m\u001b[0mpartial\u001b[0m\u001b[0;34m(\u001b[0m\u001b[0mpost_pred_gen\u001b[0m\u001b[0;34m,\u001b[0m \u001b[0msamples\u001b[0m \u001b[0;34m=\u001b[0m \u001b[0mnppc\u001b[0m\u001b[0;34m)\u001b[0m\u001b[0;34m,\u001b[0m \u001b[0mms_tmp\u001b[0m\u001b[0;34m)\u001b[0m\u001b[0;34m\u001b[0m\u001b[0;34m\u001b[0m\u001b[0m\n\u001b[0m\u001b[1;32m     68\u001b[0m \u001b[0;34m\u001b[0m\u001b[0m\n\u001b[1;32m     69\u001b[0m         \u001b[0;32mfor\u001b[0m \u001b[0mchain\u001b[0m \u001b[0;32min\u001b[0m \u001b[0mrange\u001b[0m\u001b[0;34m(\u001b[0m\u001b[0mlen\u001b[0m\u001b[0;34m(\u001b[0m\u001b[0mxdata_post_pred\u001b[0m\u001b[0;34m)\u001b[0m\u001b[0;34m)\u001b[0m\u001b[0;34m:\u001b[0m\u001b[0;34m\u001b[0m\u001b[0;34m\u001b[0m\u001b[0m\n",
      "\u001b[0;32m/opt/conda/lib/python3.8/site-packages/p_tqdm/p_tqdm.py\u001b[0m in \u001b[0;36mp_map\u001b[0;34m(function, *iterables, **kwargs)\u001b[0m\n\u001b[1;32m     63\u001b[0m     \u001b[0mordered\u001b[0m \u001b[0;34m=\u001b[0m \u001b[0;32mTrue\u001b[0m\u001b[0;34m\u001b[0m\u001b[0;34m\u001b[0m\u001b[0m\n\u001b[1;32m     64\u001b[0m     \u001b[0mgenerator\u001b[0m \u001b[0;34m=\u001b[0m \u001b[0m_parallel\u001b[0m\u001b[0;34m(\u001b[0m\u001b[0mordered\u001b[0m\u001b[0;34m,\u001b[0m \u001b[0mfunction\u001b[0m\u001b[0;34m,\u001b[0m \u001b[0;34m*\u001b[0m\u001b[0miterables\u001b[0m\u001b[0;34m,\u001b[0m \u001b[0;34m**\u001b[0m\u001b[0mkwargs\u001b[0m\u001b[0;34m)\u001b[0m\u001b[0;34m\u001b[0m\u001b[0;34m\u001b[0m\u001b[0m\n\u001b[0;32m---> 65\u001b[0;31m     \u001b[0mresult\u001b[0m \u001b[0;34m=\u001b[0m \u001b[0mlist\u001b[0m\u001b[0;34m(\u001b[0m\u001b[0mgenerator\u001b[0m\u001b[0;34m)\u001b[0m\u001b[0;34m\u001b[0m\u001b[0;34m\u001b[0m\u001b[0m\n\u001b[0m\u001b[1;32m     66\u001b[0m \u001b[0;34m\u001b[0m\u001b[0m\n\u001b[1;32m     67\u001b[0m     \u001b[0;32mreturn\u001b[0m \u001b[0mresult\u001b[0m\u001b[0;34m\u001b[0m\u001b[0;34m\u001b[0m\u001b[0m\n",
      "\u001b[0;32m/opt/conda/lib/python3.8/site-packages/p_tqdm/p_tqdm.py\u001b[0m in \u001b[0;36m_parallel\u001b[0;34m(ordered, function, *iterables, **kwargs)\u001b[0m\n\u001b[1;32m     52\u001b[0m     \u001b[0mtqdm_func\u001b[0m \u001b[0;34m=\u001b[0m \u001b[0mkwargs\u001b[0m\u001b[0;34m.\u001b[0m\u001b[0mpop\u001b[0m\u001b[0;34m(\u001b[0m\u001b[0;34m'tqdm'\u001b[0m\u001b[0;34m,\u001b[0m \u001b[0mtqdm\u001b[0m\u001b[0;34m)\u001b[0m\u001b[0;34m\u001b[0m\u001b[0;34m\u001b[0m\u001b[0m\n\u001b[1;32m     53\u001b[0m \u001b[0;34m\u001b[0m\u001b[0m\n\u001b[0;32m---> 54\u001b[0;31m     \u001b[0;32mfor\u001b[0m \u001b[0mitem\u001b[0m \u001b[0;32min\u001b[0m \u001b[0mtqdm_func\u001b[0m\u001b[0;34m(\u001b[0m\u001b[0mmap_func\u001b[0m\u001b[0;34m(\u001b[0m\u001b[0mfunction\u001b[0m\u001b[0;34m,\u001b[0m \u001b[0;34m*\u001b[0m\u001b[0miterables\u001b[0m\u001b[0;34m)\u001b[0m\u001b[0;34m,\u001b[0m \u001b[0mtotal\u001b[0m\u001b[0;34m=\u001b[0m\u001b[0mlength\u001b[0m\u001b[0;34m,\u001b[0m \u001b[0;34m**\u001b[0m\u001b[0mkwargs\u001b[0m\u001b[0;34m)\u001b[0m\u001b[0;34m:\u001b[0m\u001b[0;34m\u001b[0m\u001b[0;34m\u001b[0m\u001b[0m\n\u001b[0m\u001b[1;32m     55\u001b[0m         \u001b[0;32myield\u001b[0m \u001b[0mitem\u001b[0m\u001b[0;34m\u001b[0m\u001b[0;34m\u001b[0m\u001b[0m\n\u001b[1;32m     56\u001b[0m \u001b[0;34m\u001b[0m\u001b[0m\n",
      "\u001b[0;32m/opt/conda/lib/python3.8/site-packages/tqdm/notebook.py\u001b[0m in \u001b[0;36m__iter__\u001b[0;34m(self)\u001b[0m\n\u001b[1;32m    252\u001b[0m     \u001b[0;32mdef\u001b[0m \u001b[0m__iter__\u001b[0m\u001b[0;34m(\u001b[0m\u001b[0mself\u001b[0m\u001b[0;34m)\u001b[0m\u001b[0;34m:\u001b[0m\u001b[0;34m\u001b[0m\u001b[0;34m\u001b[0m\u001b[0m\n\u001b[1;32m    253\u001b[0m         \u001b[0;32mtry\u001b[0m\u001b[0;34m:\u001b[0m\u001b[0;34m\u001b[0m\u001b[0;34m\u001b[0m\u001b[0m\n\u001b[0;32m--> 254\u001b[0;31m             \u001b[0;32mfor\u001b[0m \u001b[0mobj\u001b[0m \u001b[0;32min\u001b[0m \u001b[0msuper\u001b[0m\u001b[0;34m(\u001b[0m\u001b[0mtqdm_notebook\u001b[0m\u001b[0;34m,\u001b[0m \u001b[0mself\u001b[0m\u001b[0;34m)\u001b[0m\u001b[0;34m.\u001b[0m\u001b[0m__iter__\u001b[0m\u001b[0;34m(\u001b[0m\u001b[0;34m)\u001b[0m\u001b[0;34m:\u001b[0m\u001b[0;34m\u001b[0m\u001b[0;34m\u001b[0m\u001b[0m\n\u001b[0m\u001b[1;32m    255\u001b[0m                 \u001b[0;31m# return super(tqdm...) will not catch exception\u001b[0m\u001b[0;34m\u001b[0m\u001b[0;34m\u001b[0m\u001b[0;34m\u001b[0m\u001b[0m\n\u001b[1;32m    256\u001b[0m                 \u001b[0;32myield\u001b[0m \u001b[0mobj\u001b[0m\u001b[0;34m\u001b[0m\u001b[0;34m\u001b[0m\u001b[0m\n",
      "\u001b[0;32m/opt/conda/lib/python3.8/site-packages/tqdm/std.py\u001b[0m in \u001b[0;36m__iter__\u001b[0;34m(self)\u001b[0m\n\u001b[1;32m   1176\u001b[0m \u001b[0;34m\u001b[0m\u001b[0m\n\u001b[1;32m   1177\u001b[0m         \u001b[0;32mtry\u001b[0m\u001b[0;34m:\u001b[0m\u001b[0;34m\u001b[0m\u001b[0;34m\u001b[0m\u001b[0m\n\u001b[0;32m-> 1178\u001b[0;31m             \u001b[0;32mfor\u001b[0m \u001b[0mobj\u001b[0m \u001b[0;32min\u001b[0m \u001b[0miterable\u001b[0m\u001b[0;34m:\u001b[0m\u001b[0;34m\u001b[0m\u001b[0;34m\u001b[0m\u001b[0m\n\u001b[0m\u001b[1;32m   1179\u001b[0m                 \u001b[0;32myield\u001b[0m \u001b[0mobj\u001b[0m\u001b[0;34m\u001b[0m\u001b[0;34m\u001b[0m\u001b[0m\n\u001b[1;32m   1180\u001b[0m                 \u001b[0;31m# Update and possibly print the progressbar.\u001b[0m\u001b[0;34m\u001b[0m\u001b[0;34m\u001b[0m\u001b[0;34m\u001b[0m\u001b[0m\n",
      "\u001b[0;32m/opt/conda/lib/python3.8/site-packages/multiprocess/pool.py\u001b[0m in \u001b[0;36mnext\u001b[0;34m(self, timeout)\u001b[0m\n\u001b[1;32m    866\u001b[0m         \u001b[0;32mif\u001b[0m \u001b[0msuccess\u001b[0m\u001b[0;34m:\u001b[0m\u001b[0;34m\u001b[0m\u001b[0;34m\u001b[0m\u001b[0m\n\u001b[1;32m    867\u001b[0m             \u001b[0;32mreturn\u001b[0m \u001b[0mvalue\u001b[0m\u001b[0;34m\u001b[0m\u001b[0;34m\u001b[0m\u001b[0m\n\u001b[0;32m--> 868\u001b[0;31m         \u001b[0;32mraise\u001b[0m \u001b[0mvalue\u001b[0m\u001b[0;34m\u001b[0m\u001b[0;34m\u001b[0m\u001b[0m\n\u001b[0m\u001b[1;32m    869\u001b[0m \u001b[0;34m\u001b[0m\u001b[0m\n\u001b[1;32m    870\u001b[0m     \u001b[0m__next__\u001b[0m \u001b[0;34m=\u001b[0m \u001b[0mnext\u001b[0m                    \u001b[0;31m# XXX\u001b[0m\u001b[0;34m\u001b[0m\u001b[0;34m\u001b[0m\u001b[0m\n",
      "\u001b[0;32m/opt/conda/lib/python3.8/site-packages/multiprocess/pool.py\u001b[0m in \u001b[0;36mworker\u001b[0;34m()\u001b[0m\n\u001b[1;32m    123\u001b[0m         \u001b[0mjob\u001b[0m\u001b[0;34m,\u001b[0m \u001b[0mi\u001b[0m\u001b[0;34m,\u001b[0m \u001b[0mfunc\u001b[0m\u001b[0;34m,\u001b[0m \u001b[0margs\u001b[0m\u001b[0;34m,\u001b[0m \u001b[0mkwds\u001b[0m \u001b[0;34m=\u001b[0m \u001b[0mtask\u001b[0m\u001b[0;34m\u001b[0m\u001b[0;34m\u001b[0m\u001b[0m\n\u001b[1;32m    124\u001b[0m         \u001b[0;32mtry\u001b[0m\u001b[0;34m:\u001b[0m\u001b[0;34m\u001b[0m\u001b[0;34m\u001b[0m\u001b[0m\n\u001b[0;32m--> 125\u001b[0;31m             \u001b[0mresult\u001b[0m \u001b[0;34m=\u001b[0m \u001b[0;34m(\u001b[0m\u001b[0;32mTrue\u001b[0m\u001b[0;34m,\u001b[0m \u001b[0mfunc\u001b[0m\u001b[0;34m(\u001b[0m\u001b[0;34m*\u001b[0m\u001b[0margs\u001b[0m\u001b[0;34m,\u001b[0m \u001b[0;34m**\u001b[0m\u001b[0mkwds\u001b[0m\u001b[0;34m)\u001b[0m\u001b[0;34m)\u001b[0m\u001b[0;34m\u001b[0m\u001b[0;34m\u001b[0m\u001b[0m\n\u001b[0m\u001b[1;32m    126\u001b[0m         \u001b[0;32mexcept\u001b[0m \u001b[0mException\u001b[0m \u001b[0;32mas\u001b[0m \u001b[0me\u001b[0m\u001b[0;34m:\u001b[0m\u001b[0;34m\u001b[0m\u001b[0;34m\u001b[0m\u001b[0m\n\u001b[1;32m    127\u001b[0m             \u001b[0;32mif\u001b[0m \u001b[0mwrap_exception\u001b[0m \u001b[0;32mand\u001b[0m \u001b[0mfunc\u001b[0m \u001b[0;32mis\u001b[0m \u001b[0;32mnot\u001b[0m \u001b[0m_helper_reraises_exception\u001b[0m\u001b[0;34m:\u001b[0m\u001b[0;34m\u001b[0m\u001b[0;34m\u001b[0m\u001b[0m\n",
      "\u001b[0;32m/opt/conda/lib/python3.8/site-packages/pathos/helpers/mp_helper.py\u001b[0m in \u001b[0;36m<lambda>\u001b[0;34m()\u001b[0m\n\u001b[1;32m     13\u001b[0m \u001b[0;32mdef\u001b[0m \u001b[0mstarargs\u001b[0m\u001b[0;34m(\u001b[0m\u001b[0mf\u001b[0m\u001b[0;34m)\u001b[0m\u001b[0;34m:\u001b[0m\u001b[0;34m\u001b[0m\u001b[0;34m\u001b[0m\u001b[0m\n\u001b[1;32m     14\u001b[0m     \u001b[0;34m\"\"\"decorator to convert a many-arg function to a single-arg function\"\"\"\u001b[0m\u001b[0;34m\u001b[0m\u001b[0;34m\u001b[0m\u001b[0m\n\u001b[0;32m---> 15\u001b[0;31m     \u001b[0mfunc\u001b[0m \u001b[0;34m=\u001b[0m \u001b[0;32mlambda\u001b[0m \u001b[0margs\u001b[0m\u001b[0;34m:\u001b[0m \u001b[0mf\u001b[0m\u001b[0;34m(\u001b[0m\u001b[0;34m*\u001b[0m\u001b[0margs\u001b[0m\u001b[0;34m)\u001b[0m\u001b[0;34m\u001b[0m\u001b[0;34m\u001b[0m\u001b[0m\n\u001b[0m\u001b[1;32m     16\u001b[0m    \u001b[0;31m#func.__module__ = f.__module__\u001b[0m\u001b[0;34m\u001b[0m\u001b[0;34m\u001b[0m\u001b[0;34m\u001b[0m\u001b[0m\n\u001b[1;32m     17\u001b[0m    \u001b[0;31m#func.__name__ = f.__name__\u001b[0m\u001b[0;34m\u001b[0m\u001b[0;34m\u001b[0m\u001b[0;34m\u001b[0m\u001b[0m\n",
      "\u001b[0;32m~/scripts/post_pred_gen_redefined.py\u001b[0m in \u001b[0;36mpost_pred_gen\u001b[0;34m()\u001b[0m\n\u001b[1;32m    140\u001b[0m \u001b[0;34m\u001b[0m\u001b[0m\n\u001b[1;32m    141\u001b[0m     \u001b[0;32mfor\u001b[0m \u001b[0mname\u001b[0m\u001b[0;34m,\u001b[0m \u001b[0mdata\u001b[0m \u001b[0;32min\u001b[0m \u001b[0miter_data\u001b[0m\u001b[0;34m:\u001b[0m\u001b[0;34m\u001b[0m\u001b[0;34m\u001b[0m\u001b[0m\n\u001b[0;32m--> 142\u001b[0;31m         \u001b[0mnode\u001b[0m \u001b[0;34m=\u001b[0m \u001b[0mmodel\u001b[0m\u001b[0;34m.\u001b[0m\u001b[0mget_data_nodes\u001b[0m\u001b[0;34m(\u001b[0m\u001b[0mdata\u001b[0m\u001b[0;34m.\u001b[0m\u001b[0mindex\u001b[0m\u001b[0;34m)\u001b[0m\u001b[0;34m\u001b[0m\u001b[0;34m\u001b[0m\u001b[0m\n\u001b[0m\u001b[1;32m    143\u001b[0m \u001b[0;34m\u001b[0m\u001b[0m\n\u001b[1;32m    144\u001b[0m         \u001b[0;32mif\u001b[0m \u001b[0mprogress_bar\u001b[0m\u001b[0;34m:\u001b[0m\u001b[0;34m\u001b[0m\u001b[0;34m\u001b[0m\u001b[0m\n",
      "\u001b[0;32m/opt/conda/lib/python3.8/site-packages/kabuki/hierarchical.py\u001b[0m in \u001b[0;36mget_data_nodes\u001b[0;34m()\u001b[0m\n\u001b[1;32m    947\u001b[0m \u001b[0;34m\u001b[0m\u001b[0m\n\u001b[1;32m    948\u001b[0m         \u001b[0;32mif\u001b[0m \u001b[0mlen\u001b[0m\u001b[0;34m(\u001b[0m\u001b[0mdata_nodes\u001b[0m\u001b[0;34m)\u001b[0m \u001b[0;34m!=\u001b[0m \u001b[0;36m1\u001b[0m\u001b[0;34m:\u001b[0m\u001b[0;34m\u001b[0m\u001b[0;34m\u001b[0m\u001b[0m\n\u001b[0;32m--> 949\u001b[0;31m             \u001b[0;32mraise\u001b[0m \u001b[0mNotImplementedError\u001b[0m\u001b[0;34m(\u001b[0m\u001b[0;34m\"Supply a grouping so that at most 1 observed node codes for each group.\"\u001b[0m\u001b[0;34m)\u001b[0m\u001b[0;34m\u001b[0m\u001b[0;34m\u001b[0m\u001b[0m\n\u001b[0m\u001b[1;32m    950\u001b[0m \u001b[0;34m\u001b[0m\u001b[0m\n\u001b[1;32m    951\u001b[0m         \u001b[0;32mreturn\u001b[0m \u001b[0mdata_nodes\u001b[0m\u001b[0;34m[\u001b[0m\u001b[0;36m0\u001b[0m\u001b[0;34m]\u001b[0m\u001b[0;34m\u001b[0m\u001b[0;34m\u001b[0m\u001b[0m\n",
      "\u001b[0;31mNotImplementedError\u001b[0m: Supply a grouping so that at most 1 observed node codes for each group."
     ]
    }
   ],
   "source": [
    "%%time\n",
    "InfData_msi = InferenceDataFromHDDM(msires, nppc = 10, save_name=\"msi3\")"
   ]
  },
  {
   "cell_type": "code",
   "execution_count": 85,
   "id": "568d8a3d-a0b7-44b3-8521-e905c9e3a2d2",
   "metadata": {},
   "outputs": [
    {
     "data": {
      "text/html": [
       "<div>\n",
       "<style scoped>\n",
       "    .dataframe tbody tr th:only-of-type {\n",
       "        vertical-align: middle;\n",
       "    }\n",
       "\n",
       "    .dataframe tbody tr th {\n",
       "        vertical-align: top;\n",
       "    }\n",
       "\n",
       "    .dataframe thead th {\n",
       "        text-align: right;\n",
       "    }\n",
       "</style>\n",
       "<table border=\"1\" class=\"dataframe\">\n",
       "  <thead>\n",
       "    <tr style=\"text-align: right;\">\n",
       "      <th></th>\n",
       "      <th>rt</th>\n",
       "    </tr>\n",
       "  </thead>\n",
       "  <tbody>\n",
       "    <tr>\n",
       "      <th>0</th>\n",
       "      <td>0.549374</td>\n",
       "    </tr>\n",
       "    <tr>\n",
       "      <th>1</th>\n",
       "      <td>0.267374</td>\n",
       "    </tr>\n",
       "    <tr>\n",
       "      <th>2</th>\n",
       "      <td>0.231374</td>\n",
       "    </tr>\n",
       "    <tr>\n",
       "      <th>3</th>\n",
       "      <td>0.424374</td>\n",
       "    </tr>\n",
       "    <tr>\n",
       "      <th>4</th>\n",
       "      <td>0.574374</td>\n",
       "    </tr>\n",
       "    <tr>\n",
       "      <th>5</th>\n",
       "      <td>0.343374</td>\n",
       "    </tr>\n",
       "    <tr>\n",
       "      <th>6</th>\n",
       "      <td>1.424374</td>\n",
       "    </tr>\n",
       "    <tr>\n",
       "      <th>7</th>\n",
       "      <td>0.537374</td>\n",
       "    </tr>\n",
       "    <tr>\n",
       "      <th>8</th>\n",
       "      <td>0.377374</td>\n",
       "    </tr>\n",
       "    <tr>\n",
       "      <th>9</th>\n",
       "      <td>0.325374</td>\n",
       "    </tr>\n",
       "    <tr>\n",
       "      <th>10</th>\n",
       "      <td>0.298374</td>\n",
       "    </tr>\n",
       "    <tr>\n",
       "      <th>11</th>\n",
       "      <td>0.585374</td>\n",
       "    </tr>\n",
       "    <tr>\n",
       "      <th>12</th>\n",
       "      <td>0.352374</td>\n",
       "    </tr>\n",
       "    <tr>\n",
       "      <th>13</th>\n",
       "      <td>-0.587374</td>\n",
       "    </tr>\n",
       "    <tr>\n",
       "      <th>14</th>\n",
       "      <td>0.328374</td>\n",
       "    </tr>\n",
       "    <tr>\n",
       "      <th>15</th>\n",
       "      <td>0.596374</td>\n",
       "    </tr>\n",
       "    <tr>\n",
       "      <th>16</th>\n",
       "      <td>-0.196374</td>\n",
       "    </tr>\n",
       "    <tr>\n",
       "      <th>17</th>\n",
       "      <td>-0.226374</td>\n",
       "    </tr>\n",
       "    <tr>\n",
       "      <th>18</th>\n",
       "      <td>0.411374</td>\n",
       "    </tr>\n",
       "    <tr>\n",
       "      <th>19</th>\n",
       "      <td>0.411374</td>\n",
       "    </tr>\n",
       "    <tr>\n",
       "      <th>20</th>\n",
       "      <td>0.490374</td>\n",
       "    </tr>\n",
       "    <tr>\n",
       "      <th>21</th>\n",
       "      <td>0.771374</td>\n",
       "    </tr>\n",
       "    <tr>\n",
       "      <th>22</th>\n",
       "      <td>0.580374</td>\n",
       "    </tr>\n",
       "    <tr>\n",
       "      <th>23</th>\n",
       "      <td>0.470374</td>\n",
       "    </tr>\n",
       "    <tr>\n",
       "      <th>24</th>\n",
       "      <td>0.577374</td>\n",
       "    </tr>\n",
       "    <tr>\n",
       "      <th>25</th>\n",
       "      <td>0.287374</td>\n",
       "    </tr>\n",
       "    <tr>\n",
       "      <th>26</th>\n",
       "      <td>0.308374</td>\n",
       "    </tr>\n",
       "    <tr>\n",
       "      <th>27</th>\n",
       "      <td>0.232374</td>\n",
       "    </tr>\n",
       "    <tr>\n",
       "      <th>28</th>\n",
       "      <td>0.271374</td>\n",
       "    </tr>\n",
       "    <tr>\n",
       "      <th>29</th>\n",
       "      <td>0.487374</td>\n",
       "    </tr>\n",
       "    <tr>\n",
       "      <th>30</th>\n",
       "      <td>-0.449374</td>\n",
       "    </tr>\n",
       "    <tr>\n",
       "      <th>31</th>\n",
       "      <td>0.349374</td>\n",
       "    </tr>\n",
       "    <tr>\n",
       "      <th>32</th>\n",
       "      <td>0.347374</td>\n",
       "    </tr>\n",
       "    <tr>\n",
       "      <th>33</th>\n",
       "      <td>0.385374</td>\n",
       "    </tr>\n",
       "    <tr>\n",
       "      <th>34</th>\n",
       "      <td>0.344374</td>\n",
       "    </tr>\n",
       "    <tr>\n",
       "      <th>35</th>\n",
       "      <td>0.281374</td>\n",
       "    </tr>\n",
       "    <tr>\n",
       "      <th>36</th>\n",
       "      <td>0.345374</td>\n",
       "    </tr>\n",
       "    <tr>\n",
       "      <th>37</th>\n",
       "      <td>0.881374</td>\n",
       "    </tr>\n",
       "    <tr>\n",
       "      <th>38</th>\n",
       "      <td>1.086374</td>\n",
       "    </tr>\n",
       "    <tr>\n",
       "      <th>39</th>\n",
       "      <td>0.391374</td>\n",
       "    </tr>\n",
       "    <tr>\n",
       "      <th>40</th>\n",
       "      <td>0.481374</td>\n",
       "    </tr>\n",
       "    <tr>\n",
       "      <th>41</th>\n",
       "      <td>-0.377374</td>\n",
       "    </tr>\n",
       "    <tr>\n",
       "      <th>42</th>\n",
       "      <td>0.284374</td>\n",
       "    </tr>\n",
       "    <tr>\n",
       "      <th>43</th>\n",
       "      <td>0.338374</td>\n",
       "    </tr>\n",
       "    <tr>\n",
       "      <th>44</th>\n",
       "      <td>0.809374</td>\n",
       "    </tr>\n",
       "    <tr>\n",
       "      <th>45</th>\n",
       "      <td>0.246374</td>\n",
       "    </tr>\n",
       "    <tr>\n",
       "      <th>46</th>\n",
       "      <td>0.379374</td>\n",
       "    </tr>\n",
       "    <tr>\n",
       "      <th>47</th>\n",
       "      <td>1.514374</td>\n",
       "    </tr>\n",
       "    <tr>\n",
       "      <th>48</th>\n",
       "      <td>0.402374</td>\n",
       "    </tr>\n",
       "    <tr>\n",
       "      <th>49</th>\n",
       "      <td>0.472374</td>\n",
       "    </tr>\n",
       "  </tbody>\n",
       "</table>\n",
       "</div>"
      ],
      "text/plain": [
       "          rt\n",
       "0   0.549374\n",
       "1   0.267374\n",
       "2   0.231374\n",
       "3   0.424374\n",
       "4   0.574374\n",
       "5   0.343374\n",
       "6   1.424374\n",
       "7   0.537374\n",
       "8   0.377374\n",
       "9   0.325374\n",
       "10  0.298374\n",
       "11  0.585374\n",
       "12  0.352374\n",
       "13 -0.587374\n",
       "14  0.328374\n",
       "15  0.596374\n",
       "16 -0.196374\n",
       "17 -0.226374\n",
       "18  0.411374\n",
       "19  0.411374\n",
       "20  0.490374\n",
       "21  0.771374\n",
       "22  0.580374\n",
       "23  0.470374\n",
       "24  0.577374\n",
       "25  0.287374\n",
       "26  0.308374\n",
       "27  0.232374\n",
       "28  0.271374\n",
       "29  0.487374\n",
       "30 -0.449374\n",
       "31  0.349374\n",
       "32  0.347374\n",
       "33  0.385374\n",
       "34  0.344374\n",
       "35  0.281374\n",
       "36  0.345374\n",
       "37  0.881374\n",
       "38  1.086374\n",
       "39  0.391374\n",
       "40  0.481374\n",
       "41 -0.377374\n",
       "42  0.284374\n",
       "43  0.338374\n",
       "44  0.809374\n",
       "45  0.246374\n",
       "46  0.379374\n",
       "47  1.514374\n",
       "48  0.402374\n",
       "49  0.472374"
      ]
     },
     "execution_count": 85,
     "metadata": {},
     "output_type": "execute_result"
    }
   ],
   "source": [
    "for a, b in msires[0].iter_observeds():\n",
    "    node = b['node']\n",
    "node.value"
   ]
  },
  {
   "cell_type": "code",
   "execution_count": 83,
   "id": "8202953d-148f-42a9-87a1-4c06516bf0fa",
   "metadata": {},
   "outputs": [],
   "source": [
    "for a, b in msires1[0].iter_observeds():\n",
    "    node = b['node']"
   ]
  },
  {
   "cell_type": "code",
   "execution_count": 84,
   "id": "4dc1ca2c-76a4-4299-98e8-25f26a40b31a",
   "metadata": {},
   "outputs": [
    {
     "data": {
      "text/html": [
       "<div>\n",
       "<style scoped>\n",
       "    .dataframe tbody tr th:only-of-type {\n",
       "        vertical-align: middle;\n",
       "    }\n",
       "\n",
       "    .dataframe tbody tr th {\n",
       "        vertical-align: top;\n",
       "    }\n",
       "\n",
       "    .dataframe thead th {\n",
       "        text-align: right;\n",
       "    }\n",
       "</style>\n",
       "<table border=\"1\" class=\"dataframe\">\n",
       "  <thead>\n",
       "    <tr style=\"text-align: right;\">\n",
       "      <th></th>\n",
       "      <th>rt</th>\n",
       "    </tr>\n",
       "  </thead>\n",
       "  <tbody>\n",
       "    <tr>\n",
       "      <th>3714</th>\n",
       "      <td>1.500</td>\n",
       "    </tr>\n",
       "    <tr>\n",
       "      <th>3715</th>\n",
       "      <td>0.929</td>\n",
       "    </tr>\n",
       "    <tr>\n",
       "      <th>3716</th>\n",
       "      <td>1.880</td>\n",
       "    </tr>\n",
       "    <tr>\n",
       "      <th>3717</th>\n",
       "      <td>-1.180</td>\n",
       "    </tr>\n",
       "    <tr>\n",
       "      <th>3718</th>\n",
       "      <td>1.810</td>\n",
       "    </tr>\n",
       "    <tr>\n",
       "      <th>...</th>\n",
       "      <td>...</td>\n",
       "    </tr>\n",
       "    <tr>\n",
       "      <th>3983</th>\n",
       "      <td>-1.450</td>\n",
       "    </tr>\n",
       "    <tr>\n",
       "      <th>3984</th>\n",
       "      <td>0.711</td>\n",
       "    </tr>\n",
       "    <tr>\n",
       "      <th>3985</th>\n",
       "      <td>0.784</td>\n",
       "    </tr>\n",
       "    <tr>\n",
       "      <th>3986</th>\n",
       "      <td>-2.350</td>\n",
       "    </tr>\n",
       "    <tr>\n",
       "      <th>3987</th>\n",
       "      <td>1.250</td>\n",
       "    </tr>\n",
       "  </tbody>\n",
       "</table>\n",
       "<p>274 rows × 1 columns</p>\n",
       "</div>"
      ],
      "text/plain": [
       "         rt\n",
       "3714  1.500\n",
       "3715  0.929\n",
       "3716  1.880\n",
       "3717 -1.180\n",
       "3718  1.810\n",
       "...     ...\n",
       "3983 -1.450\n",
       "3984  0.711\n",
       "3985  0.784\n",
       "3986 -2.350\n",
       "3987  1.250\n",
       "\n",
       "[274 rows x 1 columns]"
      ]
     },
     "execution_count": 84,
     "metadata": {},
     "output_type": "execute_result"
    }
   ],
   "source": [
    "node.value"
   ]
  },
  {
   "cell_type": "code",
   "execution_count": 91,
   "id": "0ef7ec8c-cadf-41e3-9102-de1f1fae549d",
   "metadata": {},
   "outputs": [],
   "source": [
    "df = df.reset_index(drop=True)"
   ]
  },
  {
   "cell_type": "code",
   "execution_count": 92,
   "id": "5c6fb3f0-71a4-46ac-9bc1-66ef1c4d22aa",
   "metadata": {},
   "outputs": [
    {
     "name": "stdout",
     "output_type": "stream",
     "text": [
      "running chain 0 for model ms1_issue"
     ]
    },
    {
     "data": {
      "application/vnd.jupyter.widget-view+json": {
       "model_id": "841fec90bc944e14ac618ebb52541974",
       "version_major": 2,
       "version_minor": 0
      },
      "text/plain": [
       "  0%|          | 0/4 [00:00<?, ?it/s]"
      ]
     },
     "metadata": {},
     "output_type": "display_data"
    },
    {
     "name": "stdout",
     "output_type": "stream",
     "text": [
      "\n",
      "Adding these covariates:\n",
      "['v_Intercept']\n",
      "Adding these covariates:\n",
      "['z_Intercept']\n",
      "Adding these covariates:\n",
      "['t_Intercept']\n",
      "Adding these covariates:\n",
      "['a_Intercept']\n",
      "running chain 1 for model ms1_issue\n",
      "Adding these covariates:\n",
      "['v_Intercept']\n",
      "Adding these covariates:\n",
      "['z_Intercept']\n",
      "Adding these covariates:\n",
      "['t_Intercept']\n",
      "Adding these covariates:\n",
      "['a_Intercept']\n",
      "running chain 2 for model ms1_issue\n",
      "Adding these covariates:\n",
      "['v_Intercept']\n",
      "Adding these covariates:\n",
      "['z_Intercept']\n",
      "Adding these covariates:\n",
      "['t_Intercept']\n",
      "Adding these covariates:\n",
      "['a_Intercept']\n",
      "running chain 3 for model ms1_issue\n",
      "Adding these covariates:\n",
      "['v_Intercept']\n",
      "Adding these covariates:\n",
      "['z_Intercept']\n",
      "Adding these covariates:\n",
      "['t_Intercept']\n",
      "Adding these covariates:\n",
      "['a_Intercept']\n"
     ]
    },
    {
     "name": "stderr",
     "output_type": "stream",
     "text": [
      "/opt/conda/lib/python3.8/site-packages/scipy/optimize/optimize.py:2215: RuntimeWarning: invalid value encountered in double_scalars\n",
      "  tmp2 = (x - v) * (fx - fw)\n",
      "/opt/conda/lib/python3.8/site-packages/scipy/optimize/optimize.py:2215: RuntimeWarning: invalid value encountered in double_scalars\n",
      "  tmp2 = (x - v) * (fx - fw)\n",
      "/opt/conda/lib/python3.8/site-packages/scipy/optimize/optimize.py:2215: RuntimeWarning: invalid value encountered in double_scalars\n",
      "  tmp2 = (x - v) * (fx - fw)\n",
      "/opt/conda/lib/python3.8/site-packages/scipy/optimize/optimize.py:2215: RuntimeWarning: invalid value encountered in double_scalars\n",
      "  tmp2 = (x - v) * (fx - fw)\n"
     ]
    },
    {
     "name": "stdout",
     "output_type": "stream",
     "text": [
      " -----------------97%----------------  ] 97 of 100 complete in 28.3 sec-                 3%                  ] 3 of 100 complete in 0.8 sec  [-                 3%                  ] 3 of 100 complete in 0.8 sec[-                 3%                  ] 3 of 100 complete in 0.8 sec[-                 5%                  ] 5 of 100 complete in 1.3 sec[-                 5%                  ] 5 of 100 complete in 1.4 sec[-                 5%                  ] 5 of 100 complete in 1.3 sec[-                 5%                  ] 5 of 100 complete in 1.4 sec[--                7%                  ] 7 of 100 complete in 1.9 sec[--                7%                  ] 7 of 100 complete in 2.0 sec[--                7%                  ] 7 of 100 complete in 2.0 sec[--                7%                  ] 7 of 100 complete in 2.0 sec[---               9%                  ] 9 of 100 complete in 2.5 sec[---               9%                  ] 9 of 100 complete in 2.6 sec[---               9%                  ] 9 of 100 complete in 2.5 sec[---               9%                  ] 9 of 100 complete in 2.6 sec[----             11%                  ] 11 of 100 complete in 3.1 sec[----             11%                  ] 11 of 100 complete in 3.1 sec[----             11%                  ] 11 of 100 complete in 3.1 sec[----             11%                  ] 11 of 100 complete in 3.2 sec[----             13%                  ] 13 of 100 complete in 3.7 sec[----             13%                  ] 13 of 100 complete in 3.7 sec[----             13%                  ] 13 of 100 complete in 3.7 sec[----             13%                  ] 13 of 100 complete in 3.8 sec[-----            15%                  ] 15 of 100 complete in 4.2 sec[-----            15%                  ] 15 of 100 complete in 4.3 sec[-----            15%                  ] 15 of 100 complete in 4.3 sec[-----            15%                  ] 15 of 100 complete in 4.4 sec[------           17%                  ] 17 of 100 complete in 4.8 sec[------           17%                  ] 17 of 100 complete in 4.9 sec[------           17%                  ] 17 of 100 complete in 4.9 sec[------           17%                  ] 17 of 100 complete in 5.0 sec[-------          19%                  ] 19 of 100 complete in 5.4 sec[-------          19%                  ] 19 of 100 complete in 5.5 sec[-------          19%                  ] 19 of 100 complete in 5.5 sec[-------          19%                  ] 19 of 100 complete in 5.6 sec[-------          21%                  ] 21 of 100 complete in 6.0 sec[-------          21%                  ] 21 of 100 complete in 6.1 sec[-------          21%                  ] 21 of 100 complete in 6.1 sec[-------          21%                  ] 21 of 100 complete in 6.2 sec[--------         23%                  ] 23 of 100 complete in 6.5 sec[--------         23%                  ] 23 of 100 complete in 6.7 sec[--------         23%                  ] 23 of 100 complete in 6.7 sec[--------         23%                  ] 23 of 100 complete in 6.8 sec[---------        25%                  ] 25 of 100 complete in 7.1 sec[---------        25%                  ] 25 of 100 complete in 7.3 sec[---------        25%                  ] 25 of 100 complete in 7.3 sec[---------        25%                  ] 25 of 100 complete in 7.4 sec[----------       27%                  ] 27 of 100 complete in 7.7 sec[----------       27%                  ] 27 of 100 complete in 7.8 sec[----------       27%                  ] 27 of 100 complete in 7.9 sec[----------       27%                  ] 27 of 100 complete in 8.1 sec[-----------      29%                  ] 29 of 100 complete in 8.3 sec[-----------      29%                  ] 29 of 100 complete in 8.4 sec[-----------      29%                  ] 29 of 100 complete in 8.5 sec[-----------      29%                  ] 29 of 100 complete in 8.7 sec[-----------      31%                  ] 31 of 100 complete in 8.9 sec[-----------      31%                  ] 31 of 100 complete in 9.0 sec[-----------      31%                  ] 31 of 100 complete in 9.1 sec[------------     33%                  ] 33 of 100 complete in 9.5 sec[-----------      31%                  ] 31 of 100 complete in 9.4 sec[------------     33%                  ] 33 of 100 complete in 9.6 sec[------------     33%                  ] 33 of 100 complete in 9.7 sec[-------------    35%                  ] 35 of 100 complete in 10.0 sec[------------     33%                  ] 33 of 100 complete in 10.0 sec[-------------    35%                  ] 35 of 100 complete in 10.2 sec[-------------    35%                  ] 35 of 100 complete in 10.3 sec[--------------   37%                  ] 37 of 100 complete in 10.6 sec[-------------    35%                  ] 35 of 100 complete in 10.7 sec[--------------   37%                  ] 37 of 100 complete in 10.8 sec[--------------   37%                  ] 37 of 100 complete in 10.9 sec[--------------   39%                  ] 39 of 100 complete in 11.2 sec[--------------   39%                  ] 39 of 100 complete in 11.4 sec[--------------   37%                  ] 37 of 100 complete in 11.3 sec[--------------   39%                  ] 39 of 100 complete in 11.5 sec[---------------  41%                  ] 41 of 100 complete in 11.8 sec[---------------  41%                  ] 41 of 100 complete in 12.0 sec[--------------   39%                  ] 39 of 100 complete in 12.0 sec[---------------  41%                  ] 41 of 100 complete in 12.1 sec[---------------- 43%                  ] 43 of 100 complete in 12.3 sec[---------------- 43%                  ] 43 of 100 complete in 12.6 sec[---------------  41%                  ] 41 of 100 complete in 12.6 sec[---------------- 43%                  ] 43 of 100 complete in 12.7 sec[-----------------45%                  ] 45 of 100 complete in 13.0 sec[-----------------45%                  ] 45 of 100 complete in 13.2 sec[---------------- 43%                  ] 43 of 100 complete in 13.2 sec[-----------------45%                  ] 45 of 100 complete in 13.3 sec[-----------------47%                  ] 47 of 100 complete in 13.6 sec[-----------------47%                  ] 47 of 100 complete in 13.8 sec[-----------------45%                  ] 45 of 100 complete in 13.8 sec[-----------------47%                  ] 47 of 100 complete in 13.9 sec[-----------------49%                  ] 49 of 100 complete in 14.2 sec[-----------------49%                  ] 49 of 100 complete in 14.4 sec[-----------------47%                  ] 47 of 100 complete in 14.5 sec[-----------------49%                  ] 49 of 100 complete in 14.4 sec[-----------------51%                  ] 51 of 100 complete in 14.7 sec[-----------------51%                  ] 51 of 100 complete in 15.0 sec[-----------------49%                  ] 49 of 100 complete in 15.1 sec[-----------------51%                  ] 51 of 100 complete in 15.0 sec[-----------------53%                  ] 53 of 100 complete in 15.4 sec[-----------------53%                  ] 53 of 100 complete in 15.6 sec[-----------------51%                  ] 51 of 100 complete in 15.7 sec[-----------------53%                  ] 53 of 100 complete in 15.7 sec[-----------------55%                  ] 55 of 100 complete in 16.0 sec[-----------------55%                  ] 55 of 100 complete in 16.2 sec[-----------------53%                  ] 53 of 100 complete in 16.3 sec[-----------------55%                  ] 55 of 100 complete in 16.3 sec[-----------------57%-                 ] 57 of 100 complete in 16.6 sec[-----------------57%-                 ] 57 of 100 complete in 16.8 sec[-----------------55%                  ] 55 of 100 complete in 16.9 sec[-----------------57%-                 ] 57 of 100 complete in 16.9 sec[-----------------59%--                ] 59 of 100 complete in 17.2 sec[-----------------59%--                ] 59 of 100 complete in 17.4 sec[-----------------59%--                ] 59 of 100 complete in 17.5 sec[-----------------57%-                 ] 57 of 100 complete in 17.5 sec[-----------------61%---               ] 61 of 100 complete in 17.7 sec[-----------------61%---               ] 61 of 100 complete in 18.0 sec[-----------------59%--                ] 59 of 100 complete in 18.1 sec[-----------------61%---               ] 61 of 100 complete in 18.1 sec[-----------------63%---               ] 63 of 100 complete in 18.3 sec[-----------------63%---               ] 63 of 100 complete in 18.6 sec[-----------------63%---               ] 63 of 100 complete in 18.7 sec[-----------------61%---               ] 61 of 100 complete in 18.7 sec[-----------------65%----              ] 65 of 100 complete in 18.9 sec[-----------------65%----              ] 65 of 100 complete in 19.2 sec[-----------------65%----              ] 65 of 100 complete in 19.3 sec[-----------------63%---               ] 63 of 100 complete in 19.3 sec[-----------------67%-----             ] 67 of 100 complete in 19.5 sec[-----------------67%-----             ] 67 of 100 complete in 19.8 sec[-----------------67%-----             ] 67 of 100 complete in 19.9 sec[-----------------65%----              ] 65 of 100 complete in 19.9 sec[-----------------69%------            ] 69 of 100 complete in 20.1 sec[-----------------69%------            ] 69 of 100 complete in 20.4 sec[-----------------69%------            ] 69 of 100 complete in 20.5 sec[-----------------67%-----             ] 67 of 100 complete in 20.5 sec[-----------------71%------            ] 71 of 100 complete in 20.7 sec[-----------------71%------            ] 71 of 100 complete in 20.9 sec[-----------------71%------            ] 71 of 100 complete in 21.1 sec[-----------------73%-------           ] 73 of 100 complete in 21.2 sec[-----------------69%------            ] 69 of 100 complete in 21.1 sec[-----------------73%-------           ] 73 of 100 complete in 21.5 sec[-----------------73%-------           ] 73 of 100 complete in 21.7 sec[-----------------71%------            ] 71 of 100 complete in 21.7 sec[-----------------75%--------          ] 75 of 100 complete in 21.8 sec[-----------------75%--------          ] 75 of 100 complete in 22.1 sec[-----------------75%--------          ] 75 of 100 complete in 22.2 sec[-----------------73%-------           ] 73 of 100 complete in 22.3 sec[-----------------77%---------         ] 77 of 100 complete in 22.4 sec[-----------------77%---------         ] 77 of 100 complete in 22.7 sec[-----------------77%---------         ] 77 of 100 complete in 22.8 sec[-----------------75%--------          ] 75 of 100 complete in 22.9 sec[-----------------79%----------        ] 79 of 100 complete in 23.0 sec[-----------------79%----------        ] 79 of 100 complete in 23.3 sec[-----------------79%----------        ] 79 of 100 complete in 23.3 sec[-----------------77%---------         ] 77 of 100 complete in 23.5 sec[-----------------81%----------        ] 81 of 100 complete in 23.6 sec[-----------------81%----------        ] 81 of 100 complete in 23.9 sec[-----------------81%----------        ] 81 of 100 complete in 23.9 sec[-----------------79%----------        ] 79 of 100 complete in 24.1 sec[-----------------83%-----------       ] 83 of 100 complete in 24.2 sec[-----------------83%-----------       ] 83 of 100 complete in 24.5 sec[-----------------83%-----------       ] 83 of 100 complete in 24.5 sec[-----------------85%------------      ] 85 of 100 complete in 24.8 sec[-----------------81%----------        ] 81 of 100 complete in 24.7 sec[-----------------85%------------      ] 85 of 100 complete in 25.0 sec[-----------------85%------------      ] 85 of 100 complete in 25.1 sec[-----------------87%-------------     ] 87 of 100 complete in 25.4 sec[-----------------83%-----------       ] 83 of 100 complete in 25.3 sec[-----------------87%-------------     ] 87 of 100 complete in 25.7 sec[-----------------87%-------------     ] 87 of 100 complete in 25.7 sec[-----------------89%-------------     ] 89 of 100 complete in 26.0 sec[-----------------85%------------      ] 85 of 100 complete in 25.9 sec[-----------------89%-------------     ] 89 of 100 complete in 26.2 sec[-----------------89%-------------     ] 89 of 100 complete in 26.3 sec[-----------------91%--------------    ] 91 of 100 complete in 26.5 sec[-----------------87%-------------     ] 87 of 100 complete in 26.5 sec[-----------------91%--------------    ] 91 of 100 complete in 26.8 sec[-----------------91%--------------    ] 91 of 100 complete in 26.9 sec[-----------------93%---------------   ] 93 of 100 complete in 27.1 sec[-----------------89%-------------     ] 89 of 100 complete in 27.1 sec[-----------------93%---------------   ] 93 of 100 complete in 27.4 sec[-----------------95%----------------  ] 95 of 100 complete in 27.7 sec[-----------------93%---------------   ] 93 of 100 complete in 27.6 sec[-----------------91%--------------    ] 91 of 100 complete in 27.7 sec[-----------------95%----------------  ] 95 of 100 complete in 28.0 sec [-----------------95%----------------  ] 95 of 100 complete in 28.2 sec[-----------------93%---------------   ] 93 of 100 complete in 28.3 sec[-----------------97%----------------  ] 97 of 100 complete in 28.6 sec[-----------------97%----------------  ] 97 of 100 complete in 28.8 sec[-----------------99%----------------- ] 99 of 100 complete in 29.0 sec[-----------------95%----------------  ] 95 of 100 complete in 28.9 sec[-----------------99%----------------- ] 99 of 100 complete in 29.2 sec [-----------------99%----------------- ] 99 of 100 complete in 29.4 sec [-----------------101%-----------------] 101 of 100 complete in 29.5 sec[-----------------97%----------------  ] 97 of 100 complete in 29.5 sec[-----------------101%-----------------] 101 of 100 complete in 29.8 sec[-----------------101%-----------------] 101 of 100 complete in 30.0 sec[-----------------99%----------------- ] 99 of 100 complete in 30.1 secWARNING: Will not save custom link functions.\n",
      "WARNING: Will not save custom link functions.\n",
      "WARNING: Will not save custom link functions.\n",
      "WARNING: Will not save custom link functions.\n",
      "WARNING: Custom link functions will not be loaded.\n",
      "WARNING: Will not save custom link functions.\n",
      "WARNING: Will not save custom link functions.\n",
      "WARNING: Will not save custom link functions.\n",
      "WARNING: Will not save custom link functions.\n",
      " [-----------------101%-----------------] 101 of 100 complete in 30.7 secWARNING: Will not save custom link functions.\n",
      "WARNING: Will not save custom link functions.\n",
      "WARNING: Will not save custom link functions.\n",
      "WARNING: Will not save custom link functions.\n",
      "WARNING: Will not save custom link functions.\n",
      "WARNING: Will not save custom link functions.\n",
      "WARNING: Will not save custom link functions.\n",
      "WARNING: Will not save custom link functions.\n",
      "WARNING: Custom link functions will not be loaded.\n",
      "WARNING: Custom link functions will not be loaded.\n",
      "WARNING: Custom link functions will not be loaded.\n"
     ]
    }
   ],
   "source": [
    "msires = p_map(partial(ms1_issue,df=df,samples=100,burn=10,save_name='ms1_issue'),range(4))"
   ]
  },
  {
   "cell_type": "code",
   "execution_count": 93,
   "id": "82ca474f-b273-4433-a2f6-7c902e7ff861",
   "metadata": {},
   "outputs": [
    {
     "name": "stdout",
     "output_type": "stream",
     "text": [
      "start converting msi4\n"
     ]
    },
    {
     "data": {
      "application/vnd.jupyter.widget-view+json": {
       "model_id": "aad847c3075f4de48fcd49b12deaba4e",
       "version_major": 2,
       "version_minor": 0
      },
      "text/plain": [
       "  0%|          | 0/4 [00:00<?, ?it/s]"
      ]
     },
     "metadata": {},
     "output_type": "display_data"
    },
    {
     "name": "stdout",
     "output_type": "stream",
     "text": [
      "WARNING: Custom link functions will not be loaded.\n",
      "WARNING: Custom link functions will not be loaded.\n",
      "WARNING: Custom link functions will not be loaded.\n",
      "WARNING: Custom link functions will not be loaded.\n",
      "WARNING: Will not save custom link functions.\n",
      "WARNING: Will not save custom link functions.\n",
      "WARNING: Will not save custom link functions.\n",
      "WARNING: Will not save custom link functions.\n",
      "WARNING: Will not save custom link functions.\n",
      "WARNING: Will not save custom link functions.\n",
      "WARNING: Will not save custom link functions.\n",
      "WARNING: Will not save custom link functions.\n",
      "WARNING: Will not save custom link functions.\n",
      "WARNING: Will not save custom link functions.\n",
      "WARNING: Will not save custom link functions.\n",
      "WARNING: Will not save custom link functions.\n",
      "WARNING: Will not save custom link functions.\n",
      "WARNING: Will not save custom link functions.\n",
      "WARNING: Will not save custom link functions.\n",
      "WARNING: Will not save custom link functions.\n",
      "started to generate posterior predicitves\n",
      "started to generate posterior predicitves\n",
      "started to generate posterior predicitves\n",
      "started to generate posterior predicitves\n",
      " [----------       28%                  ] 4 of 14 complete in 7.0 sec[----------       28%                  ] 4 of 14 complete in 7.3 sec[----------       28%                  ] 4 of 14 complete in 7.2 sec[----------       28%                  ] 4 of 14 complete in 7.3 sec[-------------    35%                  ] 5 of 14 complete in 13.9 sec[-------------    35%                  ] 5 of 14 complete in 14.1 sec[-------------    35%                  ] 5 of 14 complete in 14.2 sec[-------------    35%                  ] 5 of 14 complete in 14.2 sec[---------------- 42%                  ] 6 of 14 complete in 20.2 sec[---------------- 42%                  ] 6 of 14 complete in 20.6 sec[---------------- 42%                  ] 6 of 14 complete in 20.5 sec[---------------- 42%                  ] 6 of 14 complete in 20.5 sec[-----------------50%                  ] 7 of 14 complete in 26.1 sec[-----------------50%                  ] 7 of 14 complete in 26.4 sec[-----------------50%                  ] 7 of 14 complete in 26.6 sec[-----------------50%                  ] 7 of 14 complete in 26.7 sec[-----------------57%-                 ] 8 of 14 complete in 32.4 sec[-----------------57%-                 ] 8 of 14 complete in 32.6 sec[-----------------57%-                 ] 8 of 14 complete in 33.0 sec[-----------------57%-                 ] 8 of 14 complete in 32.9 sec[-----------------64%----              ] 9 of 14 complete in 39.1 sec[-----------------64%----              ] 9 of 14 complete in 39.3 sec[-----------------64%----              ] 9 of 14 complete in 39.8 sec[-----------------64%----              ] 9 of 14 complete in 39.7 sec[-----------------71%-------           ] 10 of 14 complete in 45.6 sec[-----------------71%-------           ] 10 of 14 complete in 45.9 sec[-----------------71%-------           ] 10 of 14 complete in 46.2 sec[-----------------71%-------           ] 10 of 14 complete in 46.4 sec[-----------------78%---------         ] 11 of 14 complete in 52.2 sec[-----------------78%---------         ] 11 of 14 complete in 52.5 sec[-----------------78%---------         ] 11 of 14 complete in 52.9 sec[-----------------78%---------         ] 11 of 14 complete in 53.1 sec[-----------------85%------------      ] 12 of 14 complete in 59.0 sec[-----------------85%------------      ] 12 of 14 complete in 59.3 sec[-----------------85%------------      ] 12 of 14 complete in 59.9 sec[-----------------85%------------      ] 12 of 14 complete in 60.0 sec[-----------------92%---------------   ] 13 of 14 complete in 64.1 sec[-----------------92%---------------   ] 13 of 14 complete in 64.4 sec[-----------------92%---------------   ] 13 of 14 complete in 65.0 sec[-----------------92%---------------   ] 13 of 14 complete in 65.2 sec[-----------------100%-----------------] 14 of 14 complete in 71.2 sec[-----------------100%-----------------] 14 of 14 complete in 71.4 sec[-----------------100%-----------------] 14 of 14 complete in 72.2 sec[-----------------100%-----------------] 14 of 14 complete in 72.4 sec[------------------107%------------------] 15 of 14 complete in 78.7 sec[------------------107%------------------] 15 of 14 complete in 79.1 sec[------------------107%------------------] 15 of 14 complete in 79.9 sec[------------------107%------------------] 15 of 14 complete in 80.2 sec[-------------------114%--------------------] 16 of 14 complete in 84.8 sec[-------------------114%--------------------] 16 of 14 complete in 85.1 sec[-------------------114%--------------------] 16 of 14 complete in 86.0 sec[-------------------114%--------------------] 16 of 14 complete in 86.5 sec[---------------------121%---------------------] 17 of 14 complete in 91.5 sec[---------------------121%---------------------] 17 of 14 complete in 91.8 sec[---------------------121%---------------------] 17 of 14 complete in 93.0 sec[---------------------121%---------------------] 17 of 14 complete in 93.5 sec"
     ]
    },
    {
     "data": {
      "application/vnd.jupyter.widget-view+json": {
       "model_id": "dc6c8fa527294fdfb3e4536573cc274d",
       "version_major": 2,
       "version_minor": 0
      },
      "text/plain": [
       "  0%|          | 0/4 [00:00<?, ?it/s]"
      ]
     },
     "metadata": {},
     "output_type": "display_data"
    },
    {
     "name": "stdout",
     "output_type": "stream",
     "text": [
      "WARNING: Custom link functions will not be loaded.\n",
      "WARNING: Custom link functions will not be loaded.\n",
      "WARNING: Custom link functions will not be loaded.\n",
      "WARNING: Custom link functions will not be loaded.\n",
      "started to generate posterior predicitves\n",
      "started to generate posterior predicitves\n",
      "started to generate posterior predicitves\n",
      "started to generate posterior predicitves\n",
      " [----------       28%                  ] 4 of 14 complete in 4.5 sec[----------       28%                  ] 4 of 14 complete in 4.6 sec[----------       28%                  ] 4 of 14 complete in 4.6 sec[----------       28%                  ] 4 of 14 complete in 4.6 sec[-------------    35%                  ] 5 of 14 complete in 9.1 sec[-------------    35%                  ] 5 of 14 complete in 9.1 sec[-------------    35%                  ] 5 of 14 complete in 9.1 sec[-------------    35%                  ] 5 of 14 complete in 9.2 sec[---------------- 42%                  ] 6 of 14 complete in 13.7 sec[---------------- 42%                  ] 6 of 14 complete in 13.7 sec[---------------- 42%                  ] 6 of 14 complete in 13.7 sec[---------------- 42%                  ] 6 of 14 complete in 13.9 sec[-----------------50%                  ] 7 of 14 complete in 17.6 sec[-----------------50%                  ] 7 of 14 complete in 17.6 sec[-----------------50%                  ] 7 of 14 complete in 17.6 sec[-----------------50%                  ] 7 of 14 complete in 17.8 sec[-----------------57%-                 ] 8 of 14 complete in 21.9 sec[-----------------57%-                 ] 8 of 14 complete in 21.8 sec[-----------------57%-                 ] 8 of 14 complete in 22.1 sec[-----------------57%-                 ] 8 of 14 complete in 22.2 sec[-----------------64%----              ] 9 of 14 complete in 26.5 sec[-----------------64%----              ] 9 of 14 complete in 26.4 sec[-----------------64%----              ] 9 of 14 complete in 26.7 sec[-----------------64%----              ] 9 of 14 complete in 26.8 sec[-----------------71%-------           ] 10 of 14 complete in 30.9 sec[-----------------71%-------           ] 10 of 14 complete in 31.1 sec[-----------------71%-------           ] 10 of 14 complete in 31.3 sec[-----------------71%-------           ] 10 of 14 complete in 31.4 sec[-----------------78%---------         ] 11 of 14 complete in 35.3 sec[-----------------78%---------         ] 11 of 14 complete in 35.5 sec[-----------------78%---------         ] 11 of 14 complete in 35.8 sec[-----------------78%---------         ] 11 of 14 complete in 36.0 sec[-----------------85%------------      ] 12 of 14 complete in 39.7 sec[-----------------85%------------      ] 12 of 14 complete in 39.9 sec[-----------------85%------------      ] 12 of 14 complete in 40.3 sec[-----------------85%------------      ] 12 of 14 complete in 40.5 sec[-----------------92%---------------   ] 13 of 14 complete in 43.0 sec[-----------------92%---------------   ] 13 of 14 complete in 43.2 sec[-----------------92%---------------   ] 13 of 14 complete in 43.6 sec[-----------------92%---------------   ] 13 of 14 complete in 43.9 sec[-----------------100%-----------------] 14 of 14 complete in 47.6 sec[-----------------100%-----------------] 14 of 14 complete in 47.8 sec[-----------------100%-----------------] 14 of 14 complete in 48.2 sec[-----------------100%-----------------] 14 of 14 complete in 48.6 sec[------------------107%------------------] 15 of 14 complete in 52.1 sec[------------------107%------------------] 15 of 14 complete in 52.4 sec[------------------107%------------------] 15 of 14 complete in 52.8 sec[------------------107%------------------] 15 of 14 complete in 53.2 sec[-------------------114%--------------------] 16 of 14 complete in 56.1 sec[-------------------114%--------------------] 16 of 14 complete in 56.4 sec[-------------------114%--------------------] 16 of 14 complete in 56.8 sec[-------------------114%--------------------] 16 of 14 complete in 57.3 sec[---------------------121%---------------------] 17 of 14 complete in 60.2 sec[---------------------121%---------------------] 17 of 14 complete in 60.5 sec[---------------------121%---------------------] 17 of 14 complete in 60.9 sec[---------------------121%---------------------] 17 of 14 complete in 61.4 secCPU times: user 1.32 s, sys: 803 ms, total: 2.12 s\n",
      "Wall time: 2min 39s\n"
     ]
    }
   ],
   "source": [
    "%%time\n",
    "InfData_msi = InferenceDataFromHDDM(msires, nppc = 10, save_name=\"msi4\")"
   ]
  },
  {
   "cell_type": "code",
   "execution_count": 94,
   "id": "e9ab4512-4a84-4c3b-9598-19eea3103d42",
   "metadata": {},
   "outputs": [
    {
     "name": "stdout",
     "output_type": "stream",
     "text": [
      "WARNING: Custom link functions will not be loaded.\n",
      "WARNING: Custom link functions will not be loaded.\n",
      "WARNING: Custom link functions will not be loaded.\n",
      "WARNING: Custom link functions will not be loaded.\n"
     ]
    }
   ],
   "source": [
    "msires = Parallel(n_jobs = 4)(delayed(ms1_issue)(id = i, df = df, samples=100,burn = 10,thin=2, save_name = 'msi' ) for i in range(4))"
   ]
  },
  {
   "cell_type": "code",
   "execution_count": 95,
   "id": "aaaf0651-600c-4f1c-a358-50c50870678a",
   "metadata": {},
   "outputs": [
    {
     "name": "stdout",
     "output_type": "stream",
     "text": [
      "start converting msi3\n"
     ]
    },
    {
     "data": {
      "application/vnd.jupyter.widget-view+json": {
       "model_id": "979e3fe3fd914d77b54cee7c560cc43a",
       "version_major": 2,
       "version_minor": 0
      },
      "text/plain": [
       "  0%|          | 0/4 [00:00<?, ?it/s]"
      ]
     },
     "metadata": {},
     "output_type": "display_data"
    },
    {
     "name": "stdout",
     "output_type": "stream",
     "text": [
      "WARNING: Custom link functions will not be loaded.\n",
      "WARNING: Custom link functions will not be loaded.\n",
      "WARNING: Custom link functions will not be loaded.\n",
      "WARNING: Custom link functions will not be loaded.\n",
      "WARNING: Will not save custom link functions.\n",
      "WARNING: Will not save custom link functions.\n",
      "WARNING: Will not save custom link functions.\n",
      "WARNING: Will not save custom link functions.\n",
      "WARNING: Will not save custom link functions.\n",
      "WARNING: Will not save custom link functions.\n",
      "WARNING: Will not save custom link functions.\n",
      "WARNING: Will not save custom link functions.\n",
      "WARNING: Will not save custom link functions.\n",
      "WARNING: Will not save custom link functions.\n",
      "WARNING: Will not save custom link functions.\n",
      "WARNING: Will not save custom link functions.\n",
      "WARNING: Will not save custom link functions.\n",
      "WARNING: Will not save custom link functions.\n",
      "WARNING: Will not save custom link functions.\n",
      "WARNING: Will not save custom link functions.\n",
      "started to generate posterior predicitves\n",
      "started to generate posterior predicitves\n",
      "started to generate posterior predicitves\n",
      "started to generate posterior predicitves\n"
     ]
    },
    {
     "name": "stderr",
     "output_type": "stream",
     "text": [
      "Process ForkPoolWorker-219:\n",
      "Process ForkPoolWorker-220:\n",
      "Process ForkPoolWorker-223:\n",
      "Process ForkPoolWorker-212:\n",
      "Process ForkPoolWorker-215:\n",
      "Process ForkPoolWorker-213:\n",
      "Process ForkPoolWorker-210:\n",
      "Process ForkPoolWorker-224:\n",
      "  File \"/opt/conda/lib/python3.8/site-packages/multiprocess/synchronize.py\", line 101, in __enter__\n",
      "    return self._semlock.__enter__()\n",
      "Process ForkPoolWorker-216:\n",
      "Process ForkPoolWorker-211:\n",
      "Process ForkPoolWorker-218:\n",
      "Process ForkPoolWorker-217:\n",
      "Process ForkPoolWorker-209:\n",
      "Traceback (most recent call last):\n",
      "Traceback (most recent call last):\n",
      "Traceback (most recent call last):\n",
      "Traceback (most recent call last):\n",
      "Traceback (most recent call last):\n",
      "Traceback (most recent call last):\n",
      "Traceback (most recent call last):\n",
      "Traceback (most recent call last):\n",
      "Process ForkPoolWorker-214:\n",
      "Traceback (most recent call last):\n",
      "Traceback (most recent call last):\n",
      "  File \"/opt/conda/lib/python3.8/site-packages/multiprocess/process.py\", line 315, in _bootstrap\n",
      "    self.run()\n",
      "Traceback (most recent call last):\n",
      "  File \"/opt/conda/lib/python3.8/site-packages/multiprocess/process.py\", line 315, in _bootstrap\n",
      "    self.run()\n",
      "  File \"/opt/conda/lib/python3.8/site-packages/multiprocess/process.py\", line 315, in _bootstrap\n",
      "    self.run()\n",
      "  File \"/opt/conda/lib/python3.8/site-packages/multiprocess/process.py\", line 315, in _bootstrap\n",
      "    self.run()\n",
      "  File \"/opt/conda/lib/python3.8/site-packages/multiprocess/process.py\", line 315, in _bootstrap\n",
      "    self.run()\n",
      "  File \"/opt/conda/lib/python3.8/site-packages/multiprocess/process.py\", line 315, in _bootstrap\n",
      "    self.run()\n",
      "  File \"/opt/conda/lib/python3.8/site-packages/multiprocess/process.py\", line 108, in run\n",
      "    self._target(*self._args, **self._kwargs)\n",
      "  File \"/opt/conda/lib/python3.8/site-packages/multiprocess/process.py\", line 315, in _bootstrap\n",
      "    self.run()\n",
      "  File \"/opt/conda/lib/python3.8/site-packages/multiprocess/process.py\", line 108, in run\n",
      "    self._target(*self._args, **self._kwargs)\n",
      "  File \"/opt/conda/lib/python3.8/site-packages/multiprocess/process.py\", line 315, in _bootstrap\n",
      "    self.run()\n",
      "Traceback (most recent call last):\n",
      "Traceback (most recent call last):\n",
      "  File \"/opt/conda/lib/python3.8/site-packages/multiprocess/process.py\", line 108, in run\n",
      "    self._target(*self._args, **self._kwargs)\n",
      "  File \"/opt/conda/lib/python3.8/site-packages/multiprocess/process.py\", line 108, in run\n",
      "    self._target(*self._args, **self._kwargs)\n",
      "  File \"/opt/conda/lib/python3.8/site-packages/multiprocess/process.py\", line 315, in _bootstrap\n",
      "    self.run()\n",
      "  File \"/opt/conda/lib/python3.8/site-packages/multiprocess/process.py\", line 108, in run\n",
      "    self._target(*self._args, **self._kwargs)\n",
      "  File \"/opt/conda/lib/python3.8/site-packages/multiprocess/pool.py\", line 114, in worker\n",
      "    task = get()\n",
      "  File \"/opt/conda/lib/python3.8/site-packages/multiprocess/pool.py\", line 114, in worker\n",
      "    task = get()\n",
      "  File \"/opt/conda/lib/python3.8/site-packages/multiprocess/pool.py\", line 125, in worker\n",
      "    result = (True, func(*args, **kwds))\n",
      "  File \"/opt/conda/lib/python3.8/site-packages/multiprocess/process.py\", line 315, in _bootstrap\n",
      "    self.run()\n",
      "  File \"/opt/conda/lib/python3.8/site-packages/multiprocess/queues.py\", line 358, in get\n",
      "    with self._rlock:\n",
      "  File \"/opt/conda/lib/python3.8/site-packages/multiprocess/process.py\", line 108, in run\n",
      "    self._target(*self._args, **self._kwargs)\n",
      "  File \"/opt/conda/lib/python3.8/site-packages/multiprocess/pool.py\", line 125, in worker\n",
      "    result = (True, func(*args, **kwds))\n",
      "  File \"/opt/conda/lib/python3.8/site-packages/multiprocess/queues.py\", line 358, in get\n",
      "    with self._rlock:\n",
      "  File \"/opt/conda/lib/python3.8/site-packages/multiprocess/process.py\", line 315, in _bootstrap\n",
      "    self.run()\n",
      "  File \"/opt/conda/lib/python3.8/site-packages/multiprocess/process.py\", line 315, in _bootstrap\n",
      "    self.run()\n",
      "  File \"/opt/conda/lib/python3.8/site-packages/multiprocess/process.py\", line 108, in run\n",
      "    self._target(*self._args, **self._kwargs)\n",
      "  File \"/opt/conda/lib/python3.8/site-packages/pathos/helpers/mp_helper.py\", line 15, in <lambda>\n",
      "    func = lambda args: f(*args)\n",
      "  File \"/opt/conda/lib/python3.8/site-packages/pathos/helpers/mp_helper.py\", line 15, in <lambda>\n",
      "    func = lambda args: f(*args)\n",
      "  File \"/opt/conda/lib/python3.8/site-packages/multiprocess/synchronize.py\", line 101, in __enter__\n",
      "    return self._semlock.__enter__()\n",
      "  File \"/opt/conda/lib/python3.8/site-packages/multiprocess/pool.py\", line 114, in worker\n",
      "    task = get()\n",
      "  File \"/opt/conda/lib/python3.8/site-packages/multiprocess/process.py\", line 108, in run\n",
      "    self._target(*self._args, **self._kwargs)\n",
      "  File \"/home/jovyan/scripts/post_pred_gen_redefined.py\", line 153, in post_pred_gen\n",
      "    datasets = _post_pred_generate(node, samples=samples, data=data, append_data=append_data)\n",
      "  File \"/opt/conda/lib/python3.8/site-packages/multiprocess/pool.py\", line 114, in worker\n",
      "    task = get()\n",
      "  File \"/opt/conda/lib/python3.8/site-packages/multiprocess/synchronize.py\", line 101, in __enter__\n",
      "    return self._semlock.__enter__()\n",
      "  File \"/opt/conda/lib/python3.8/site-packages/multiprocess/process.py\", line 108, in run\n",
      "    self._target(*self._args, **self._kwargs)\n",
      "KeyboardInterrupt\n",
      "  File \"/home/jovyan/scripts/post_pred_gen_redefined.py\", line 153, in post_pred_gen\n",
      "    datasets = _post_pred_generate(node, samples=samples, data=data, append_data=append_data)\n",
      "  File \"/opt/conda/lib/python3.8/site-packages/multiprocess/queues.py\", line 358, in get\n",
      "    with self._rlock:\n",
      "  File \"/opt/conda/lib/python3.8/site-packages/multiprocess/pool.py\", line 114, in worker\n",
      "    task = get()\n",
      "  File \"/home/jovyan/scripts/post_pred_gen_redefined.py\", line 77, in _post_pred_generate\n",
      "    sampled_data = bottom_node.random()\n",
      "  File \"/opt/conda/lib/python3.8/site-packages/multiprocess/queues.py\", line 358, in get\n",
      "    with self._rlock:\n",
      "  File \"/opt/conda/lib/python3.8/site-packages/multiprocess/pool.py\", line 125, in worker\n",
      "    result = (True, func(*args, **kwds))\n",
      "  File \"/opt/conda/lib/python3.8/site-packages/multiprocess/process.py\", line 108, in run\n",
      "    self._target(*self._args, **self._kwargs)\n",
      "KeyboardInterrupt\n",
      "  File \"/home/jovyan/scripts/post_pred_gen_redefined.py\", line 77, in _post_pred_generate\n",
      "    sampled_data = bottom_node.random()\n",
      "  File \"/opt/conda/lib/python3.8/site-packages/pathos/helpers/mp_helper.py\", line 15, in <lambda>\n",
      "    func = lambda args: f(*args)\n",
      "  File \"/opt/conda/lib/python3.8/site-packages/multiprocess/synchronize.py\", line 101, in __enter__\n",
      "    return self._semlock.__enter__()\n",
      "  File \"/opt/conda/lib/python3.8/site-packages/hddm/models/hddm_regression.py\", line 47, in random\n",
      "    param_dict[p] = np.asscalar(self.parents.value[p].loc[i])\n",
      "  File \"/opt/conda/lib/python3.8/site-packages/multiprocess/pool.py\", line 114, in worker\n",
      "    task = get()\n",
      "  File \"/home/jovyan/scripts/post_pred_gen_redefined.py\", line 153, in post_pred_gen\n",
      "    datasets = _post_pred_generate(node, samples=samples, data=data, append_data=append_data)\n",
      "KeyboardInterrupt\n",
      "  File \"<__array_function__ internals>\", line 4, in asscalar\n",
      "  File \"/opt/conda/lib/python3.8/site-packages/multiprocess/queues.py\", line 358, in get\n",
      "    with self._rlock:\n",
      "  File \"/home/jovyan/scripts/post_pred_gen_redefined.py\", line 77, in _post_pred_generate\n",
      "    sampled_data = bottom_node.random()\n",
      "  File \"/opt/conda/lib/python3.8/site-packages/hddm/models/hddm_regression.py\", line 47, in random\n",
      "    param_dict[p] = np.asscalar(self.parents.value[p].loc[i])\n",
      "  File \"/opt/conda/lib/python3.8/site-packages/multiprocess/process.py\", line 315, in _bootstrap\n",
      "    self.run()\n",
      "  File \"/opt/conda/lib/python3.8/site-packages/pymc/Container.py\", line 541, in get_value\n",
      "    self.DCValue.run()\n",
      "Traceback (most recent call last):\n",
      "  File \"/opt/conda/lib/python3.8/site-packages/multiprocess/synchronize.py\", line 101, in __enter__\n",
      "    return self._semlock.__enter__()\n",
      "  File \"/opt/conda/lib/python3.8/site-packages/hddm/models/hddm_regression.py\", line 52, in random\n",
      "    sampled_rts.loc[i, 'rt'] = hddm.utils.flip_errors(samples).rt.iloc[0]\n",
      "  File \"/opt/conda/lib/python3.8/site-packages/multiprocess/pool.py\", line 114, in worker\n",
      "    task = get()\n",
      "  File \"/opt/conda/lib/python3.8/site-packages/multiprocess/process.py\", line 108, in run\n",
      "    self._target(*self._args, **self._kwargs)\n",
      "  File \"/opt/conda/lib/python3.8/site-packages/pandas/core/frame.py\", line 3427, in __getitem__\n",
      "    return self._get_item_cache(key)\n",
      "KeyboardInterrupt\n",
      "  File \"/opt/conda/lib/python3.8/site-packages/multiprocess/process.py\", line 315, in _bootstrap\n",
      "    self.run()\n",
      "  File \"/opt/conda/lib/python3.8/site-packages/multiprocess/process.py\", line 108, in run\n",
      "    self._target(*self._args, **self._kwargs)\n",
      "  File \"/opt/conda/lib/python3.8/site-packages/multiprocess/queues.py\", line 358, in get\n",
      "    with self._rlock:\n",
      "  File \"/opt/conda/lib/python3.8/site-packages/numpy/lib/type_check.py\", line 551, in _asscalar_dispatcher\n",
      "    warnings.warn('np.asscalar(a) is deprecated since NumPy v1.16, use '\n",
      "  File \"/opt/conda/lib/python3.8/site-packages/multiprocess/pool.py\", line 114, in worker\n",
      "    task = get()\n",
      "KeyboardInterrupt\n",
      "  File \"/opt/conda/lib/python3.8/site-packages/multiprocess/pool.py\", line 125, in worker\n",
      "    result = (True, func(*args, **kwds))\n",
      "  File \"/opt/conda/lib/python3.8/site-packages/multiprocess/queues.py\", line 358, in get\n",
      "    with self._rlock:\n",
      "  File \"/opt/conda/lib/python3.8/site-packages/multiprocess/synchronize.py\", line 101, in __enter__\n",
      "    return self._semlock.__enter__()\n",
      "  File \"/opt/conda/lib/python3.8/site-packages/pandas/core/generic.py\", line 5486, in __getattr__\n",
      "    return self[name]\n",
      "  File \"/opt/conda/lib/python3.8/site-packages/multiprocess/process.py\", line 108, in run\n",
      "    self._target(*self._args, **self._kwargs)\n",
      "  File \"/opt/conda/lib/python3.8/site-packages/pandas/core/frame.py\", line 3885, in _get_item_cache\n",
      "    values = self._mgr.iget(loc)\n",
      "  File \"/opt/conda/lib/python3.8/site-packages/pathos/helpers/mp_helper.py\", line 15, in <lambda>\n",
      "    func = lambda args: f(*args)\n",
      "Process ForkPoolWorker-221:\n",
      "  File \"/opt/conda/lib/python3.8/site-packages/multiprocess/pool.py\", line 114, in worker\n",
      "    task = get()\n",
      "  File \"/opt/conda/lib/python3.8/site-packages/pandas/core/internals/managers.py\", line 988, in iget\n",
      "    return SingleBlockManager(nb, self.axes[1])\n",
      "KeyboardInterrupt\n",
      "  File \"/home/jovyan/scripts/post_pred_gen_redefined.py\", line 153, in post_pred_gen\n",
      "    datasets = _post_pred_generate(node, samples=samples, data=data, append_data=append_data)\n",
      "  File \"/opt/conda/lib/python3.8/site-packages/multiprocess/queues.py\", line 358, in get\n",
      "    with self._rlock:\n",
      "  File \"/opt/conda/lib/python3.8/site-packages/multiprocess/process.py\", line 108, in run\n",
      "    self._target(*self._args, **self._kwargs)\n",
      "KeyboardInterrupt\n",
      "  File \"/opt/conda/lib/python3.8/site-packages/multiprocess/synchronize.py\", line 101, in __enter__\n",
      "    return self._semlock.__enter__()\n",
      "  File \"/opt/conda/lib/python3.8/site-packages/multiprocess/queues.py\", line 359, in get\n",
      "    res = self._reader.recv_bytes()\n",
      "KeyboardInterrupt\n",
      "  File \"/opt/conda/lib/python3.8/site-packages/pandas/core/internals/managers.py\", line 1546, in __init__\n",
      "    assert isinstance(block, Block), type(block)\n",
      "KeyboardInterrupt\n",
      "Traceback (most recent call last):\n",
      "Process ForkPoolWorker-222:\n",
      "Traceback (most recent call last):\n",
      "  File \"/opt/conda/lib/python3.8/site-packages/multiprocess/synchronize.py\", line 101, in __enter__\n",
      "    return self._semlock.__enter__()\n",
      "KeyboardInterrupt\n",
      "  File \"/home/jovyan/scripts/post_pred_gen_redefined.py\", line 77, in _post_pred_generate\n",
      "    sampled_data = bottom_node.random()\n",
      "  File \"/opt/conda/lib/python3.8/site-packages/multiprocess/process.py\", line 315, in _bootstrap\n",
      "    self.run()\n"
     ]
    },
    {
     "ename": "KeyboardInterrupt",
     "evalue": "",
     "output_type": "error",
     "traceback": [
      "\u001b[0;31m---------------------------------------------------------------------------\u001b[0m",
      "\u001b[0;31mIndexError\u001b[0m                                Traceback (most recent call last)",
      "\u001b[0;32m/opt/conda/lib/python3.8/site-packages/multiprocess/pool.py\u001b[0m in \u001b[0;36mnext\u001b[0;34m(self, timeout)\u001b[0m\n\u001b[1;32m    850\u001b[0m             \u001b[0;32mtry\u001b[0m\u001b[0;34m:\u001b[0m\u001b[0;34m\u001b[0m\u001b[0;34m\u001b[0m\u001b[0m\n\u001b[0;32m--> 851\u001b[0;31m                 \u001b[0mitem\u001b[0m \u001b[0;34m=\u001b[0m \u001b[0mself\u001b[0m\u001b[0;34m.\u001b[0m\u001b[0m_items\u001b[0m\u001b[0;34m.\u001b[0m\u001b[0mpopleft\u001b[0m\u001b[0;34m(\u001b[0m\u001b[0;34m)\u001b[0m\u001b[0;34m\u001b[0m\u001b[0;34m\u001b[0m\u001b[0m\n\u001b[0m\u001b[1;32m    852\u001b[0m             \u001b[0;32mexcept\u001b[0m \u001b[0mIndexError\u001b[0m\u001b[0;34m:\u001b[0m\u001b[0;34m\u001b[0m\u001b[0;34m\u001b[0m\u001b[0m\n",
      "\u001b[0;31mIndexError\u001b[0m: pop from an empty deque",
      "\nDuring handling of the above exception, another exception occurred:\n",
      "\u001b[0;31mKeyboardInterrupt\u001b[0m                         Traceback (most recent call last)",
      "\u001b[0;32m<timed exec>\u001b[0m in \u001b[0;36m<module>\u001b[0;34m\u001b[0m\n",
      "\u001b[0;32m~/scripts/InferenceDataFromHDDM.py\u001b[0m in \u001b[0;36mInferenceDataFromHDDM\u001b[0;34m(modelres, nppc, save_name)\u001b[0m\n\u001b[1;32m     65\u001b[0m         \u001b[0;31m### Posterior predictives\u001b[0m\u001b[0;34m\u001b[0m\u001b[0;34m\u001b[0m\u001b[0;34m\u001b[0m\u001b[0m\n\u001b[1;32m     66\u001b[0m         \u001b[0mxdata_post_pred\u001b[0m \u001b[0;34m=\u001b[0m \u001b[0;34m[\u001b[0m\u001b[0;34m]\u001b[0m \u001b[0;31m# define an empty dict\u001b[0m\u001b[0;34m\u001b[0m\u001b[0;34m\u001b[0m\u001b[0m\n\u001b[0;32m---> 67\u001b[0;31m         \u001b[0mxdata_post_pred\u001b[0m \u001b[0;34m=\u001b[0m \u001b[0mp_map\u001b[0m\u001b[0;34m(\u001b[0m\u001b[0mpartial\u001b[0m\u001b[0;34m(\u001b[0m\u001b[0mpost_pred_gen\u001b[0m\u001b[0;34m,\u001b[0m \u001b[0msamples\u001b[0m \u001b[0;34m=\u001b[0m \u001b[0mnppc\u001b[0m\u001b[0;34m)\u001b[0m\u001b[0;34m,\u001b[0m \u001b[0mms_tmp\u001b[0m\u001b[0;34m)\u001b[0m\u001b[0;34m\u001b[0m\u001b[0;34m\u001b[0m\u001b[0m\n\u001b[0m\u001b[1;32m     68\u001b[0m \u001b[0;34m\u001b[0m\u001b[0m\n\u001b[1;32m     69\u001b[0m         \u001b[0;32mfor\u001b[0m \u001b[0mchain\u001b[0m \u001b[0;32min\u001b[0m \u001b[0mrange\u001b[0m\u001b[0;34m(\u001b[0m\u001b[0mlen\u001b[0m\u001b[0;34m(\u001b[0m\u001b[0mxdata_post_pred\u001b[0m\u001b[0;34m)\u001b[0m\u001b[0;34m)\u001b[0m\u001b[0;34m:\u001b[0m\u001b[0;34m\u001b[0m\u001b[0;34m\u001b[0m\u001b[0m\n",
      "\u001b[0;32m/opt/conda/lib/python3.8/site-packages/p_tqdm/p_tqdm.py\u001b[0m in \u001b[0;36mp_map\u001b[0;34m(function, *iterables, **kwargs)\u001b[0m\n\u001b[1;32m     63\u001b[0m     \u001b[0mordered\u001b[0m \u001b[0;34m=\u001b[0m \u001b[0;32mTrue\u001b[0m\u001b[0;34m\u001b[0m\u001b[0;34m\u001b[0m\u001b[0m\n\u001b[1;32m     64\u001b[0m     \u001b[0mgenerator\u001b[0m \u001b[0;34m=\u001b[0m \u001b[0m_parallel\u001b[0m\u001b[0;34m(\u001b[0m\u001b[0mordered\u001b[0m\u001b[0;34m,\u001b[0m \u001b[0mfunction\u001b[0m\u001b[0;34m,\u001b[0m \u001b[0;34m*\u001b[0m\u001b[0miterables\u001b[0m\u001b[0;34m,\u001b[0m \u001b[0;34m**\u001b[0m\u001b[0mkwargs\u001b[0m\u001b[0;34m)\u001b[0m\u001b[0;34m\u001b[0m\u001b[0;34m\u001b[0m\u001b[0m\n\u001b[0;32m---> 65\u001b[0;31m     \u001b[0mresult\u001b[0m \u001b[0;34m=\u001b[0m \u001b[0mlist\u001b[0m\u001b[0;34m(\u001b[0m\u001b[0mgenerator\u001b[0m\u001b[0;34m)\u001b[0m\u001b[0;34m\u001b[0m\u001b[0;34m\u001b[0m\u001b[0m\n\u001b[0m\u001b[1;32m     66\u001b[0m \u001b[0;34m\u001b[0m\u001b[0m\n\u001b[1;32m     67\u001b[0m     \u001b[0;32mreturn\u001b[0m \u001b[0mresult\u001b[0m\u001b[0;34m\u001b[0m\u001b[0;34m\u001b[0m\u001b[0m\n",
      "\u001b[0;32m/opt/conda/lib/python3.8/site-packages/p_tqdm/p_tqdm.py\u001b[0m in \u001b[0;36m_parallel\u001b[0;34m(ordered, function, *iterables, **kwargs)\u001b[0m\n\u001b[1;32m     52\u001b[0m     \u001b[0mtqdm_func\u001b[0m \u001b[0;34m=\u001b[0m \u001b[0mkwargs\u001b[0m\u001b[0;34m.\u001b[0m\u001b[0mpop\u001b[0m\u001b[0;34m(\u001b[0m\u001b[0;34m'tqdm'\u001b[0m\u001b[0;34m,\u001b[0m \u001b[0mtqdm\u001b[0m\u001b[0;34m)\u001b[0m\u001b[0;34m\u001b[0m\u001b[0;34m\u001b[0m\u001b[0m\n\u001b[1;32m     53\u001b[0m \u001b[0;34m\u001b[0m\u001b[0m\n\u001b[0;32m---> 54\u001b[0;31m     \u001b[0;32mfor\u001b[0m \u001b[0mitem\u001b[0m \u001b[0;32min\u001b[0m \u001b[0mtqdm_func\u001b[0m\u001b[0;34m(\u001b[0m\u001b[0mmap_func\u001b[0m\u001b[0;34m(\u001b[0m\u001b[0mfunction\u001b[0m\u001b[0;34m,\u001b[0m \u001b[0;34m*\u001b[0m\u001b[0miterables\u001b[0m\u001b[0;34m)\u001b[0m\u001b[0;34m,\u001b[0m \u001b[0mtotal\u001b[0m\u001b[0;34m=\u001b[0m\u001b[0mlength\u001b[0m\u001b[0;34m,\u001b[0m \u001b[0;34m**\u001b[0m\u001b[0mkwargs\u001b[0m\u001b[0;34m)\u001b[0m\u001b[0;34m:\u001b[0m\u001b[0;34m\u001b[0m\u001b[0;34m\u001b[0m\u001b[0m\n\u001b[0m\u001b[1;32m     55\u001b[0m         \u001b[0;32myield\u001b[0m \u001b[0mitem\u001b[0m\u001b[0;34m\u001b[0m\u001b[0;34m\u001b[0m\u001b[0m\n\u001b[1;32m     56\u001b[0m \u001b[0;34m\u001b[0m\u001b[0m\n",
      "\u001b[0;32m/opt/conda/lib/python3.8/site-packages/tqdm/notebook.py\u001b[0m in \u001b[0;36m__iter__\u001b[0;34m(self)\u001b[0m\n\u001b[1;32m    252\u001b[0m     \u001b[0;32mdef\u001b[0m \u001b[0m__iter__\u001b[0m\u001b[0;34m(\u001b[0m\u001b[0mself\u001b[0m\u001b[0;34m)\u001b[0m\u001b[0;34m:\u001b[0m\u001b[0;34m\u001b[0m\u001b[0;34m\u001b[0m\u001b[0m\n\u001b[1;32m    253\u001b[0m         \u001b[0;32mtry\u001b[0m\u001b[0;34m:\u001b[0m\u001b[0;34m\u001b[0m\u001b[0;34m\u001b[0m\u001b[0m\n\u001b[0;32m--> 254\u001b[0;31m             \u001b[0;32mfor\u001b[0m \u001b[0mobj\u001b[0m \u001b[0;32min\u001b[0m \u001b[0msuper\u001b[0m\u001b[0;34m(\u001b[0m\u001b[0mtqdm_notebook\u001b[0m\u001b[0;34m,\u001b[0m \u001b[0mself\u001b[0m\u001b[0;34m)\u001b[0m\u001b[0;34m.\u001b[0m\u001b[0m__iter__\u001b[0m\u001b[0;34m(\u001b[0m\u001b[0;34m)\u001b[0m\u001b[0;34m:\u001b[0m\u001b[0;34m\u001b[0m\u001b[0;34m\u001b[0m\u001b[0m\n\u001b[0m\u001b[1;32m    255\u001b[0m                 \u001b[0;31m# return super(tqdm...) will not catch exception\u001b[0m\u001b[0;34m\u001b[0m\u001b[0;34m\u001b[0m\u001b[0;34m\u001b[0m\u001b[0m\n\u001b[1;32m    256\u001b[0m                 \u001b[0;32myield\u001b[0m \u001b[0mobj\u001b[0m\u001b[0;34m\u001b[0m\u001b[0;34m\u001b[0m\u001b[0m\n",
      "\u001b[0;32m/opt/conda/lib/python3.8/site-packages/tqdm/std.py\u001b[0m in \u001b[0;36m__iter__\u001b[0;34m(self)\u001b[0m\n\u001b[1;32m   1176\u001b[0m \u001b[0;34m\u001b[0m\u001b[0m\n\u001b[1;32m   1177\u001b[0m         \u001b[0;32mtry\u001b[0m\u001b[0;34m:\u001b[0m\u001b[0;34m\u001b[0m\u001b[0;34m\u001b[0m\u001b[0m\n\u001b[0;32m-> 1178\u001b[0;31m             \u001b[0;32mfor\u001b[0m \u001b[0mobj\u001b[0m \u001b[0;32min\u001b[0m \u001b[0miterable\u001b[0m\u001b[0;34m:\u001b[0m\u001b[0;34m\u001b[0m\u001b[0;34m\u001b[0m\u001b[0m\n\u001b[0m\u001b[1;32m   1179\u001b[0m                 \u001b[0;32myield\u001b[0m \u001b[0mobj\u001b[0m\u001b[0;34m\u001b[0m\u001b[0;34m\u001b[0m\u001b[0m\n\u001b[1;32m   1180\u001b[0m                 \u001b[0;31m# Update and possibly print the progressbar.\u001b[0m\u001b[0;34m\u001b[0m\u001b[0;34m\u001b[0m\u001b[0;34m\u001b[0m\u001b[0m\n",
      "\u001b[0;32m/opt/conda/lib/python3.8/site-packages/multiprocess/pool.py\u001b[0m in \u001b[0;36mnext\u001b[0;34m(self, timeout)\u001b[0m\n\u001b[1;32m    854\u001b[0m                     \u001b[0mself\u001b[0m\u001b[0;34m.\u001b[0m\u001b[0m_pool\u001b[0m \u001b[0;34m=\u001b[0m \u001b[0;32mNone\u001b[0m\u001b[0;34m\u001b[0m\u001b[0;34m\u001b[0m\u001b[0m\n\u001b[1;32m    855\u001b[0m                     \u001b[0;32mraise\u001b[0m \u001b[0mStopIteration\u001b[0m \u001b[0;32mfrom\u001b[0m \u001b[0;32mNone\u001b[0m\u001b[0;34m\u001b[0m\u001b[0;34m\u001b[0m\u001b[0m\n\u001b[0;32m--> 856\u001b[0;31m                 \u001b[0mself\u001b[0m\u001b[0;34m.\u001b[0m\u001b[0m_cond\u001b[0m\u001b[0;34m.\u001b[0m\u001b[0mwait\u001b[0m\u001b[0;34m(\u001b[0m\u001b[0mtimeout\u001b[0m\u001b[0;34m)\u001b[0m\u001b[0;34m\u001b[0m\u001b[0;34m\u001b[0m\u001b[0m\n\u001b[0m\u001b[1;32m    857\u001b[0m                 \u001b[0;32mtry\u001b[0m\u001b[0;34m:\u001b[0m\u001b[0;34m\u001b[0m\u001b[0;34m\u001b[0m\u001b[0m\n\u001b[1;32m    858\u001b[0m                     \u001b[0mitem\u001b[0m \u001b[0;34m=\u001b[0m \u001b[0mself\u001b[0m\u001b[0;34m.\u001b[0m\u001b[0m_items\u001b[0m\u001b[0;34m.\u001b[0m\u001b[0mpopleft\u001b[0m\u001b[0;34m(\u001b[0m\u001b[0;34m)\u001b[0m\u001b[0;34m\u001b[0m\u001b[0;34m\u001b[0m\u001b[0m\n",
      "\u001b[0;32m/opt/conda/lib/python3.8/threading.py\u001b[0m in \u001b[0;36mwait\u001b[0;34m(self, timeout)\u001b[0m\n\u001b[1;32m    300\u001b[0m         \u001b[0;32mtry\u001b[0m\u001b[0;34m:\u001b[0m    \u001b[0;31m# restore state no matter what (e.g., KeyboardInterrupt)\u001b[0m\u001b[0;34m\u001b[0m\u001b[0;34m\u001b[0m\u001b[0m\n\u001b[1;32m    301\u001b[0m             \u001b[0;32mif\u001b[0m \u001b[0mtimeout\u001b[0m \u001b[0;32mis\u001b[0m \u001b[0;32mNone\u001b[0m\u001b[0;34m:\u001b[0m\u001b[0;34m\u001b[0m\u001b[0;34m\u001b[0m\u001b[0m\n\u001b[0;32m--> 302\u001b[0;31m                 \u001b[0mwaiter\u001b[0m\u001b[0;34m.\u001b[0m\u001b[0macquire\u001b[0m\u001b[0;34m(\u001b[0m\u001b[0;34m)\u001b[0m\u001b[0;34m\u001b[0m\u001b[0;34m\u001b[0m\u001b[0m\n\u001b[0m\u001b[1;32m    303\u001b[0m                 \u001b[0mgotit\u001b[0m \u001b[0;34m=\u001b[0m \u001b[0;32mTrue\u001b[0m\u001b[0;34m\u001b[0m\u001b[0;34m\u001b[0m\u001b[0m\n\u001b[1;32m    304\u001b[0m             \u001b[0;32melse\u001b[0m\u001b[0;34m:\u001b[0m\u001b[0;34m\u001b[0m\u001b[0;34m\u001b[0m\u001b[0m\n",
      "\u001b[0;31mKeyboardInterrupt\u001b[0m: "
     ]
    },
    {
     "name": "stderr",
     "output_type": "stream",
     "text": [
      "  File \"/opt/conda/lib/python3.8/site-packages/multiprocess/connection.py\", line 219, in recv_bytes\n",
      "    buf = self._recv_bytes(maxlength)\n",
      "  File \"/opt/conda/lib/python3.8/site-packages/multiprocess/pool.py\", line 114, in worker\n",
      "    task = get()\n",
      "  File \"/opt/conda/lib/python3.8/site-packages/multiprocess/queues.py\", line 358, in get\n",
      "    with self._rlock:\n",
      "  File \"/opt/conda/lib/python3.8/site-packages/hddm/models/hddm_regression.py\", line 52, in random\n",
      "    sampled_rts.loc[i, 'rt'] = hddm.utils.flip_errors(samples).rt.iloc[0]\n",
      "KeyboardInterrupt\n",
      "  File \"/opt/conda/lib/python3.8/site-packages/multiprocess/connection.py\", line 417, in _recv_bytes\n",
      "    buf = self._recv(4)\n",
      "  File \"/opt/conda/lib/python3.8/site-packages/multiprocess/process.py\", line 108, in run\n",
      "    self._target(*self._args, **self._kwargs)\n",
      "  File \"/opt/conda/lib/python3.8/site-packages/multiprocess/connection.py\", line 382, in _recv\n",
      "    chunk = read(handle, remaining)\n",
      "  File \"/opt/conda/lib/python3.8/site-packages/multiprocess/synchronize.py\", line 101, in __enter__\n",
      "    return self._semlock.__enter__()\n",
      "  File \"/opt/conda/lib/python3.8/site-packages/multiprocess/process.py\", line 315, in _bootstrap\n",
      "    self.run()\n",
      "KeyboardInterrupt\n",
      "KeyboardInterrupt\n",
      "  File \"/opt/conda/lib/python3.8/site-packages/multiprocess/process.py\", line 108, in run\n",
      "    self._target(*self._args, **self._kwargs)\n",
      "  File \"/opt/conda/lib/python3.8/site-packages/hddm/utils.py\", line 35, in flip_errors\n",
      "    data.loc[idx, 'rt'] = -data.loc[idx, 'rt']\n",
      "  File \"/opt/conda/lib/python3.8/site-packages/multiprocess/pool.py\", line 114, in worker\n",
      "    task = get()\n",
      "KeyboardInterrupt\n",
      "  File \"/opt/conda/lib/python3.8/site-packages/multiprocess/pool.py\", line 114, in worker\n",
      "    task = get()\n",
      "  File \"/opt/conda/lib/python3.8/site-packages/multiprocess/queues.py\", line 358, in get\n",
      "    with self._rlock:\n",
      "  File \"/opt/conda/lib/python3.8/site-packages/pandas/core/indexing.py\", line 925, in __getitem__\n",
      "    return self._getitem_tuple(key)\n",
      "  File \"/opt/conda/lib/python3.8/site-packages/multiprocess/synchronize.py\", line 101, in __enter__\n",
      "    return self._semlock.__enter__()\n",
      "  File \"/opt/conda/lib/python3.8/site-packages/multiprocess/queues.py\", line 358, in get\n",
      "    with self._rlock:\n",
      "KeyboardInterrupt\n",
      "  File \"/opt/conda/lib/python3.8/site-packages/pandas/core/indexing.py\", line 1100, in _getitem_tuple\n",
      "    return self._getitem_lowerdim(tup)\n",
      "  File \"/opt/conda/lib/python3.8/site-packages/multiprocess/synchronize.py\", line 101, in __enter__\n",
      "    return self._semlock.__enter__()\n",
      "KeyboardInterrupt\n",
      "  File \"/opt/conda/lib/python3.8/site-packages/pandas/core/indexing.py\", line 862, in _getitem_lowerdim\n",
      "    return getattr(section, self.name)[new_key]\n",
      "  File \"/opt/conda/lib/python3.8/site-packages/pandas/core/indexing.py\", line 931, in __getitem__\n",
      "    return self._getitem_axis(maybe_callable, axis=axis)\n",
      "  File \"/opt/conda/lib/python3.8/site-packages/pandas/core/indexing.py\", line 1143, in _getitem_axis\n",
      "    elif com.is_bool_indexer(key):\n",
      "  File \"/opt/conda/lib/python3.8/site-packages/pandas/core/common.py\", line 131, in is_bool_indexer\n",
      "    if key.dtype == np.object_:\n"
     ]
    }
   ],
   "source": [
    "%%time\n",
    "InfData_msi = InferenceDataFromHDDM(msires, nppc = 10, save_name=\"msi3\")"
   ]
  },
  {
   "cell_type": "code",
   "execution_count": null,
   "id": "a91de12b-0f7d-4b60-b0fa-29f058122e70",
   "metadata": {},
   "outputs": [],
   "source": []
  }
 ],
 "metadata": {
  "kernelspec": {
   "display_name": "Python 3",
   "language": "python",
   "name": "python3"
  },
  "language_info": {
   "codemirror_mode": {
    "name": "ipython",
    "version": 3
   },
   "file_extension": ".py",
   "mimetype": "text/x-python",
   "name": "python",
   "nbconvert_exporter": "python",
   "pygments_lexer": "ipython3",
   "version": "3.8.8"
  }
 },
 "nbformat": 4,
 "nbformat_minor": 5
}
